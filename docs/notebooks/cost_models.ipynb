{
 "cells": [
  {
   "cell_type": "markdown",
   "metadata": {},
   "source": [
    "## Cost Models"
   ]
  },
  {
   "cell_type": "markdown",
   "metadata": {},
   "source": [
    "[Try this yourself](https://colab.research.google.com/github/DTUWindEnergy/TopFarm2/blob/master/docs/notebooks/cost_models.ipynb) (requires google account)\n"
   ]
  },
  {
   "cell_type": "markdown",
   "metadata": {},
   "source": [
    "TOPFARM comes with two built-in cost models, a re-implementation of the **National Renewable Energy Laboratory (NREL) Cost and Scaling Model** provided by DTU and an original and more recent **DTU Cost Model**. Such models are currently being refined, so they are presented in this notebook in the form of toy-problems. Moreover, additional user-defined cost models can easily be integrated in the TOPFARM optimization problems as well. "
   ]
  },
  {
   "cell_type": "markdown",
   "metadata": {},
   "source": [
    "**Install TOPFARM if needed**"
   ]
  },
  {
   "cell_type": "code",
   "execution_count": null,
   "metadata": {},
   "outputs": [],
   "source": [
    "# Install TopFarm if needed\n",
    "import importlib\n",
    "if not importlib.util.find_spec(\"topfarm\"):\n",
    "    !pip install git+https://gitlab.windenergy.dtu.dk/TOPFARM/TopFarm2.git"
   ]
  },
  {
   "cell_type": "markdown",
   "metadata": {},
   "source": [
    "### Cost Model 1: DTU implementation of the NREL Cost and Scaling Model\n",
    "\n",
    "First we are going to see the National Renewable Energy Laboratory (NREL) Cost and Scaling Model in its Python implementation provided by DTU. Such model is based on the 2006 _Wind Turbine Design Cost and Scaling Model_ technical report, which can be found [here](https://www.nrel.gov/docs/fy07osti/40566.pdf).\n",
    "\n",
    "The model was developed from the early to mid-2000s as part of the Wind Partnership for Advanced Component Technology (WindPACT), which was at that time exploring innovative turbine design as well as innovations on the balance of plant and operations. Several detailed design studies on the turbine and plant design and cost were made; for publications associated with the WindPACT program, see: [WindPACT publication list](https://nrel.primo.exlibrisgroup.com/discovery/search?query=any,contains,windpact&tab=NREL_Publications&search_scope=NREL_Publications&vid=01NREL_INST:Pubs&offset=0).\n",
    "\n",
    "The NREL cost and scaling model was developed starting from the WindPACT studies through a set of curve-fits, in order to underly detailed design data including:\n",
    "\n",
    "- Turbine component masses and costs\n",
    "- Balance of system costs\n",
    "- Operational expenditures\n",
    "- Financing and other costs\n",
    "\n",
    "Over time, changes in turbine and plant technology have rendered the NREL cost and scaling model less used, but it is still useful as a publicly available, full Levelized Cost of Energy (LCoE) model for wind energy."
   ]
  },
  {
   "cell_type": "markdown",
   "metadata": {},
   "source": [
    "**Import Topfarm models to set up an LCOE workflow including the cost model**"
   ]
  },
  {
   "cell_type": "code",
   "execution_count": null,
   "metadata": {},
   "outputs": [],
   "source": [
    "# Import numerical python\n",
    "import numpy as np\n",
    "\n",
    "# Import pywake models including the IEA Wind Task 37 case study site, the Gaussian wake model and the AEP calculator\n",
    "from py_wake.examples.data.iea37._iea37 import IEA37_WindTurbines, IEA37Site\n",
    "from py_wake.deficit_models.gaussian import IEA37SimpleBastankhahGaussian\n",
    "\n",
    "# Import Topfarm implementation of NREL Cost and Scaling model\n",
    "from topfarm.cost_models.economic_models.turbine_cost import economic_evaluation as ee_1\n",
    "\n",
    "# Import Topfarm constraints for site boundary and spacing\n",
    "from topfarm.drivers.random_search_driver import RandomizeTurbinePosition_Circle\n",
    "from topfarm.constraint_components.boundary import CircleBoundaryConstraint\n",
    "from topfarm.constraint_components.spacing import SpacingConstraint\n",
    "\n",
    "# Import Topfarm support classes for setting up problem and workflow\n",
    "from topfarm.cost_models.cost_model_wrappers import CostModelComponent, AEPCostModelComponent\n",
    "from topfarm.cost_models.py_wake_wrapper import PyWakeAEPCostModelComponent\n",
    "from topfarm import TopFarmGroup, TopFarmProblem\n",
    "from topfarm.plotting import XYPlotComp, NoPlot\n",
    "\n",
    "# Import Topfarm implementation of Random Search or Scipy drivers \n",
    "from topfarm.easy_drivers import EasyRandomSearchDriver\n",
    "from topfarm.easy_drivers import EasyScipyOptimizeDriver\n",
    "from topfarm.easy_drivers import EasySimpleGADriver"
   ]
  },
  {
   "cell_type": "markdown",
   "metadata": {},
   "source": [
    "**Set up plotting capability**"
   ]
  },
  {
   "cell_type": "code",
   "execution_count": null,
   "metadata": {},
   "outputs": [],
   "source": [
    "try:\n",
    "    import matplotlib.pyplot as plt\n",
    "    plt.gcf()\n",
    "    plot_comp = XYPlotComp()\n",
    "    plot = True\n",
    "except RuntimeError:\n",
    "    plot_comp = NoPlot()\n",
    "    plot = False"
   ]
  },
  {
   "cell_type": "markdown",
   "metadata": {},
   "source": [
    "**Set up IEA Wind Task 37 case study site with 16 turbines.**"
   ]
  },
  {
   "cell_type": "code",
   "execution_count": null,
   "metadata": {},
   "outputs": [],
   "source": [
    "# site set up\n",
    "n_wt = 16 # number of wind turbines\n",
    "site = IEA37Site(n_wt) # site is the IEA Wind Task 37 site with a circle boundary\n",
    "windTurbines = IEA37_WindTurbines() # wind turbines are the IEA Wind Task 37 3.4 MW reference turbine\n",
    "wake_model = IEA37SimpleBastankhahGaussian(site, windTurbines) # select the Gaussian wake model\n",
    "\n",
    "# vectors for turbine properties: diameter, rated power and hub height. these are inputs to the cost model\n",
    "Drotor_vector = [windTurbines.diameter()] * n_wt \n",
    "power_rated_vector = [float(windTurbines.power(20)/1000)] * n_wt \n",
    "hub_height_vector = [windTurbines.hub_height()] * n_wt "
   ]
  },
  {
   "cell_type": "markdown",
   "metadata": {},
   "source": [
    "**Set up functions for the AEP and cost calculations. Here we are using the internal rate of return (IRR) as our financial metric of interest.**"
   ]
  },
  {
   "cell_type": "code",
   "execution_count": null,
   "metadata": {},
   "outputs": [],
   "source": [
    "# function for calculating aep as a function of x,y positions of the wind turbiens\n",
    "def aep_func(x, y, **kwargs):\n",
    "    return wake_model(x, y).aep().sum(['wd','ws']).values*10**6\n",
    "\n",
    "# function for calculating overall internal rate of return (IRR)\n",
    "def irr_func(aep, **kwargs):\n",
    "    my_irr = ee_1(Drotor_vector, power_rated_vector, hub_height_vector, aep).calculate_irr()\n",
    "    #print(my_irr)\n",
    "    return my_irr"
   ]
  },
  {
   "cell_type": "markdown",
   "metadata": {},
   "source": [
    "**Now set up a problem to run an optimization using IRR as the objective function.**\n",
    "\n",
    "Note that the turbines are fixed so the main driver changing the IRR will be the AEP as the turbine positions change. Here you can select different drivers to see how the optimization result changes."
   ]
  },
  {
   "cell_type": "code",
   "execution_count": null,
   "metadata": {},
   "outputs": [],
   "source": [
    "# create an openmdao component for aep and irr to add to the problem\n",
    "aep_comp = CostModelComponent(input_keys=['x','y'],\n",
    "                              n_wt=n_wt,\n",
    "                              cost_function=aep_func,\n",
    "                              output_keys=\"aep\",\n",
    "                              output_unit=\"GWh\",\n",
    "                              objective=False,\n",
    "                              output_vals=np.zeros(n_wt))\n",
    "\n",
    "irr_comp = CostModelComponent(input_keys=['aep'],\n",
    "                              n_wt=n_wt,\n",
    "                              cost_function=irr_func,\n",
    "                              output_keys=\"irr\",\n",
    "                              output_unit=\"%\",\n",
    "                              objective=True,\n",
    "                              maximize=True)\n",
    "\n",
    "# create a group for the aep and irr components that links their common input/output (aep) \n",
    "irr_group = TopFarmGroup([aep_comp, irr_comp])\n",
    "\n",
    "# add the group to an optimization problem and specify the design variables (turbine positions), \n",
    "# cost function (irr_group), and constraints (circular boundary and spacing)\n",
    "problem = TopFarmProblem(\n",
    "        design_vars=dict(zip('xy', site.initial_position.T)),\n",
    "        n_wt = n_wt,\n",
    "        cost_comp=irr_group,\n",
    "    \n",
    "        #specify driver to use: random search (gradient-free), COBYLA (gradient-free), genetic algorithm, GA (gradient-free)\n",
    "        driver = EasyRandomSearchDriver(randomize_func=RandomizeTurbinePosition_Circle(), max_iter=30),\n",
    "        #driver=EasyScipyOptimizeDriver(optimizer='COBYLA', maxiter=200, tol=1e-6, disp=False),\n",
    "        #driver=EasySimpleGADriver(max_gen=100, pop_size=5, Pm=None, Pc=.5, elitism=True, bits={}),\n",
    "        \n",
    "        constraints=[SpacingConstraint(200),\n",
    "                     CircleBoundaryConstraint([0, 0], 1300.1)],\n",
    "        plot_comp=plot_comp)\n",
    "\n",
    "# assign data from optimizationn to a set of accessible variables and run the optimization\n",
    "cost, state, recorder = problem.optimize()"
   ]
  },
  {
   "cell_type": "markdown",
   "metadata": {},
   "source": [
    "From the results it can be seen that the IRR has been increased by 1.76% from the baseline and it took 154 iterations while using the random search driver."
   ]
  },
  {
   "cell_type": "markdown",
   "metadata": {},
   "source": [
    "### Exercise\n",
    "\n",
    "Play with the driver in the topfarm problem above to see if an improved objective function can be obtained."
   ]
  },
  {
   "cell_type": "markdown",
   "metadata": {},
   "source": [
    "### Cost Model 2: DTU Cost Model\n",
    "\n",
    "The new DTU Cost Model is based on recent industrial data. Its structure is similar to the NREL cost and scaling model and it contains the major elements to calculate the LCoE, the IRR etcetera. As the DTU implementation of the NREL model, also the original DTU model is being refined; one innovative key element which will be introduced soon is the use of a detailed financial cash flow analysis.\n",
    "\n",
    "More information about the background of the DTU Cost model can be found [here](https://topfarm.pages.windenergy.dtu.dk/TopFarm2/user_guide.html#dtu-cost-model), while the source code documentation can be found [here](https://topfarm.pages.windenergy.dtu.dk/TopFarm2/api_reference/dtucost.html)."
   ]
  },
  {
   "cell_type": "markdown",
   "metadata": {},
   "source": [
    "**Import the new DTU Cost model**"
   ]
  },
  {
   "cell_type": "code",
   "execution_count": null,
   "metadata": {},
   "outputs": [],
   "source": [
    "#import the DTU cost model\n",
    "from topfarm.cost_models.economic_models.dtu_wind_cm_main import economic_evaluation as ee_2"
   ]
  },
  {
   "cell_type": "markdown",
   "metadata": {},
   "source": [
    "**Set up the site and inputs as before but with additional cost variables.**"
   ]
  },
  {
   "cell_type": "code",
   "execution_count": null,
   "metadata": {},
   "outputs": [],
   "source": [
    "# site set up\n",
    "n_wt = 16 # number of wind turbines\n",
    "site = IEA37Site(n_wt) # site is the IEA Wind Task 37 site with a circle boundary\n",
    "windTurbines = IEA37_WindTurbines() # wind turbines are the IEA Wind Task 37 3.4 MW reference turbine\n",
    "wake_model = IEA37SimpleBastankhahGaussian(site, windTurbines) # select the Gaussian wake model\n",
    "AEPComp = PyWakeAEPCostModelComponent(wake_model, n_wt) # set up AEP caculator to use Gaussiann model\n",
    "\n",
    "# vectors for turbine properties: diameter, rated power and hub height. these are inputs to the cost model\n",
    "Drotor_vector = [windTurbines.diameter()] * n_wt \n",
    "power_rated_vector = [float(windTurbines.power(20))*1e-6] * n_wt \n",
    "hub_height_vector = [windTurbines.hub_height()] * n_wt \n",
    "\n",
    "# add additional cost model inputs for shore distance, energy price, project lifetime, rated rotor speed and water depth\n",
    "distance_from_shore = 30         # [km]\n",
    "energy_price = 0.1               # [Euro/kWh] What we get per kWh\n",
    "project_duration = 20            # [years]    \n",
    "rated_rpm_array = [12] * n_wt    # [rpm]\n",
    "water_depth_array = [15] * n_wt  # [m]"
   ]
  },
  {
   "cell_type": "markdown",
   "metadata": {},
   "source": [
    "**Set up the cost function to use the new DTU cost model.**"
   ]
  },
  {
   "cell_type": "code",
   "execution_count": null,
   "metadata": {},
   "outputs": [],
   "source": [
    "# set up function for new cost model with initial inputs as set above\n",
    "eco_eval = ee_2(distance_from_shore, energy_price, project_duration)\n",
    "\n",
    "# function for calculating aep as a function of x,y positions of the wind turbiens\n",
    "def aep_func(x, y, **kwargs):\n",
    "    return wake_model(x, y).aep().sum(['wd','ws']).values*10**6\n",
    "\n",
    "# function for calculating overall internal rate of return (IRR)\n",
    "def irr_func(aep, **kwargs):\n",
    "    eco_eval.calculate_irr(rated_rpm_array, Drotor_vector, power_rated_vector, hub_height_vector, water_depth_array, aep)\n",
    "    #print(eco_eval.IRR)\n",
    "    return eco_eval.IRR"
   ]
  },
  {
   "cell_type": "markdown",
   "metadata": {},
   "source": [
    "**Set up rest of problem just as in prior example and run optimization with new model.**"
   ]
  },
  {
   "cell_type": "code",
   "execution_count": null,
   "metadata": {},
   "outputs": [],
   "source": [
    "# create an openmdao component for aep and irr to add to the problem\n",
    "aep_comp = CostModelComponent(input_keys=['x','y'],\n",
    "                              n_wt=n_wt,\n",
    "                              cost_function=aep_func,\n",
    "                              output_keys=\"aep\",\n",
    "                              output_unit=\"kWh\",\n",
    "                              objective=False,\n",
    "                              output_vals=np.zeros(n_wt))\n",
    "\n",
    "irr_comp = CostModelComponent(input_keys=['aep'],\n",
    "                              n_wt=n_wt,\n",
    "                              cost_function=irr_func,\n",
    "                              output_keys=\"irr\",\n",
    "                              output_unit=\"%\",\n",
    "                              objective=True,\n",
    "                              maximize=True)\n",
    "\n",
    "# create a group for the aep and irr components that links their common input/output (aep) \n",
    "irr_group = TopFarmGroup([aep_comp, irr_comp])\n",
    "\n",
    "# add the group to an optimization problem and specify the design variables (turbine positions), \n",
    "# cost function (irr_group), driver (random search), and constraints (circular boundary and spacing)\n",
    "problem = TopFarmProblem(\n",
    "    design_vars=dict(zip('xy', site.initial_position.T)),\n",
    "    n_wt = n_wt,\n",
    "    cost_comp=irr_group,\n",
    "    driver=EasyRandomSearchDriver(randomize_func=RandomizeTurbinePosition_Circle(), max_iter=50),\n",
    "    constraints=[SpacingConstraint(200),\n",
    "                 CircleBoundaryConstraint([0, 0], 1300.1)],\n",
    "    plot_comp=plot_comp)\n",
    " \n",
    "# assign data from optimizationn to a set of accessible variables and run the optimization\n",
    "cost, state, recorder = problem.optimize()"
   ]
  },
  {
   "cell_type": "markdown",
   "metadata": {},
   "source": [
    "In this example, the IRR percentage increase is similar to what observed in the NREL case. However, the final value is quite different (lower) and more iterations are necessary for the optimization to converge."
   ]
  },
  {
   "cell_type": "markdown",
   "metadata": {},
   "source": [
    "### Exercise\n",
    "\n",
    "Manipulate the additional DTU cost model inputs to see how this influences the optimal IRR found."
   ]
  }
 ],
 "metadata": {
  "language_info": {
   "codemirror_mode": {
    "name": "ipython",
    "version": 3
   },
   "file_extension": ".py",
   "mimetype": "text/x-python",
   "name": "python",
   "nbconvert_exporter": "python",
   "pygments_lexer": "ipython3"
  },
  "toc": {
   "base_numbering": 1,
   "nav_menu": {},
   "number_sections": true,
   "sideBar": true,
   "skip_h1_title": false,
   "title_cell": "Table of Contents",
   "title_sidebar": "Contents",
   "toc_cell": false,
   "toc_position": {},
   "toc_section_display": true,
   "toc_window_display": true
  }
 },
 "nbformat": 4,
 "nbformat_minor": 2
}
