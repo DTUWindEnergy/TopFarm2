{
    "cells": [
        {
            "cell_type": "markdown",
            "metadata": {},
            "source": [
                "# Load Constrained Wake Steering Optimization"
            ]
        },
        {
            "cell_type": "markdown",
            "metadata": {},
            "source": [
                "[Try this yourself](https://colab.research.google.com/github/DTUWindEnergy/TopFarm2/blob/master/docs/notebooks/wake_steering_and_loads.ipynb) (requires google account)\n"
            ]
        },
        {
            "cell_type": "markdown",
            "metadata": {
                "id": "Nv2ihk66SNgi"
            },
            "source": [
                "## Install TopFarm and PyWake"
            ]
        },
        {
            "cell_type": "code",
            "execution_count": 1,
            "metadata": {
                "executionInfo": {
                    "elapsed": 67702,
                    "status": "ok",
                    "timestamp": 1623612898460,
                    "user": {
                        "displayName": "Mikkel Friis-M\u00f8ller",
                        "photoUrl": "https://lh3.googleusercontent.com/a-/AOh14GiVrnxS0oNYcvEfwYdFjWYAU5G0YxLXELnknXMi=s64",
                        "userId": "10444369613733539918"
                    },
                    "user_tz": -120
                },
                "id": "HP8XVx4URYcr"
            },
            "outputs": [],
            "source": [
                "%%capture\n",
                "try:\n",
                "    import py_wake\n",
                "except:\n",
                "    !pip install git+https://gitlab.windenergy.dtu.dk/TOPFARM/PyWake.git@setup_for_surrogate\n",
                "try:\n",
                "    import topfarm\n",
                "except:\n",
                "    !pip install git+https://gitlab.windenergy.dtu.dk/TOPFARM/TopFarm2.git@opt_course"
            ]
        },
        {
            "cell_type": "markdown",
            "metadata": {
                "id": "TbtAki7QSZG4"
            },
            "source": [
                "## Import section"
            ]
        },
        {
            "cell_type": "code",
            "execution_count": 2,
            "metadata": {
                "executionInfo": {
                    "elapsed": 4290,
                    "status": "ok",
                    "timestamp": 1623612902741,
                    "user": {
                        "displayName": "Mikkel Friis-M\u00f8ller",
                        "photoUrl": "https://lh3.googleusercontent.com/a-/AOh14GiVrnxS0oNYcvEfwYdFjWYAU5G0YxLXELnknXMi=s64",
                        "userId": "10444369613733539918"
                    },
                    "user_tz": -120
                },
                "id": "5YqUNim5R3JG"
            },
            "outputs": [],
            "source": [
                "import numpy as np\n",
                "from numpy import newaxis as na\n",
                "import time\n",
                "\n",
                "from topfarm.cost_models.cost_model_wrappers import AEPMaxLoadCostModelComponent\n",
                "from topfarm.easy_drivers import EasyScipyOptimizeDriver\n",
                "from topfarm import TopFarmProblem\n",
                "from topfarm.plotting import NoPlot\n",
                "\n",
                "from py_wake.examples.data.lillgrund import LillgrundSite\n",
                "from py_wake.deficit_models.gaussian import IEA37SimpleBastankhahGaussian, NiayifarGaussian\n",
                "from py_wake.turbulence_models.stf import STF2017TurbulenceModel\n",
                "from py_wake.examples.data.iea34_130rwt import IEA34_130_1WT_Surrogate \n",
                "from py_wake.deflection_models.jimenez import JimenezWakeDeflection\n",
                "from py_wake.superposition_models import MaxSum\n",
                "from py_wake.wind_turbines.power_ct_functions import SimpleYawModel"
            ]
        },
        {
            "cell_type": "markdown",
            "metadata": {
                "id": "WjnaXixxSdZL"
            },
            "source": [
                "## Select site, turbines, wake model and additional models and set up PyWake objects"
            ]
        },
        {
            "cell_type": "code",
            "execution_count": 3,
            "metadata": {
                "executionInfo": {
                    "elapsed": 1395,
                    "status": "ok",
                    "timestamp": 1623612904131,
                    "user": {
                        "displayName": "Mikkel Friis-M\u00f8ller",
                        "photoUrl": "https://lh3.googleusercontent.com/a-/AOh14GiVrnxS0oNYcvEfwYdFjWYAU5G0YxLXELnknXMi=s64",
                        "userId": "10444369613733539918"
                    },
                    "user_tz": -120
                },
                "id": "E-TFCSUSSt5e"
            },
            "outputs": [],
            "source": [
                "site = LillgrundSite()\n",
                "windTurbines = IEA34_130_1WT_Surrogate()\n",
                "wfm = IEA37SimpleBastankhahGaussian(site, windTurbines,deflectionModel=JimenezWakeDeflection(), turbulenceModel=STF2017TurbulenceModel(addedTurbulenceSuperpositionModel=MaxSum()))"
            ]
        },
        {
            "cell_type": "markdown",
            "metadata": {
                "id": "EL9C3JtZTNU_"
            },
            "source": [
                "## Choose flow cases \n",
                " (this will determine the speed and accuracy of the simulation). In this example we will focus on only a few flow cases."
            ]
        },
        {
            "cell_type": "code",
            "execution_count": 5,
            "metadata": {
                "executionInfo": {
                    "elapsed": 4,
                    "status": "ok",
                    "timestamp": 1623612904133,
                    "user": {
                        "displayName": "Mikkel Friis-M\u00f8ller",
                        "photoUrl": "https://lh3.googleusercontent.com/a-/AOh14GiVrnxS0oNYcvEfwYdFjWYAU5G0YxLXELnknXMi=s64",
                        "userId": "10444369613733539918"
                    },
                    "user_tz": -120
                },
                "id": "DyMkzkpAS2JC"
            },
            "outputs": [],
            "source": [
                "wsp = np.asarray([10, 15])\n",
                "wdir = np.asarray([90])"
            ]
        },
        {
            "cell_type": "markdown",
            "metadata": {
                "id": "kC7blGu9h-hR"
            },
            "source": [
                "## Constrain loads\n",
                " In this example we will calculate nominal loads (without yaw) and use this as a basis for the load constraint."
            ]
        },
        {
            "cell_type": "code",
            "execution_count": 6,
            "metadata": {
                "colab": {
                    "base_uri": "https://localhost:8080/"
                },
                "executionInfo": {
                    "elapsed": 1981,
                    "status": "ok",
                    "timestamp": 1623612906110,
                    "user": {
                        "displayName": "Mikkel Friis-M\u00f8ller",
                        "photoUrl": "https://lh3.googleusercontent.com/a-/AOh14GiVrnxS0oNYcvEfwYdFjWYAU5G0YxLXELnknXMi=s64",
                        "userId": "10444369613733539918"
                    },
                    "user_tz": -120
                },
                "id": "hjG7faI1iZBh",
                "outputId": "618fbcaa-ac5b-431e-81b2-00005db43238"
            },
            "outputs": [
                {
                    "name": "stdout",
                    "output_type": "stream",
                    "text": [
                        "WARNING:tensorflow:5 out of the last 32 calls to <function Model.make_predict_function.<locals>.predict_function at 0x000001E42258FC10> triggered tf.function retracing. Tracing is expensive and the excessive number of tracings could be due to (1) creating @tf.function repeatedly in a loop, (2) passing tensors with different shapes, (3) passing Python objects instead of tensors. For (1), please define your @tf.function outside of the loop. For (2), @tf.function has experimental_relax_shapes=True option that relaxes argument shapes that can avoid unnecessary retracing. For (3), please refer to https://www.tensorflow.org/guide/function#controlling_retracing and https://www.tensorflow.org/api_docs/python/tf/function for  more details.\n",
                        "WARNING:tensorflow:6 out of the last 34 calls to <function Model.make_predict_function.<locals>.predict_function at 0x000001E420D444C0> triggered tf.function retracing. Tracing is expensive and the excessive number of tracings could be due to (1) creating @tf.function repeatedly in a loop, (2) passing tensors with different shapes, (3) passing Python objects instead of tensors. For (1), please define your @tf.function outside of the loop. For (2), @tf.function has experimental_relax_shapes=True option that relaxes argument shapes that can avoid unnecessary retracing. For (3), please refer to https://www.tensorflow.org/guide/function#controlling_retracing and https://www.tensorflow.org/api_docs/python/tf/function for  more details.\n"
                    ]
                }
            ],
            "source": [
                "x, y = site.initial_position.T\n",
                "#keeping only every second turbine as lillegrund turbines are approx. half the size of the iea 3.4MW\n",
                "x = x[::2]\n",
                "y = y[::2]\n",
                "n_wt = x.size\n",
                "i = n_wt\n",
                "k = wsp.size\n",
                "l = wdir.size\n",
                "yaw_zero = np.zeros((i, l, k))\n",
                "load_fact = 1.02\n",
                "simulationResult = wfm(x,y,wd=wdir, ws=wsp, yaw=yaw_zero)\n",
                "nom_loads = simulationResult.loads('OneWT')['LDEL'].values\n",
                "max_loads = nom_loads * load_fact"
            ]
        },
        {
            "cell_type": "markdown",
            "metadata": {
                "id": "0v7KeHZvinpG"
            },
            "source": [
                "## Configure the optimization\n",
                " this includes e.g. selection of maximum number of iterations, convergence tolerance, optimizer algorithm and design variable boundaries"
            ]
        },
        {
            "cell_type": "code",
            "execution_count": 7,
            "metadata": {
                "executionInfo": {
                    "elapsed": 13,
                    "status": "ok",
                    "timestamp": 1623612906112,
                    "user": {
                        "displayName": "Mikkel Friis-M\u00f8ller",
                        "photoUrl": "https://lh3.googleusercontent.com/a-/AOh14GiVrnxS0oNYcvEfwYdFjWYAU5G0YxLXELnknXMi=s64",
                        "userId": "10444369613733539918"
                    },
                    "user_tz": -120
                },
                "id": "VXXj960rjJt4"
            },
            "outputs": [],
            "source": [
                "maxiter = 5\n",
                "driver = EasyScipyOptimizeDriver(optimizer='SLSQP', maxiter=maxiter)\n",
                "yaw_min, yaw_max =  - 40, 40\n",
                "yaw_init = np.zeros((i, l, k))\n",
                "tol = 1e-8\n",
                "ec = 1e-4\n",
                "step = 1e-2"
            ]
        },
        {
            "cell_type": "markdown",
            "metadata": {
                "id": "mU8x9QQjjL-H"
            },
            "source": [
                "## Setup cost function"
            ]
        },
        {
            "cell_type": "code",
            "execution_count": 8,
            "metadata": {
                "executionInfo": {
                    "elapsed": 12,
                    "status": "ok",
                    "timestamp": 1623612906113,
                    "user": {
                        "displayName": "Mikkel Friis-M\u00f8ller",
                        "photoUrl": "https://lh3.googleusercontent.com/a-/AOh14GiVrnxS0oNYcvEfwYdFjWYAU5G0YxLXELnknXMi=s64",
                        "userId": "10444369613733539918"
                    },
                    "user_tz": -120
                },
                "id": "XXOT6g3PjRlY"
            },
            "outputs": [],
            "source": [
                "def aep_load_func(yaw_ilk):\n",
                "    simres = wfm(x, y, wd=wdir, ws=wsp, yaw=yaw_ilk)\n",
                "    aep = simres.aep().sum()\n",
                "    loads = simres.loads('OneWT')['LDEL'].values\n",
                "    return aep, loads"
            ]
        },
        {
            "cell_type": "markdown",
            "metadata": {
                "id": "S3Eq4hVNjWai"
            },
            "source": [
                "## Setup gradient function\n",
                " For some problems it is sufficient to rely on the automatic finite difference calculated by OpenMDAO or you can specify the explicit gradients from your model. In this case we don't have explicit gradients but the automatic finite difference is also inefficient so we do a manual population of the Jacobian"
            ]
        },
        {
            "cell_type": "code",
            "execution_count": 9,
            "metadata": {
                "executionInfo": {
                    "elapsed": 11,
                    "status": "ok",
                    "timestamp": 1623612906114,
                    "user": {
                        "displayName": "Mikkel Friis-M\u00f8ller",
                        "photoUrl": "https://lh3.googleusercontent.com/a-/AOh14GiVrnxS0oNYcvEfwYdFjWYAU5G0YxLXELnknXMi=s64",
                        "userId": "10444369613733539918"
                    },
                    "user_tz": -120
                },
                "id": "Ry6CRAZLj4VF"
            },
            "outputs": [],
            "source": [
                "s = nom_loads.shape[0]\n",
                "P_ilk = np.broadcast_to(simulationResult.P.values[na], (i, l, k))\n",
                "lifetime = float(60 * 60 * 24 * 365 * 20)\n",
                "f1zh = 10.0 ** 7.0\n",
                "lifetime_on_f1zh = lifetime / f1zh\n",
                "indices = np.arange(i * l * k).reshape((i, l, k))\n",
                "\n",
                "def aep_load_gradient(yaw_ilk):\n",
                "    simres0 = wfm(x, y, wd=wdir, ws=wsp, yaw=yaw_ilk)\n",
                "    aep0 = simres0.aep()\n",
                "    DEL0 = simulationResult.loads('OneWT')['DEL'].values\n",
                "    LDEL0 = simulationResult.loads('OneWT')['LDEL'].values\n",
                "    d_aep_d_yaw = np.zeros(i*l*k)\n",
                "    d_load_d_yaw = np.zeros((s * i, i * l * k))\n",
                "    for n in range(n_wt):\n",
                "        yaw_step = yaw_ilk.copy()\n",
                "        yaw_step = yaw_step.reshape(i, l, k)\n",
                "        yaw_step[n, :, :] += step\n",
                "        simres_fd = wfm(x, y, wd=wdir, ws=wsp, yaw=yaw_step)\n",
                "        aep_fd = simres_fd.aep()\n",
                "        d_aep_d_yaw[n * l * k : (n + 1) * l * k] = (((aep_fd.values - aep0.values) / step).sum((0))).ravel()\n",
                "        \n",
                "        DEL_fd = simres_fd.loads('OneWT')['DEL'].values\n",
                "        for _ls in range(s):\n",
                "            m = simulationResult.loads('OneWT').m.values[_ls]\n",
                "            for _wd in range(l):\n",
                "                for _ws in range(k):\n",
                "                    DEL_fd_fc = DEL0.copy()\n",
                "                    DEL_fd_fc[:, :, _wd, _ws] = DEL_fd[:, :, _wd, _ws]\n",
                "                    DEL_fd_fc = DEL_fd_fc[_ls, :, :, :]\n",
                "                    f = DEL_fd_fc.mean()\n",
                "                    LDEL_fd = (((P_ilk * (DEL_fd_fc/f) ** m).sum((1, 2)) * lifetime_on_f1zh) ** (1/m))*f\n",
                "                    d_load_d_yaw[n_wt * _ls : n_wt * (_ls + 1), indices[n, _wd, _ws]] = (LDEL_fd - LDEL0[_ls]) / step\n",
                "\n",
                "    return d_aep_d_yaw, d_load_d_yaw"
            ]
        },
        {
            "cell_type": "markdown",
            "metadata": {
                "id": "TfbCb-z2j6nd"
            },
            "source": [
                "## Wrap your pure python cost and gradient functions in a topfarm component"
            ]
        },
        {
            "cell_type": "code",
            "execution_count": 10,
            "metadata": {
                "executionInfo": {
                    "elapsed": 12,
                    "status": "ok",
                    "timestamp": 1623612906115,
                    "user": {
                        "displayName": "Mikkel Friis-M\u00f8ller",
                        "photoUrl": "https://lh3.googleusercontent.com/a-/AOh14GiVrnxS0oNYcvEfwYdFjWYAU5G0YxLXELnknXMi=s64",
                        "userId": "10444369613733539918"
                    },
                    "user_tz": -120
                },
                "id": "5nqGrkbukCfd"
            },
            "outputs": [],
            "source": [
                "cost_comp = AEPMaxLoadCostModelComponent(input_keys=[('yaw_ilk', np.zeros((i, l, k)))],\n",
                "                                          n_wt = n_wt,\n",
                "                                          aep_load_function = aep_load_func,\n",
                "                                          aep_load_gradient = aep_load_gradient,\n",
                "                                          max_loads = max_loads, \n",
                "                                          objective=True,\n",
                "                                          income_model=True,\n",
                "                                          output_keys=[('AEP', 0), ('loads', np.zeros((s, i)))]\n",
                "                                          )"
            ]
        },
        {
            "cell_type": "markdown",
            "metadata": {
                "id": "uw1IhQi1kDzb"
            },
            "source": [
                "## Set up the TopFarm problem"
            ]
        },
        {
            "cell_type": "code",
            "execution_count": 11,
            "metadata": {
                "executionInfo": {
                    "elapsed": 11,
                    "status": "ok",
                    "timestamp": 1623612906115,
                    "user": {
                        "displayName": "Mikkel Friis-M\u00f8ller",
                        "photoUrl": "https://lh3.googleusercontent.com/a-/AOh14GiVrnxS0oNYcvEfwYdFjWYAU5G0YxLXELnknXMi=s64",
                        "userId": "10444369613733539918"
                    },
                    "user_tz": -120
                },
                "id": "N_3ydRZdkOFL"
            },
            "outputs": [],
            "source": [
                "problem = TopFarmProblem(design_vars={'yaw_ilk': (yaw_init, yaw_min, yaw_max)},\n",
                "                          cost_comp=cost_comp,\n",
                "                          driver=EasyScipyOptimizeDriver(optimizer='SLSQP', maxiter=maxiter, tol=tol),\n",
                "                          plot_comp=NoPlot(),\n",
                "                          expected_cost=ec)"
            ]
        },
        {
            "cell_type": "markdown",
            "metadata": {
                "id": "Jt_GXqoHkV_W"
            },
            "source": [
                "## Optimize"
            ]
        },
        {
            "cell_type": "code",
            "execution_count": 12,
            "metadata": {
                "colab": {
                    "base_uri": "https://localhost:8080/"
                },
                "executionInfo": {
                    "elapsed": 538141,
                    "status": "ok",
                    "timestamp": 1623613843204,
                    "user": {
                        "displayName": "Mikkel Friis-M\u00f8ller",
                        "photoUrl": "https://lh3.googleusercontent.com/a-/AOh14GiVrnxS0oNYcvEfwYdFjWYAU5G0YxLXELnknXMi=s64",
                        "userId": "10444369613733539918"
                    },
                    "user_tz": -120
                },
                "id": "kOQhnRLUSGIz",
                "outputId": "6e174217-d355-472b-e3ef-9be7dee337da"
            },
            "outputs": [
                {
                    "name": "stdout",
                    "output_type": "stream",
                    "text": [
                        "Iteration limit reached    (Exit mode 9)\n",
                        "            Current function value: [-738670.14118039]\n",
                        "            Iterations: 5\n",
                        "            Function evaluations: 8\n",
                        "            Gradient evaluations: 5\n",
                        "Optimization FAILED.\n",
                        "Iteration limit reached\n",
                        "-----------------------------------\n"
                    ]
                }
            ],
            "source": [
                "cost, state, recorder = problem.optimize()"
            ]
        },
        {
            "cell_type": "markdown",
            "metadata": {},
            "source": [
                "## Plot results\n",
                " Try to run the commands below to watch the resulting wake map for different flow cases"
            ]
        },
        {
            "cell_type": "code",
            "execution_count": 14,
            "metadata": {
                "colab": {
                    "base_uri": "https://localhost:8080/",
                    "height": 293
                },
                "executionInfo": {
                    "elapsed": 10125,
                    "status": "ok",
                    "timestamp": 1623613892575,
                    "user": {
                        "displayName": "Mikkel Friis-M\u00f8ller",
                        "photoUrl": "https://lh3.googleusercontent.com/a-/AOh14GiVrnxS0oNYcvEfwYdFjWYAU5G0YxLXELnknXMi=s64",
                        "userId": "10444369613733539918"
                    },
                    "user_tz": -120
                },
                "id": "miJIu_aMtvwy",
                "outputId": "980c94bb-a157-45aa-de6a-6a2322a9dc58"
            },
            "outputs": [
                {
                    "data": {
                        "text/plain": [
                            "<matplotlib.contour.QuadContourSet at 0x1e423f219d0>"
                        ]
                    },
                    "execution_count": 14,
                    "metadata": {},
                    "output_type": "execute_result"
                },
                {
                    "data": {
                        "image/png": "[encoded data removed]",
                        "text/plain": [
                            "<Figure size 432x288 with 2 Axes>"
                        ]
                    },
                    "metadata": {
                        "needs_background": "light"
                    },
                    "output_type": "display_data"
                }
            ],
            "source": [
                "# simulationResult = wfm(x,y,wd=wdir[0], ws=wsp[0], yaw=state['yaw_ilk'][:,0,0])\n",
                "# simulationResult.flow_map().plot_wake_map()"
            ]
        },
        {
            "cell_type": "code",
            "execution_count": null,
            "metadata": {
                "id": "ByIaS1WJ7C2T"
            },
            "outputs": [],
            "source": []
        }
    ],
    "metadata": {
        "colab": {
            "authorship_tag": "ABX9TyOvPUxm8Sna0KLEzObl3Sp5",
            "name": "WakeSteeringOptimization.ipynb",
            "provenance": []
        },
        "kernelspec": {
            "display_name": "Python 3",
            "language": "python",
            "name": "python3"
        },
        "language_info": {
            "codemirror_mode": {
                "name": "ipython",
                "version": 3
            },
            "file_extension": ".py",
            "mimetype": "text/x-python",
            "name": "python",
            "nbconvert_exporter": "python",
            "pygments_lexer": "ipython3",
            "version": "3.9.5"
        }
    },
    "nbformat": 4,
    "nbformat_minor": 1
}