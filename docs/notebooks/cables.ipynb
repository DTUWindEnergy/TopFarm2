{
 "cells": [
  {
   "cell_type": "markdown",
   "metadata": {},
   "source": [
    "## Cables"
   ]
  },
  {
   "cell_type": "markdown",
   "metadata": {},
   "source": [
    "[Try this yourself](https://colab.research.google.com/github/DTUWindEnergy/TopFarm2/blob/master/docs/notebooks/cables.ipynb) (requires google account)\n"
   ]
  },
  {
   "cell_type": "markdown",
   "metadata": {},
   "source": [
    "TOPFARM can use the Electrical Network Design package EDWIN to optimize the carray cabels as well as the substation position at each iteration of the layout optimization"
   ]
  },
  {
   "cell_type": "markdown",
   "metadata": {},
   "source": [
    "**Install TOPFARM if needed**"
   ]
  },
  {
   "cell_type": "code",
   "execution_count": null,
   "metadata": {},
   "outputs": [],
   "source": [
    "# Install TopFarm if needed\n",
    "import importlib\n",
    "if not importlib.util.find_spec(\"topfarm\"):\n",
    "    !pip install git+https://gitlab.windenergy.dtu.dk/TOPFARM/TopFarm2.git"
   ]
  },
  {
   "cell_type": "markdown",
   "metadata": {},
   "source": [
    "### Import"
   ]
  },
  {
   "cell_type": "code",
   "execution_count": null,
   "metadata": {},
   "outputs": [],
   "source": [
    "import numpy as np\n",
    "import matplotlib.pyplot as plt\n",
    "\n",
    "from topfarm.constraint_components.spacing import SpacingConstraint\n",
    "from topfarm.constraint_components.boundary import XYBoundaryConstraint\n",
    "from topfarm.easy_drivers import EasyScipyOptimizeDriver\n",
    "from topfarm.cost_models.cost_model_wrappers import CostModelComponent\n",
    "from topfarm._topfarm import TopFarmProblem, TopFarmGroup\n",
    "from topfarm.cost_models.py_wake_wrapper import PyWakeAEPCostModelComponent\n",
    "from topfarm.plotting import XYPlotComp, NoPlot\n",
    "from topfarm.utils import plot_list_recorder\n",
    "from topfarm.cost_models.electrical.optiwindnet_wrapper import WFNComponent\n",
    "\n",
    "from py_wake.examples.data.iea37 import IEA37_WindTurbines\n",
    "from py_wake import BastankhahGaussian\n",
    "from py_wake.examples.data.hornsrev1 import Hornsrev1Site\n",
    "\n",
    "\n",
    "from costmodels.finance import Depreciation, Technology, finances, Product\n",
    "from costmodels.models import DTUOffshoreCostModel\n",
    "from topfarm.examples.bathymetry_ficticio import gaussian_surface, get_bathymetry_func_rect, plot_bathymetry_rect\n"
   ]
  },
  {
   "cell_type": "markdown",
   "metadata": {},
   "source": [
    "### Inputs"
   ]
  },
  {
   "cell_type": "code",
   "execution_count": null,
   "metadata": {},
   "outputs": [],
   "source": [
    "plot = True\n",
    "n_wt = 30\n",
    "x_min = 0\n",
    "x_max = 6000\n",
    "y_min = -10000\n",
    "y_max = 0\n",
    "maxiter=50\n",
    "sigma = 3000.0\n",
    "cables = np.array([(2, 2000), (5, 2200), ])  # Here you set up cables [<number of turbines can be connected>, <price in € per meter>]\n",
    "LIFETIME = 25 # years\n",
    "el_price = 50 # fixed ppa price Euro per MWh\n",
    "driver = EasyScipyOptimizeDriver(maxiter=maxiter)"
   ]
  },
  {
   "cell_type": "markdown",
   "metadata": {},
   "source": [
    "### Geomertry"
   ]
  },
  {
   "cell_type": "code",
   "execution_count": null,
   "metadata": {},
   "outputs": [],
   "source": [
    "rng1 = np.random.default_rng(1)\n",
    "rng2 = np.random.default_rng(2)\n",
    "initial = np.asarray([rng1.random(n_wt)*(x_max-x_min)+x_min, rng2.random(n_wt)*(y_max-y_min)+y_min]).T\n",
    "x_init = initial[:,0]\n",
    "y_init = initial[:,1]\n",
    "x_ss_init = x_init.mean()\n",
    "y_ss_init = y_init.mean()\n",
    "turbines_pos=np.asarray([x_init, y_init]).T\n",
    "substations_pos = np.asarray([[x_ss_init], [y_ss_init]]).T\n",
    "boundary = np.array([(x_min, y_min), (x_max, y_min), (x_max, y_max), (x_min, y_max)])  # turbine boundaries\n"
   ]
  },
  {
   "cell_type": "markdown",
   "metadata": {},
   "source": [
    "### Site"
   ]
  },
  {
   "cell_type": "code",
   "execution_count": null,
   "metadata": {},
   "outputs": [],
   "source": [
    "windTurbines = IEA37_WindTurbines()\n",
    "site = Hornsrev1Site()\n",
    "wfm = BastankhahGaussian(site, windTurbines)"
   ]
  },
  {
   "cell_type": "markdown",
   "metadata": {},
   "source": [
    "### Bathymetry"
   ]
  },
  {
   "cell_type": "code",
   "execution_count": null,
   "metadata": {},
   "outputs": [],
   "source": [
    "g = gaussian_surface(sigma, x_min=x_min, x_max=x_max, y_min=y_min, y_max=y_max)\n",
    "if plot:\n",
    "    plot_bathymetry_rect(g, x_min, x_max, y_min, y_max)\n",
    "bathymetry_interpolator = get_bathymetry_func_rect(g, x_min, x_max, y_min, y_max)\n",
    "def water_depth_func(x, y, **kwargs):\n",
    "    xnew, ynew = np.meshgrid(x, y)\n",
    "    points = np.array([xnew.flatten(), ynew.flatten()]).T\n",
    "    return - np.diag(bathymetry_interpolator(points).reshape(n_wt, n_wt).T)"
   ]
  },
  {
   "cell_type": "markdown",
   "metadata": {},
   "source": [
    "### Economy"
   ]
  },
  {
   "cell_type": "code",
   "execution_count": null,
   "metadata": {},
   "outputs": [],
   "source": [
    "Drotor_vector = [windTurbines.diameter()] * n_wt\n",
    "power_rated_vector = [float(windTurbines.power(20))*1e-6] * n_wt\n",
    "hub_height_vector = [windTurbines.hub_height()] * n_wt\n",
    "simres = wfm(x_init, y_init)\n",
    "aep_ref = simres.aep().values.sum()\n",
    "RP_MW = windTurbines.power(20)*1e-6\n",
    "CF_ref = aep_ref * 1e3 / (RP_MW * 24*365*n_wt)\n",
    "\n",
    "product_prices={Product.SPOT_ELECTRICITY: el_price}\n",
    "opex=12600*n_wt*RP_MW+1.35*aep_ref*1000 # Euro\n",
    "cost_model = DTUOffshoreCostModel(\n",
    "    rated_power=windTurbines.power(20) / 1e6,\n",
    "    rotor_speed=10.0,\n",
    "    rotor_diameter=windTurbines.diameter(),\n",
    "    hub_height=windTurbines.hub_height(),\n",
    "    lifetime=LIFETIME,\n",
    "    capacity_factor=CF_ref,\n",
    "    nwt=n_wt,\n",
    "    profit=0,\n",
    ")\n",
    "def economic_func(aep, water_depth, cabling_cost, **kwargs):\n",
    "    wind_res = cost_model.run(aep=aep*10**3,\n",
    "                              water_depth=water_depth,\n",
    "                              )\n",
    "    wind_plant = Technology(\n",
    "        name=\"wind\",\n",
    "        lifetime=LIFETIME,\n",
    "        product=Product.SPOT_ELECTRICITY,\n",
    "        capex=wind_res.capex*10**6, # Euro\n",
    "        opex=opex, # Euro\n",
    "        production=aep*np.ones(LIFETIME)*10**3,\n",
    "        wacc=0.06,\n",
    "        )\n",
    "    res = finances(\n",
    "    technologies=[wind_plant],\n",
    "    product_prices=product_prices,\n",
    "    shared_capex=cabling_cost,\n",
    "    inflation=0.05,\n",
    "    tax_rate=0.22,\n",
    "    depreciation=Depreciation(rate=(0,1), year=(0, LIFETIME)),\n",
    "    devex=0,\n",
    "    )\n",
    "    return res['NPV'], {'LCOE': res['LCOE'][0], 'IRR': res['IRR'], 'CAPEX': res['CAPEX'],\n",
    "                        'OPEX': np.mean(res['OPEX'])#, 'LCOE_ref': ref_res['lcoe']\n",
    "                        }\n"
   ]
  },
  {
   "cell_type": "markdown",
   "metadata": {},
   "source": [
    "### Components"
   ]
  },
  {
   "cell_type": "code",
   "execution_count": null,
   "metadata": {},
   "outputs": [],
   "source": [
    "aep_comp = PyWakeAEPCostModelComponent(wfm, n_wt, objective=False, output_key='aep')\n",
    "\n",
    "\n",
    "\n",
    "\n",
    "\n",
    "water_depth_component = CostModelComponent(input_keys=[('x', x_init),('y', y_init)],\n",
    "                                          n_wt=n_wt,\n",
    "                                          cost_function=water_depth_func,\n",
    "                                          objective=False,\n",
    "                                          output_keys=[('water_depth', np.zeros(n_wt))])\n",
    "\n",
    "cable_component = WFNComponent(turbines_pos, substations_pos, cables)\n",
    "\n",
    "npv_comp = CostModelComponent(input_keys=[('aep', 0), ('water_depth', np.zeros(n_wt)),\n",
    "                                          ('cabling_cost', 0)], n_wt=n_wt,\n",
    "                              cost_function=economic_func, \n",
    "                              # cost_gradient_function=npv_grad_func,\n",
    "                              output_keys=[('NPV', 0)],\n",
    "                              additional_output=[('LCOE', 0),\n",
    "                                                 ('IRR', 0),\n",
    "                                                 ('CAPEX', 0),\n",
    "                                                 ('OPEX', 0),\n",
    "                                                 # ('LCOE_ref', 0)\n",
    "                                                 ],\n",
    "                              maximize=True,\n",
    "                              objective=True,)\n",
    "\n",
    "\n",
    "cost_comp = TopFarmGroup([aep_comp, water_depth_component, cable_component, npv_comp])\n"
   ]
  },
  {
   "cell_type": "markdown",
   "metadata": {},
   "source": [
    "### Problem Assembly"
   ]
  },
  {
   "cell_type": "code",
   "execution_count": null,
   "metadata": {},
   "outputs": [],
   "source": [
    "if plot:\n",
    "    plot_comp = XYPlotComp()\n",
    "else:\n",
    "    plot_comp = NoPlot()\n",
    "    \n",
    "tf = TopFarmProblem(\n",
    "    design_vars=dict(zip('xy', initial.T), xs=x_ss_init, ys=y_ss_init),\n",
    "    cost_comp=cost_comp,\n",
    "    constraints=[XYBoundaryConstraint(boundary),\n",
    "                 SpacingConstraint(500)\n",
    "                 ],\n",
    "    driver=driver,\n",
    "    plot_comp=plot_comp,\n",
    "    expected_cost=1e1,\n",
    ")\n"
   ]
  },
  {
   "cell_type": "markdown",
   "metadata": {},
   "source": [
    "### Smart Start"
   ]
  },
  {
   "cell_type": "code",
   "execution_count": null,
   "metadata": {},
   "outputs": [],
   "source": [
    "x = np.linspace(500,5500,41)\n",
    "y = np.linspace(-9500,-500,41)\n",
    "YY, XX = np.meshgrid(y, x)\n",
    "tf.smart_start(XX, YY, tf.cost_comp.comp_0.get_aep4smart_start(ws=8, wd=270),random_pct=20)\n",
    "tf.evaluate()\n"
   ]
  },
  {
   "cell_type": "markdown",
   "metadata": {},
   "source": [
    "### Optimize"
   ]
  },
  {
   "cell_type": "code",
   "execution_count": null,
   "metadata": {},
   "outputs": [],
   "source": [
    "cost, state, recorder = tf.optimize()\n"
   ]
  },
  {
   "cell_type": "markdown",
   "metadata": {},
   "source": [
    "### Plot"
   ]
  },
  {
   "cell_type": "code",
   "execution_count": null,
   "metadata": {},
   "outputs": [],
   "source": [
    "plot_list_recorder(recorder, dont_plot=['v0', 'v1'])\n",
    "tf.model.cost_comp.comp_2.wfn.plot()\n"
   ]
  },
  {
   "cell_type": "code",
   "execution_count": null,
   "metadata": {},
   "outputs": [],
   "source": []
  }
 ],
 "metadata": {
  "language_info": {
   "codemirror_mode": {
    "name": "ipython",
    "version": 3
   },
   "file_extension": ".py",
   "mimetype": "text/x-python",
   "name": "python",
   "nbconvert_exporter": "python",
   "pygments_lexer": "ipython3"
  },
  "toc": {
   "base_numbering": 1,
   "nav_menu": {},
   "number_sections": true,
   "sideBar": true,
   "skip_h1_title": false,
   "title_cell": "Table of Contents",
   "title_sidebar": "Contents",
   "toc_cell": false,
   "toc_position": {},
   "toc_section_display": true,
   "toc_window_display": true
  }
 },
 "nbformat": 4,
 "nbformat_minor": 4
}
