{
 "cells": [
  {
   "cell_type": "markdown",
   "id": "0",
   "metadata": {
    "id": "5a0f3cd2"
   },
   "source": [
    "# Design variables"
   ]
  },
  {
   "cell_type": "markdown",
   "id": "1",
   "metadata": {
    "id": "661ddda0"
   },
   "source": [
    "Design variables are the principal element within an optimization problem. During the optimization, the design variables are changed while influencing the objective function.\n",
    "\n",
    "These variables can be either continuous or discrete depending on the type of optimization problem that is being studied. The turbine positions are the most common continuous design variable used in wind farm layout optimization. In essence, they are continuous because they can take an infinite amount of values for a given range. Discrete variables, on the other hand, can only take finite amount of values for a specific interval. A common discrete variable used in wind farm optimization is turbine type. The type of design variable will influence the decision of the optimization driver to use.\n",
    "\n",
    "Continuous design variables can be treated with both gradient-free and gradient-based algorithms, where the calculation of the derivatives (in gradient-based cases) can be performed. On the other hand, discrete variables are usually analyzed with gradient-free methods, as the calculation of the gradients of these variables is not possible to perform. In some cases, it is possible to convert the discrete variable into a continuous one and then find its derivative.\n",
    "\n",
    "Besides the turbine positions, the development of TOPFARM has allowed the inclusion of several other design variables such as:\n",
    "\n",
    "- Turbine types,\n",
    "- Turbine hub heights,\n",
    "- Yaw angles,\n",
    "- and even the inter-turbine spacing and rotation of a wind farm seen as a grid.\n",
    "\n",
    "This example goes through two of the most common design variables available in TOPFARM and describes how to set them up within the `TopFarmProblem` object in the optimization."
   ]
  },
  {
   "cell_type": "markdown",
   "id": "2",
   "metadata": {
    "id": "113911cb"
   },
   "source": [
    "Before working on the notebook exercises, make sure that you import or install topfarm on your newly created environment.\n",
    "Ensure you are using Python 3.8 or 3.9 for compatibility with pyDOE2 and OpenMDAO."
   ]
  },
  {
   "cell_type": "code",
   "execution_count": null,
   "id": "3",
   "metadata": {
    "colab": {
     "base_uri": "https://localhost:8080/"
    },
    "id": "e728c446",
    "outputId": "80f83921-53ed-487b-a4c3-4363bef6f29e"
   },
   "outputs": [],
   "source": [
    "# Install TopFarm if needed\n",
    "import importlib\n",
    "if not importlib.util.find_spec(\"topfarm\"):\n",
    "    !pip install git+https://gitlab.windenergy.dtu.dk/TOPFARM/TopFarm2.git"
   ]
  },
  {
   "cell_type": "code",
   "execution_count": null,
   "id": "4",
   "metadata": {},
   "outputs": [],
   "source": [
    "import subprocess\n",
    "import sys\n",
    "\n",
    "# check if a package is installed\n",
    "def check_and_install(package):\n",
    "    try:\n",
    "        __import__(package)\n",
    "        print(f\"{package} is already installed.\")\n",
    "    except ImportError:\n",
    "        print(f\"{package} is not installed. Installing...\")\n",
    "        subprocess.check_call([sys.executable, \"-m\", \"pip\", \"install\", package])\n",
    "\n",
    "# List of packages to check and install\n",
    "packages = [\"openmdao[doe]\", \"pyDOE2\"]\n",
    "\n",
    "for pkg in packages:\n",
    "    check_and_install(pkg)"
   ]
  },
  {
   "cell_type": "markdown",
   "id": "5",
   "metadata": {
    "id": "672a862f"
   },
   "source": [
    "**First we import some supporting Python libraries**"
   ]
  },
  {
   "cell_type": "code",
   "execution_count": null,
   "id": "6",
   "metadata": {
    "id": "022257b2"
   },
   "outputs": [],
   "source": [
    "import numpy as np\n",
    "import matplotlib.pyplot as plt"
   ]
  },
  {
   "cell_type": "markdown",
   "id": "7",
   "metadata": {
    "id": "ae0d08e0"
   },
   "source": [
    "**We start by importing the turbine and site to use as well as the wake model from PyWake.**\n",
    "\n",
    "**From TOPFARM we import**:\n",
    "\n",
    "- **TopFarmProblem**. Overall topfarm problem class to which the objectives, design variables, and constraints are added\n",
    "- **EasyScipyOptimizeDriver**. A subclass of ScipyOptimizeDriver which is configured for the given workflow\n",
    "- **get_iea37_initial, get_iea37_constraints, get_iea37_cost**. Functions to get the initial layout, the constraints and the cost function for the IEA task 37 benchmark example\n",
    "- **NoPlot, XYPlotComp**. Plotting components to visualize the results"
   ]
  },
  {
   "cell_type": "code",
   "execution_count": null,
   "id": "8",
   "metadata": {
    "id": "11dfdae1"
   },
   "outputs": [],
   "source": [
    "from py_wake.deficit_models.gaussian import IEA37SimpleBastankhahGaussian     #wake model\n",
    "from py_wake.examples.data.iea37 import IEA37_WindTurbines, IEA37Site         #wind turbines and site used\n",
    "from topfarm.cost_models.py_wake_wrapper import PyWakeAEPCostModelComponent   #cost model\n",
    "\n",
    "from topfarm import TopFarmProblem\n",
    "from topfarm.easy_drivers import EasyScipyOptimizeDriver\n",
    "from topfarm.examples.iea37 import get_iea37_initial, get_iea37_constraints, get_iea37_cost\n",
    "from topfarm.plotting import NoPlot, XYPlotComp"
   ]
  },
  {
   "cell_type": "markdown",
   "id": "9",
   "metadata": {
    "id": "66f43bac"
   },
   "source": [
    "## 1) Turbine position (x,y) layout optimization"
   ]
  },
  {
   "cell_type": "markdown",
   "id": "10",
   "metadata": {
    "id": "2c9824b1"
   },
   "source": [
    "First we set up the parameters for the wind farm model simulation, that is the site and wind turbine objects as well as the wind directions to study."
   ]
  },
  {
   "cell_type": "code",
   "execution_count": null,
   "id": "11",
   "metadata": {
    "id": "b88caf41"
   },
   "outputs": [],
   "source": [
    "n_wt = 9\n",
    "n_wd = 16\n",
    "\n",
    "site = IEA37Site(9)\n",
    "wind_turbines = IEA37_WindTurbines()\n",
    "wd = np.linspace(0.,360.,n_wd, endpoint=False)\n",
    "wfmodel = IEA37SimpleBastankhahGaussian(site, wind_turbines)   #PyWake's wind farm model"
   ]
  },
  {
   "cell_type": "markdown",
   "id": "12",
   "metadata": {
    "id": "7f421dea"
   },
   "source": [
    "Now we set up the `CostModelComponent` that will calculate the AEP as the objective function of the optimization."
   ]
  },
  {
   "cell_type": "code",
   "execution_count": null,
   "id": "13",
   "metadata": {
    "id": "6afea25c"
   },
   "outputs": [],
   "source": [
    "cost_comp = PyWakeAEPCostModelComponent(wfmodel, n_wt, wd=wd)"
   ]
  },
  {
   "cell_type": "markdown",
   "id": "14",
   "metadata": {
    "id": "06e2ec3c"
   },
   "source": [
    "Then we can set up the optimization problem, where the initial conditions of the optimization, design variables and constraints are specified."
   ]
  },
  {
   "cell_type": "code",
   "execution_count": null,
   "id": "15",
   "metadata": {
    "id": "e887cff3"
   },
   "outputs": [],
   "source": [
    "initial = get_iea37_initial(n_wt)\n",
    "driver = EasyScipyOptimizeDriver()"
   ]
  },
  {
   "cell_type": "markdown",
   "id": "16",
   "metadata": {
    "id": "17cbcb58"
   },
   "source": [
    "When using the turbine positions as design variables, you can specify them in TOPFARM in 4 different ways:\n",
    "\n",
    "    - {'x': [1, 2, 3], 'y':([3, 2, 1], 0, 1), 'z':([4, 5, 6],[4, 5, 4], [6, 7, 6])}\n",
    "    - [('x', [1,2,3]), ('y',([3,2,1], 0, 1)), ('z',([4, 5, 6],[4, 5, 4], [6, 7, 6]))]\n",
    "    - [('x', ([1,2,3], 0, 3, 'm')), ('y', ([3,2,1], 'm')), ('z', ([4,5,6], [4,5,4], [6,7,6]))]\n",
    "    - zip('xy', pos.T)\n",
    "\n",
    "The values are either:\n",
    "\n",
    "- the initial value or\n",
    "- on of the following tuples:\n",
    "  - initial value, unit\n",
    "  - initial value, lower bound, upper bound\n",
    "  - initial value, lower bound, upper bound, unit"
   ]
  },
  {
   "cell_type": "code",
   "execution_count": null,
   "id": "17",
   "metadata": {
    "colab": {
     "base_uri": "https://localhost:8080/"
    },
    "id": "8e0c9861",
    "outputId": "ce342d62-f981-4df2-e6a8-dabd475e2b77"
   },
   "outputs": [],
   "source": [
    "design_vars = dict(zip('xy', (initial[:, :2]).T))\n",
    "\n",
    "tf_problem = TopFarmProblem(\n",
    "            design_vars,\n",
    "            cost_comp,\n",
    "            constraints=get_iea37_constraints(n_wt),\n",
    "            driver=driver,\n",
    "            plot_comp=XYPlotComp())"
   ]
  },
  {
   "cell_type": "code",
   "execution_count": null,
   "id": "18",
   "metadata": {
    "colab": {
     "base_uri": "https://localhost:8080/",
     "height": 944
    },
    "id": "c55cb40b",
    "outputId": "43ea544e-0c2a-4e56-909c-91c9abe19387"
   },
   "outputs": [],
   "source": [
    "_, state, _ = tf_problem.optimize()"
   ]
  },
  {
   "cell_type": "markdown",
   "id": "19",
   "metadata": {
    "id": "011ee8b4"
   },
   "source": [
    "## 2) Turbine type optimization"
   ]
  },
  {
   "cell_type": "markdown",
   "id": "20",
   "metadata": {
    "id": "A7IKHzZ4IlSD"
   },
   "source": [
    "In this example we use the turbine types as design variables, which represent discrete points in the optimization. Because of this, gradient-based methods are not suitable and gradient-free options are needed instead. For this case, we use the **FullFactorialGenerator** as our driver (see the [Drivers](#drivers.ipnyb) tutorial for more information.) We also use the `TurbineTypePlotComponent` available in TOPFARM to visualize the final turbine types."
   ]
  },
  {
   "cell_type": "code",
   "execution_count": null,
   "id": "21",
   "metadata": {
    "id": "nJ5sHd56JXvK"
   },
   "outputs": [],
   "source": [
    "from topfarm.cost_models.dummy import DummyCost\n",
    "from topfarm._topfarm import TopFarmProblem\n",
    "from openmdao.drivers.doe_generators import FullFactorialGenerator\n",
    "from topfarm.plotting import TurbineTypePlotComponent, NoPlot"
   ]
  },
  {
   "cell_type": "code",
   "execution_count": null,
   "id": "22",
   "metadata": {
    "id": "FpuJamfwLTPm"
   },
   "outputs": [],
   "source": [
    "# define the conditions for the wind farm\n",
    "positions = np.array([[0, 0], [6, 6]])  # initial turbine position\n",
    "optimal_types = np.array([[2], [6]])    # optimal layout\n",
    "\n",
    "#set up plotting component for turbine types\n",
    "plot_comp = TurbineTypePlotComponent(\n",
    "                turbine_type_names=[\"Turbine %d\" % i for i in range(5)],\n",
    "                plot_initial=False,\n",
    "                delay=0.1, legendloc=0)"
   ]
  },
  {
   "cell_type": "code",
   "execution_count": null,
   "id": "23",
   "metadata": {
    "colab": {
     "base_uri": "https://localhost:8080/"
    },
    "id": "zm-7C0ELLdui",
    "outputId": "7aa8b2f1-e360-4cb9-f897-6de1c3da502d"
   },
   "outputs": [],
   "source": [
    "tf = TopFarmProblem(\n",
    "            design_vars={'type': ([0, 0], 0, 4)},\n",
    "            cost_comp=DummyCost(optimal_types, ['type']),\n",
    "            plot_comp=plot_comp,\n",
    "            driver=FullFactorialGenerator(5),\n",
    "            ext_vars={'x': positions[:, 0], 'y': positions[:, 1]},\n",
    "        )"
   ]
  },
  {
   "cell_type": "code",
   "execution_count": null,
   "id": "24",
   "metadata": {
    "colab": {
     "base_uri": "https://localhost:8080/",
     "height": 1000
    },
    "id": "cj3mNaRwL24J",
    "outputId": "be3e7d2b-8b0c-4165-f5de-ce4225eaf994"
   },
   "outputs": [],
   "source": [
    "state = {}\n",
    "cost, state, recorder = tf.optimize(state)"
   ]
  },
  {
   "cell_type": "code",
   "execution_count": null,
   "id": "25",
   "metadata": {
    "colab": {
     "base_uri": "https://localhost:8080/"
    },
    "id": "CqjMOO6NOCuA",
    "outputId": "3f0e283f-144b-4f45-8181-dd0fdb494b35"
   },
   "outputs": [],
   "source": [
    "print(state['type'])"
   ]
  }
 ],
 "metadata": {
  "colab": {
   "provenance": []
  },
  "language_info": {
   "codemirror_mode": {
    "name": "ipython",
    "version": 3
   },
   "file_extension": ".py",
   "mimetype": "text/x-python",
   "name": "python",
   "nbconvert_exporter": "python",
   "pygments_lexer": "ipython3"
  }
 },
 "nbformat": 4,
 "nbformat_minor": 5
}
