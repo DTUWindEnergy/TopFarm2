{
 "cells": [
  {
   "cell_type": "markdown",
   "id": "0",
   "metadata": {},
   "source": [
    "# Energy Island Wind Farm Cluster"
   ]
  },
  {
   "cell_type": "markdown",
   "id": "1",
   "metadata": {},
   "source": [
    "[Try this yourself](https://colab.research.google.com/github/DTUWindEnergy/TopFarm2/blob/master/docs/notebooks/wind_farm_cluster.ipynb) (requires google account)"
   ]
  },
  {
   "cell_type": "code",
   "execution_count": null,
   "id": "2",
   "metadata": {},
   "outputs": [],
   "source": [
    "# Install TopFarm if needed\n",
    "import importlib\n",
    "if not importlib.util.find_spec(\"topfarm\"):\n",
    "    !pip install git+https://gitlab.windenergy.dtu.dk/TOPFARM/TopFarm2.git"
   ]
  },
  {
   "cell_type": "code",
   "execution_count": null,
   "id": "3",
   "metadata": {},
   "outputs": [],
   "source": [
    "import numpy as np\n",
    "import matplotlib.pyplot as plt\n",
    "import matplotlib.colors as mcolors\n",
    "from matplotlib.patches import Polygon as PLTPolygon\n",
    "from shapely.geometry import Polygon\n",
    "from topfarm.examples.energy_island import EnergyIsland"
   ]
  },
  {
   "cell_type": "code",
   "execution_count": null,
   "id": "4",
   "metadata": {},
   "outputs": [],
   "source": [
    "TFC = EnergyIsland()\n",
    "TFC.x_target = TFC.x_target\n",
    "TFC.y_target = TFC.y_target"
   ]
  },
  {
   "cell_type": "code",
   "execution_count": null,
   "id": "5",
   "metadata": {},
   "outputs": [],
   "source": [
    "RPs = np.arange(10, 16).astype(int)\n",
    "n_wt_list = (1000/RPs).astype(int)\n",
    "wt_types = [5, 2, 4, 3, 1, 3, 2, 2, 2, 2]\n",
    "n_wts = n_wt_list[wt_types].tolist()\n",
    "random_pct = 50\n",
    "seeds_ss = 10 * [0]\n",
    "ws_ss = [10]\n",
    "wd_ss = np.arange(0, 360, 30)\n",
    "fn_prefix_ss = 'ss_states/ss_state'\n",
    "fn_prefix_sim = 'sim/sim_res'\n",
    "construction_days = [   0,  360,  720, 1080, 1440, 1800, 2160, 2520, 2880, 3240]\n",
    "df = TFC.run(wt_types,\n",
    "        n_wts,\n",
    "        construction_days,\n",
    "        seeds_ss,)\n"
   ]
  },
  {
   "cell_type": "code",
   "execution_count": null,
   "id": "6",
   "metadata": {},
   "outputs": [],
   "source": [
    "df"
   ]
  },
  {
   "cell_type": "code",
   "execution_count": null,
   "id": "7",
   "metadata": {},
   "outputs": [],
   "source": [
    "colors = list(mcolors.TABLEAU_COLORS)\n",
    "fig, ax = plt.subplots(figsize=(8, 10))\n",
    "for n, farm in enumerate(TFC.wind_farm_boundaries):\n",
    "    polygon = Polygon(np.asarray(farm).T)\n",
    "    if n==0:\n",
    "        label = 'target farm'\n",
    "    else:\n",
    "        label = f'farm {n-1}'\n",
    "        ax.text(polygon.centroid.x, polygon.centroid.y, f'{n-1}', color = colors[n],\n",
    "               bbox={'facecolor':'white','alpha':1,'edgecolor':'none','pad':1},\n",
    "              ha='center', va='center') \n",
    "    ax.plot(farm[0] + [farm[0][0]], farm[1] + [farm[1][0]], color=colors[n], label = label)\n",
    "    ax.add_patch(PLTPolygon(np.asarray(farm).T, closed=True, color=colors[n]))\n",
    "ax.set_aspect('equal', adjustable='box')\n",
    "ax.axes.get_xaxis().set_visible(False)\n",
    "ax.axes.get_yaxis().set_visible(False)"
   ]
  },
  {
   "cell_type": "code",
   "execution_count": null,
   "id": "8",
   "metadata": {},
   "outputs": [],
   "source": [
    "xs = np.arange(3653)\n",
    "plt.figure(figsize=(15,10))\n",
    "plt.plot(xs, df.power_no_neighbours_no_wake.rolling(365).mean()/10**6, label='no wake loss')\n",
    "plt.plot(xs, df.power_no_neighbours.rolling(365).mean()/10**6, label='with internal wake loss')\n",
    "plt.plot(xs, df.power_no_wake.rolling(365).mean()/10**6, label='with external wake loss')\n",
    "plt.plot(xs, df.power.rolling(365).mean()/10**6, label='with internal and external wake loss')\n",
    "plt.legend()\n",
    "plt.title('Monthly mean farm power for different loss types')\n",
    "plt.xlabel('Month no.')\n",
    "plt.ylabel('Farm power [MW]')\n",
    "plt.savefig('monthly_mean_power.png')"
   ]
  },
  {
   "cell_type": "code",
   "execution_count": null,
   "id": "9",
   "metadata": {},
   "outputs": [],
   "source": []
  }
 ],
 "metadata": {
  "language_info": {
   "codemirror_mode": {
    "name": "ipython",
    "version": 3
   },
   "file_extension": ".py",
   "mimetype": "text/x-python",
   "name": "python",
   "nbconvert_exporter": "python",
   "pygments_lexer": "ipython3"
  }
 },
 "nbformat": 4,
 "nbformat_minor": 5
}
