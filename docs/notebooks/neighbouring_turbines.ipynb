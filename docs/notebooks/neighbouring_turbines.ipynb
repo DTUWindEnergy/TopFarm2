{
 "cells": [
  {
   "cell_type": "markdown",
   "id": "0",
   "metadata": {},
   "source": [
    "# Optimization of wind farm including neighbouring turbines\n",
    "In Topfarm you have the option to include neighbouring wind turbines in your optimization. This means that the wakes from these turbines will be considered when calulating the optimal AEP, but their positions are not considered design variables. Note that the accuaracy of this is dependent on the distance to the neighbouring wind turbines and your wind farm models ability to predict long distance wakes."
   ]
  },
  {
   "cell_type": "code",
   "execution_count": null,
   "id": "1",
   "metadata": {},
   "outputs": [],
   "source": [
    "# Install TopFarm if needed\n",
    "import importlib\n",
    "if not importlib.util.find_spec(\"topfarm\"):\n",
    "    !pip install git+https://gitlab.windenergy.dtu.dk/TOPFARM/TopFarm2.git"
   ]
  },
  {
   "cell_type": "code",
   "execution_count": null,
   "id": "2",
   "metadata": {},
   "outputs": [],
   "source": [
    "import numpy as np\n",
    "import matplotlib.pyplot as plt\n",
    "\n",
    "import topfarm\n",
    "from topfarm import TopFarmProblem\n",
    "from topfarm.constraint_components.boundary import XYBoundaryConstraint\n",
    "from topfarm.constraint_components.spacing import SpacingConstraint\n",
    "from topfarm.cost_models.py_wake_wrapper import PyWakeAEPCostModelComponentAdditionalTurbines\n",
    "from topfarm.easy_drivers import EasyScipyOptimizeDriver\n",
    "from topfarm.plotting import XYPlotComp\n",
    "from topfarm.cost_models.cost_model_wrappers import AEPCostModelComponent\n",
    "\n",
    "from py_wake.deficit_models.gaussian import BastankhahGaussian\n",
    "from py_wake.utils.gradients import autograd\n",
    "from py_wake.validation.lillgrund import wt_x, wt_y, LillgrundSite, ct_curve, power_curve\n",
    "from py_wake.wind_turbines import WindTurbine\n",
    "from py_wake.wind_turbines.power_ct_functions import PowerCtTabular"
   ]
  },
  {
   "cell_type": "code",
   "execution_count": null,
   "id": "3",
   "metadata": {},
   "outputs": [],
   "source": [
    "x2 = np.array([363089.20620581, 362841.19815026, 363024.53745529, 363202.56273871,\n",
    "       362627.89297065, 363352.67353534, 362882.00280241, 362774.92495544,\n",
    "       363488.38307778, 362491.87485306, 363244.96531305, 363181.03168444,\n",
    "       362454.34857131, 363640.1295227 , 362609.32998744, 362909.74450436,\n",
    "       363554.08869674, 362254.36079251, 363543.89240439, 362963.61115875,\n",
    "       362482.47585633, 363819.8209275 , 362305.36330315, 363189.81567612,\n",
    "       363439.03577114, 362141.72363739, 363833.70922823, 362638.81518275,\n",
    "       362677.64959042, 363857.74204276, 362047.26220207, 363541.54387668,\n",
    "       363172.26863347, 362183.59639605, 364044.33022603, 362278.14662334,\n",
    "       363005.25808714, 363734.05077116, 361897.72732477, 363893.16789162,\n",
    "       362796.78418716, 362387.86536213, 364121.72384201, 361953.11392421,\n",
    "       363413.71283633, 363453.74796523, 361900.61873674, 364175.02685267,\n",
    "       362371.77324208])\n",
    "y2 = np.array([6154000.        , 6153854.5244973 , 6154279.59164709,\n",
    "       6153735.79277733, 6154065.82049407, 6154224.34203495,\n",
    "       6153561.05630649, 6154433.36830217, 6153821.6432833 ,\n",
    "       6153790.2533259 , 6154523.47664532, 6153422.84246344,\n",
    "       6154316.21615621, 6154140.73067986, 6153444.31210837,\n",
    "       6154696.49543065, 6153533.01345979, 6153969.1654778 ,\n",
    "       6154541.2455867 , 6153213.05775872, 6154620.16688662,\n",
    "       6153889.69425372, 6153516.6898791 , 6154843.74971121,\n",
    "       6153233.82403924, 6154273.81356891, 6154385.19480965,\n",
    "       6153136.96734381, 6154896.21625677, 6153549.19482153,\n",
    "       6153748.86137406, 6154842.22515422, 6152997.6181212 ,\n",
    "       6154632.26883894, 6154086.52062451, 6153219.69765135,\n",
    "       6155077.84457572, 6153190.81616147, 6154102.15838379,\n",
    "       6154677.88258593, 6152882.94617467, 6154972.74316899,\n",
    "       6153692.58200013, 6153462.7553504 , 6155115.91934059,\n",
    "       6152885.37941837, 6154521.01729715, 6154362.27333719,\n",
    "       6152928.04241305])\n",
    "wind_turbines = WindTurbine('SWT2p3_93_65', 92.6, 65, PowerCtTabular(ct_curve[:,0],power_curve[:,1], 'kW', ct_curve[:,1]))\n",
    "n_wt = len(wt_x)\n",
    "site = LillgrundSite()\n",
    "wf_model = BastankhahGaussian(site, wind_turbines)\n",
    "constraint_comp = XYBoundaryConstraint(np.asarray([wt_x, wt_y]).T)\n",
    "cost_comp = PyWakeAEPCostModelComponentAdditionalTurbines(windFarmModel=wf_model,\n",
    "                                        n_wt=n_wt,\n",
    "                                        add_wt_x=x2,\n",
    "                                        add_wt_y=y2,\n",
    "                                        grad_method=autograd)\n",
    "plot_comp = XYPlotComp()\n",
    "problem = TopFarmProblem(design_vars={'x': wt_x, 'y': wt_y},\n",
    "                        constraints=[constraint_comp, SpacingConstraint(min_spacing=wind_turbines.diameter() * 2)],\n",
    "                        cost_comp=cost_comp,\n",
    "                        driver=EasyScipyOptimizeDriver(optimizer='SLSQP', maxiter=5),\n",
    "                        plot_comp=plot_comp)\n",
    "\n",
    "cost, state, recorder = problem.optimize(disp=True)\n",
    "plt.figure()\n",
    "plt.plot(np.concatenate((wt_x, x2)), np.concatenate((wt_y, y2)), '2k')\n"
   ]
  }
 ],
 "metadata": {
  "language_info": {
   "codemirror_mode": {
    "name": "ipython",
    "version": 3
   },
   "file_extension": ".py",
   "mimetype": "text/x-python",
   "name": "python",
   "nbconvert_exporter": "python",
   "pygments_lexer": "ipython3"
  }
 },
 "nbformat": 4,
 "nbformat_minor": 5
}
