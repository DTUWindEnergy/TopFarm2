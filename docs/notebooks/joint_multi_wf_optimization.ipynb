{
 "cells": [
  {
   "cell_type": "markdown",
   "metadata": {},
   "source": [
    "# Joint Multi Wind Farm Optimization"
   ]
  },
  {
   "cell_type": "markdown",
   "metadata": {},
   "source": [
    "TopFarm is capable of doing a joint optimization over multiple wind farms at once. This way we can define multiple boundaries assigned to a cluster of turbines, seperating them into blocks."
   ]
  },
  {
   "cell_type": "code",
   "execution_count": null,
   "metadata": {},
   "outputs": [],
   "source": [
    "# Install TopFarm if needed\n",
    "import importlib\n",
    "if not importlib.util.find_spec(\"topfarm\"):\n",
    "    !pip install git+https://gitlab.windenergy.dtu.dk/TOPFARM/TopFarm2.git"
   ]
  },
  {
   "cell_type": "markdown",
   "metadata": {},
   "source": [
    "Import required modules"
   ]
  },
  {
   "cell_type": "code",
   "execution_count": null,
   "metadata": {},
   "outputs": [],
   "source": [
    "import numpy as np\n",
    "import topfarm\n",
    "import matplotlib.pyplot as plt\n",
    "from topfarm import TopFarmProblem\n",
    "from topfarm.constraint_components.boundary import (\n",
    "    MultiWFBoundaryConstraint,\n",
    "    BoundaryType,\n",
    ")\n",
    "from topfarm.constraint_components.constraint_aggregation import (\n",
    "    DistanceConstraintAggregation,\n",
    ")\n",
    "from topfarm.constraint_components.spacing import SpacingConstraint\n",
    "from topfarm.cost_models.py_wake_wrapper import (\n",
    "    PyWakeAEPCostModelComponent,\n",
    ")\n",
    "from topfarm.easy_drivers import EasyScipyOptimizeDriver, EasySGDDriver\n",
    "from topfarm.plotting import XYPlotComp\n",
    "from py_wake.literature.gaussian_models import Bastankhah_PorteAgel_2014\n",
    "from py_wake.utils.gradients import autograd\n",
    "from py_wake.validation.lillgrund import LillgrundSite\n",
    "from py_wake.wind_turbines.generic_wind_turbines import GenericWindTurbine\n",
    "from topfarm.cost_models.cost_model_wrappers import AEPCostModelComponent"
   ]
  },
  {
   "cell_type": "markdown",
   "metadata": {},
   "source": [
    "PyWake model setup"
   ]
  },
  {
   "cell_type": "code",
   "execution_count": null,
   "metadata": {},
   "outputs": [],
   "source": [
    "wind_turbines = GenericWindTurbine(\"GenWT\", 100.6, 2000, 150)\n",
    "site = LillgrundSite()\n",
    "wf_model = Bastankhah_PorteAgel_2014(\n",
    "    site,\n",
    "    wind_turbines,\n",
    "    k=0.0324555,  # default value from BastankhahGaussianDeficit\n",
    ")"
   ]
  },
  {
   "cell_type": "markdown",
   "metadata": {},
   "source": [
    "Generate initial layout. With variable `grid_side` you can adjust how many turbines each boundary has i.e. $N_{wt} = size_{grid}^2 * N_{boundaries} = size_{grid}^2 * 3$"
   ]
  },
  {
   "cell_type": "code",
   "execution_count": null,
   "metadata": {},
   "outputs": [],
   "source": [
    "# generate initial positions\n",
    "grid_size = 2\n",
    "wt_x1, wt_y1 = np.meshgrid(\n",
    "    np.linspace(0, wind_turbines.diameter() * grid_size, grid_size),\n",
    "    np.linspace(0, wind_turbines.diameter() * grid_size, grid_size),\n",
    ")\n",
    "wt_x1, wt_y1 = wt_x1.flatten(), wt_y1.flatten()\n",
    "wt_x2 = wt_x1 + wind_turbines.diameter() * grid_size * 3.0\n",
    "wt_y2 = wt_y1\n",
    "wt_y3 = wt_y1 + wind_turbines.diameter() * grid_size * 3.0\n",
    "wt_x3 = wt_x1\n",
    "X_full = np.concatenate([wt_x1, wt_x2, wt_x3])\n",
    "Y_full = np.concatenate([wt_y1, wt_y2, wt_y3])\n",
    "n_wt = len(X_full)\n",
    "print(f\"Initial layout has {n_wt} wind turbines\")\n",
    "\n",
    "# plot initial layout\n",
    "plt.figure()\n",
    "plt.plot(X_full, Y_full, \"x\", c=\"magenta\")\n",
    "# put indeces on the wind turbines\n",
    "for i in range(n_wt):\n",
    "    plt.text(X_full[i] + 10, Y_full[i], str(i + 1), fontsize=12)\n",
    "plt.axis(\"equal\")\n",
    "plt.show()"
   ]
  },
  {
   "cell_type": "markdown",
   "metadata": {},
   "source": [
    "Create masks designating which turbines are assigned to which farm"
   ]
  },
  {
   "cell_type": "code",
   "execution_count": null,
   "metadata": {},
   "outputs": [],
   "source": [
    "n_wt_sf = n_wt // 3\n",
    "wf1_mask = np.zeros(n_wt, dtype=bool)\n",
    "wf1_mask[:n_wt_sf] = True\n",
    "wf2_mask = np.zeros(n_wt, dtype=bool)\n",
    "wf2_mask[n_wt_sf : n_wt_sf * 2] = True\n",
    "wf3_mask = ~(wf1_mask | wf2_mask)  # the rest of turbines\n",
    "\n",
    "print(f\"Turbines belonging to wind farm 1: {np.where(wf1_mask)[0]}\")\n",
    "print(f\"Turbines belonging to wind farm 2: {np.where(wf2_mask)[0]}\")\n",
    "print(f\"Turbines belonging to wind farm 3: {np.where(wf3_mask)[0]}\")"
   ]
  },
  {
   "cell_type": "markdown",
   "metadata": {},
   "source": [
    "Construct a constraint object from the masks and initial layouts. You can choose which type of constraint to create from available enum options in ConstraintType. There are two options: circular or convex hull constraint. You can change `constr_type` variable and run optimization once more with different constaint type."
   ]
  },
  {
   "cell_type": "code",
   "execution_count": null,
   "metadata": {},
   "outputs": [],
   "source": [
    "# utility functions to construct the boundary constraint\n",
    "def _get_radius(x, y):  # fmt: skip\n",
    "    return np.sqrt((x - x.mean()) ** 2 + (y - y.mean()) ** 2).max() + 100\n",
    "def _get_center(x, y):  # fmt: skip\n",
    "    return np.array([x.mean(), y.mean()])\n",
    "def _get_corners(x: np.ndarray, y: np.ndarray, radius, stype='rect'):  # fmt: skip\n",
    "    cx = x.mean()\n",
    "    cy = y.mean()\n",
    "    if stype == \"rect\":\n",
    "        return np.array(\n",
    "            [\n",
    "                [cx + radius, cy + radius],\n",
    "                [cx - radius, cy - radius],\n",
    "                [cx + radius, cy - radius],\n",
    "                [cx - radius, cy + radius],\n",
    "            ]\n",
    "        )\n",
    "    if stype == \"rot\":\n",
    "        return np.array(\n",
    "            [\n",
    "                [cx, cy + radius],\n",
    "                [cx + radius, cy],\n",
    "                [cx, cy - radius],\n",
    "                [cx - radius, cy],\n",
    "            ]\n",
    "        )\n",
    "    if stype == \"hex\":\n",
    "        return np.array(\n",
    "            [\n",
    "                [cx + radius, cy],\n",
    "                [cx + radius / 2, cy + radius * np.sqrt(3) / 2],\n",
    "                [cx - radius / 2, cy + radius * np.sqrt(3) / 2],\n",
    "                [cx - radius, cy],\n",
    "                [cx - radius / 2, cy - radius * np.sqrt(3) / 2],\n",
    "                [cx + radius / 2, cy - radius * np.sqrt(3) / 2],\n",
    "            ]\n",
    "        )\n",
    "    raise ValueError(f\"Unknown shape type: {stype}\")\n",
    "\n",
    "constr_type = BoundaryType.CONVEX_HULL  # or BoundaryType.CONVEX_HULL\n",
    "wt_groups = [\n",
    "    np.arange(n_wt // 3),\n",
    "    np.arange(n_wt // 3, n_wt // 3 * 2),\n",
    "    np.arange(n_wt // 3 * 2, n_wt),\n",
    "]\n",
    "\n",
    "if constr_type == BoundaryType.CIRCLE:\n",
    "    constraint_comp = MultiWFBoundaryConstraint(\n",
    "        geometry=[\n",
    "            (_get_center(wt_x1, wt_y1), _get_radius(wt_x1, wt_y1)),\n",
    "            (_get_center(wt_x2, wt_y2), _get_radius(wt_x2, wt_y2)),\n",
    "            (_get_center(wt_x3, wt_y3), _get_radius(wt_x3, wt_y3)),\n",
    "        ],\n",
    "        wt_groups=wt_groups,\n",
    "        boundtype=constr_type,\n",
    "    )\n",
    "elif constr_type == BoundaryType.CONVEX_HULL:\n",
    "    radius = (\n",
    "        np.sqrt((wt_x1 - wt_x1.mean()) ** 2 + (wt_y1 - wt_y1.mean()) ** 2).max() + 150\n",
    "    )\n",
    "    constraint_comp = MultiWFBoundaryConstraint(\n",
    "        geometry=[\n",
    "            _get_corners(wt_x1, wt_y1, radius, stype=\"rot\"),\n",
    "            _get_corners(wt_x2, wt_y2, radius, stype=\"hex\"),\n",
    "            _get_corners(wt_x3, wt_y3, radius, stype=\"rect\"),\n",
    "        ],\n",
    "        wt_groups=wt_groups,\n",
    "        boundtype=constr_type,\n",
    "    )\n",
    "else:\n",
    "    raise ValueError(f\"Unknown constraint type: {constr_type}\")\n",
    "\n",
    "# let's see how the boundaries look like\n",
    "fig = plt.figure()\n",
    "ax1 = fig.add_subplot(111)\n",
    "plt.plot(X_full, Y_full, \"x\", c=\"magenta\")\n",
    "for i in range(n_wt):\n",
    "    plt.text(X_full[i] + 10, Y_full[i], str(i + 1), fontsize=12)\n",
    "plt.axis(\"equal\")\n",
    "constraint_comp.get_comp(n_wt).plot(ax1)\n",
    "plt.show()"
   ]
  },
  {
   "cell_type": "markdown",
   "metadata": {},
   "source": [
    "Setup cost model based on PyWake AEP. There are two different options here, to be used with Stohastic Gradient Decent (SGD) or Sequential Least Squares Programming (SLSQP) optimization algorithms. Due to stochastic nature of SGD one can sample part of the full wind speeds and directions and compute AEP on partial observations."
   ]
  },
  {
   "cell_type": "code",
   "execution_count": null,
   "metadata": {},
   "outputs": [],
   "source": [
    "np.random.seed(42)\n",
    "# Wind Resouces\n",
    "full_wd = np.arange(0, 360, 1)  # wind directions\n",
    "full_ws = np.arange(3, 25, 1)  # wind speeds\n",
    "freqs = site.local_wind(  # sector frequencies\n",
    "    X_full,\n",
    "    Y_full,\n",
    "    wd=full_wd,\n",
    "    ws=full_ws,\n",
    ").Sector_frequency_ilk[0, :, 0]\n",
    "# weibull parameters\n",
    "As = site.local_wind(X_full, Y_full, wd=full_wd, ws=full_ws).Weibull_A_ilk[0, :, 0]\n",
    "ks = site.local_wind(X_full, Y_full, wd=full_wd, ws=full_ws).Weibull_k_ilk[0, :, 0]\n",
    "N_SAMPLES = 25  # play with the number of samples\n",
    "\n",
    "\n",
    "# sample wind resources\n",
    "def wind_resource_sample():\n",
    "    idx = np.random.choice(np.arange(full_wd.size), N_SAMPLES, p=freqs / freqs.sum())\n",
    "    wd = full_wd[idx]\n",
    "    ws = As[idx] * np.random.weibull(ks[idx])\n",
    "    return wd, ws\n",
    "\n",
    "\n",
    "# aep function - SGD\n",
    "def aep_func(x, y, full=False, **kwargs):\n",
    "    wd, ws = wind_resource_sample() if not full else (full_wd, full_ws)\n",
    "    aep_sgd = wf_model(x, y, wd=wd, ws=ws, time=not full).aep().sum().values * 1e6\n",
    "    return aep_sgd\n",
    "\n",
    "\n",
    "# gradient function - SGD\n",
    "def aep_jac(x, y, **kwargs):\n",
    "    wd, ws = wind_resource_sample()\n",
    "    jx, jy = wf_model.aep_gradients(\n",
    "        gradient_method=autograd, wrt_arg=[\"x\", \"y\"], x=x, y=y, ws=ws, wd=wd, time=True\n",
    "    )\n",
    "    daep_sgd = np.array([np.atleast_2d(jx), np.atleast_2d(jy)]) * 1e6\n",
    "    return daep_sgd\n",
    "\n",
    "\n",
    "# AEP Cost Model Component - SGD\n",
    "sgd_cost_comp = AEPCostModelComponent(\n",
    "    input_keys=[topfarm.x_key, topfarm.y_key],\n",
    "    n_wt=n_wt,\n",
    "    cost_function=aep_func,\n",
    "    cost_gradient_function=aep_jac,\n",
    ")\n",
    "\n",
    "# AEP Cost Model Component - SLSQP\n",
    "slsqp_cost_comp = PyWakeAEPCostModelComponent(\n",
    "    windFarmModel=wf_model, n_wt=n_wt, grad_method=autograd\n",
    ")"
   ]
  },
  {
   "cell_type": "markdown",
   "metadata": {},
   "source": [
    "Setup a driver to be used in optimization. You can try running with either of SLSQP or SGD by changing the driver type."
   ]
  },
  {
   "cell_type": "code",
   "execution_count": null,
   "metadata": {},
   "outputs": [],
   "source": [
    "driver_type = \"SGD\"  # \"SLSQP\" or \"SGD\"\n",
    "min_spacing = wind_turbines.diameter() * 2\n",
    "\n",
    "if driver_type == \"SLSQP\":\n",
    "    constraints = [\n",
    "        constraint_comp,\n",
    "        SpacingConstraint(min_spacing=min_spacing),\n",
    "    ]\n",
    "    driver = EasyScipyOptimizeDriver(\n",
    "        optimizer=\"SLSQP\",\n",
    "        # might not be enough for the optimizer to converge\n",
    "        maxiter=30,\n",
    "    )\n",
    "    cost_comp = slsqp_cost_comp\n",
    "elif driver_type == \"SGD\":\n",
    "    constraints = DistanceConstraintAggregation(\n",
    "        constraint_comp,\n",
    "        n_wt=n_wt,\n",
    "        min_spacing_m=min_spacing,\n",
    "        windTurbines=wind_turbines,\n",
    "    )\n",
    "    driver = EasySGDDriver(\n",
    "        # might not be enough for the optimizer to converge\n",
    "        maxiter=30,\n",
    "        speedupSGD=True,\n",
    "        learning_rate=wind_turbines.diameter() / 5,\n",
    "        gamma_min_factor=0.1,\n",
    "    )\n",
    "    cost_comp = sgd_cost_comp\n",
    "else:\n",
    "    raise ValueError(f\"Unknown driver: {driver_type}\")"
   ]
  },
  {
   "cell_type": "markdown",
   "metadata": {},
   "source": [
    "Setup TopFarmProblem object and run the optimization. \n",
    "\n",
    "Due to sampling in the SGD AEP computation the final AEP result in the plot will not reflect the actual improvement in AEP. Thus it is necessary to compute AEP boost later on in the notebook."
   ]
  },
  {
   "cell_type": "code",
   "execution_count": null,
   "metadata": {},
   "outputs": [],
   "source": [
    "problem = TopFarmProblem(\n",
    "    design_vars={\"x\": X_full, \"y\": Y_full},\n",
    "    n_wt=n_wt,\n",
    "    constraints=constraints,\n",
    "    cost_comp=cost_comp,\n",
    "    driver=driver,\n",
    "    plot_comp=XYPlotComp(),\n",
    ")\n",
    "\n",
    "cost, state, recorder = problem.optimize(disp=True)"
   ]
  },
  {
   "cell_type": "code",
   "execution_count": null,
   "metadata": {},
   "outputs": [],
   "source": [
    "initial_aep = aep_func(recorder[\"x\"][0], recorder[\"y\"][0], full=True)\n",
    "final_aep = aep_func(recorder[\"x\"][-1], recorder[\"y\"][-1], full=True)\n",
    "print(f\"AEP relative improvement: {(final_aep - initial_aep) / initial_aep * 100:.2f}%\")"
   ]
  },
  {
   "cell_type": "code",
   "execution_count": null,
   "metadata": {},
   "outputs": [],
   "source": [
    "aeps = []\n",
    "iterations = range(len(recorder[\"x\"]))\n",
    "for i in iterations:\n",
    "    if i % 2 == 0:\n",
    "        continue\n",
    "    aeps.append(aep_func(recorder[\"x\"][i], recorder[\"y\"][i], full=True))\n",
    "plt.figure()\n",
    "plt.plot(np.arange(0, len(aeps) * 2, 2), aeps)\n",
    "plt.xlabel(\"Iteration\")\n",
    "plt.ylabel(\"AEP\")\n",
    "plt.title(\"AEP convergence\")\n",
    "plt.show()"
   ]
  },
  {
   "cell_type": "markdown",
   "metadata": {},
   "source": [
    "### Exercises\n",
    "\n",
    "1. Play with the optimization/drivers/constraints parameters to arrive at a desired result and convergence. \n",
    "2. You can increase the number of turbines at the very top of the notebook and try to solve a bigger problem."
   ]
  },
  {
   "cell_type": "markdown",
   "metadata": {},
   "source": [
    "### Non-Convex Boundaries\n",
    "\n",
    "Below is an example how to setup joint multi wind farm optimization with non-convex boundary constraints."
   ]
  },
  {
   "cell_type": "code",
   "execution_count": null,
   "metadata": {},
   "outputs": [],
   "source": [
    "wind_turbines = GenericWindTurbine(\"GenWT\", 100.6, 2000, 150)\n",
    "site = LillgrundSite()\n",
    "wf_model = Bastankhah_PorteAgel_2014(site, wind_turbines, k=0.0324555)\n",
    "\n",
    "\n",
    "def _get_astroid_points(cx: float, cy: float, radius: float, num_points: int = 32):\n",
    "    t = np.linspace(0, 2 * np.pi, num_points)\n",
    "    x = cx + radius * np.cos(t) ** 3\n",
    "    y = cy + radius * np.sin(t) ** 3\n",
    "    return np.column_stack((x, y))\n",
    "\n",
    "\n",
    "def _get_star_points(cx: float, cy: float, radius: float, points: int = 5):\n",
    "    angles = np.linspace(0, 2 * np.pi, 2 * points, endpoint=False)\n",
    "    outer_pts = np.array(\n",
    "        [[cx + radius * np.cos(t), cy + radius * np.sin(t)] for t in angles[::2]]\n",
    "    )\n",
    "    inner_pts = np.array(\n",
    "        [\n",
    "            [cx + (radius * 0.4) * np.cos(t), cy + (radius * 0.4) * np.sin(t)]\n",
    "            for t in angles[1::2]\n",
    "        ]\n",
    "    )\n",
    "    points = np.empty((2 * points, 2))\n",
    "    points[::2] = outer_pts\n",
    "    points[1::2] = inner_pts\n",
    "    return points\n",
    "\n",
    "\n",
    "def _get_corners(x: np.ndarray, y: np.ndarray, radius, shape=\"astroid\"):\n",
    "    \"\"\"Get corner points for different shapes.\"\"\"\n",
    "    cx = x.mean()\n",
    "    cy = y.mean()\n",
    "\n",
    "    if shape == \"astroid\":\n",
    "        return _get_astroid_points(cx, cy, radius)\n",
    "    elif shape == \"star\":\n",
    "        return _get_star_points(cx, cy, radius)\n",
    "    else:\n",
    "        raise ValueError(f\"Unknown shape: {shape}\")\n",
    "\n",
    "\n",
    "grid_side = 2\n",
    "wt_x, wt_y = np.meshgrid(\n",
    "    np.linspace(0, wind_turbines.diameter() * grid_side, grid_side),\n",
    "    np.linspace(0, wind_turbines.diameter() * grid_side, grid_side),\n",
    ")\n",
    "wt_x, wt_y = wt_x.flatten(), wt_y.flatten()\n",
    "radius = np.sqrt((wt_x - wt_x.mean()) ** 2 + (wt_y - wt_y.mean()) ** 2).max() + 150\n",
    "\n",
    "wt_x2 = wt_x + wind_turbines.diameter() * grid_side * 4.0\n",
    "wt_y2 = wt_y\n",
    "X_full = np.concatenate([wt_x, wt_x2])\n",
    "Y_full = np.concatenate([wt_y, wt_y2])\n",
    "n_wt = len(X_full)\n",
    "\n",
    "constraint_comp = MultiWFBoundaryConstraint(\n",
    "    geometry=[\n",
    "        _get_corners(wt_x, wt_y, radius, shape=\"astroid\"),\n",
    "        _get_corners(wt_x2, wt_y2, radius, shape=\"star\"),\n",
    "    ],\n",
    "    wt_groups=[np.arange(n_wt // 2), np.arange(n_wt // 2, n_wt)],\n",
    "    boundtype=BoundaryType.POLYGON,\n",
    ")\n",
    "cost_comp = PyWakeAEPCostModelComponent(\n",
    "    windFarmModel=wf_model, n_wt=n_wt, grad_method=autograd\n",
    ")\n",
    "problem = TopFarmProblem(\n",
    "    design_vars={\"x\": X_full, \"y\": Y_full},\n",
    "    n_wt=n_wt,\n",
    "    constraints=(\n",
    "        [\n",
    "            constraint_comp,\n",
    "            SpacingConstraint(min_spacing=wind_turbines.diameter() * 2),\n",
    "        ]\n",
    "    ),\n",
    "    cost_comp=cost_comp,\n",
    "    driver=(EasyScipyOptimizeDriver(optimizer=\"SLSQP\", maxiter=30)),\n",
    "    plot_comp=XYPlotComp(),\n",
    ")\n",
    "\n",
    "_, state, recorder = problem.optimize(disp=True)"
   ]
  },
  {
   "cell_type": "markdown",
   "metadata": {},
   "source": [
    "### Exercises\n",
    "\n",
    "1. Run non-convex optimization case with the SGD driver instead of SLSQP\n",
    "2. Try to tune the optimizer to beat the improvement achieved above (note that SGD improvement must be measured on full range of WS/WD i.e. not sampled subset; inspect what parameter `full` does in the AEP (objective) function of SGD iterations)"
   ]
  }
 ],
 "metadata": {
  "language_info": {
   "codemirror_mode": {
    "name": "ipython",
    "version": 3
   },
   "file_extension": ".py",
   "mimetype": "text/x-python",
   "name": "python",
   "nbconvert_exporter": "python",
   "pygments_lexer": "ipython3"
  }
 },
 "nbformat": 4,
 "nbformat_minor": 4
}
