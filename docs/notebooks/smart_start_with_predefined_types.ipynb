{
 "cells": [
  {
   "cell_type": "markdown",
   "id": "0",
   "metadata": {},
   "source": [
    "# Smart start with different predefined turbine types\n",
    "Smart start is a greedy algorithm that could improve your initial layout before optimization by successively placing a turbine and performing an AEP-map computation (calculating AEP for a range of grid points specified by the user).\n",
    "This example shows how to use smart start on a wind farm comprised of a know number of different turbine types."
   ]
  },
  {
   "cell_type": "markdown",
   "id": "1",
   "metadata": {},
   "source": [
    "**Install TOPFARM if needed**"
   ]
  },
  {
   "cell_type": "code",
   "execution_count": null,
   "id": "2",
   "metadata": {},
   "outputs": [],
   "source": [
    "# Install TopFarm if needed\n",
    "import importlib\n",
    "if not importlib.util.find_spec(\"topfarm\"):\n",
    "    !pip install git+https://gitlab.windenergy.dtu.dk/TOPFARM/TopFarm2.git"
   ]
  },
  {
   "cell_type": "code",
   "execution_count": null,
   "id": "3",
   "metadata": {},
   "outputs": [],
   "source": [
    "import numpy as np\n",
    "from topfarm._topfarm import TopFarmProblem\n",
    "from topfarm.constraint_components.boundary import CircleBoundaryConstraint\n",
    "from topfarm.constraint_components.spacing import SpacingTypeConstraint\n",
    "from topfarm.plotting import XYPlotComp\n",
    "from topfarm.easy_drivers import EasyScipyOptimizeDriver\n",
    "from topfarm.cost_models.py_wake_wrapper import PyWakeAEPCostModelComponent\n",
    "from py_wake.examples.data.iea37._iea37 import IEA37Site\n",
    "from py_wake.deficit_models.gaussian import IEA37SimpleBastankhahGaussian\n",
    "from py_wake.wind_turbines import WindTurbines\n",
    "from py_wake.wind_turbines.power_ct_functions import CubePowerSimpleCt"
   ]
  },
  {
   "cell_type": "markdown",
   "id": "4",
   "metadata": {},
   "source": [
    "## Setup problem\n",
    "Here a site with 3 different generic turbine types is instantiated. Note that here we also establish how many of each type is present in the farm; 5 x T1, 6 x T2 and 5 x T3"
   ]
  },
  {
   "cell_type": "code",
   "execution_count": null,
   "id": "5",
   "metadata": {},
   "outputs": [],
   "source": [
    "%%capture\n",
    "n_wt = 16\n",
    "site = IEA37Site(n_wt)\n",
    "windTurbines = WindTurbines(names=['T1', 'T2', 'T3'],\n",
    "                                    diameters=[110, 130, 150],\n",
    "                                    hub_heights=[110, 130, 150],\n",
    "                                    powerCtFunctions = [CubePowerSimpleCt(power_rated=200 * 110 ** 2, power_unit='W'),\n",
    "                                                       CubePowerSimpleCt(power_rated=200 * 130 ** 2, power_unit='W'),\n",
    "                                                       CubePowerSimpleCt(power_rated=200 * 150 ** 2, power_unit='W')],)\n",
    "windFarmModel = IEA37SimpleBastankhahGaussian(site, windTurbines)\n",
    "init_types = 5 * [2] + 6 * [1] + 5 *[0]\n",
    "tf = TopFarmProblem(\n",
    "    design_vars=dict(zip('xy', site.initial_position.T)),\n",
    "    cost_comp=PyWakeAEPCostModelComponent(windFarmModel, n_wt, additional_input=[('type', np.zeros(n_wt))], grad_method=None), \n",
    "    driver=EasyScipyOptimizeDriver(maxiter=30),\n",
    "    constraints=[CircleBoundaryConstraint([0, 0], 1300.1),\n",
    "                 SpacingTypeConstraint([windTurbines.diameter(t) * 3.5 for t in [0, 1, 2]])],\n",
    "    plot_comp=XYPlotComp())\n",
    "tf['type']=init_types\n",
    "x = np.linspace(-1300,1300,51)\n",
    "y = np.linspace(-1300,1300,51)\n",
    "YY, XX = np.meshgrid(y, x)"
   ]
  },
  {
   "cell_type": "markdown",
   "id": "6",
   "metadata": {},
   "source": [
    "## Evaluate and optimize the problem with and without smart start"
   ]
  },
  {
   "cell_type": "code",
   "execution_count": null,
   "id": "7",
   "metadata": {},
   "outputs": [],
   "source": [
    "# initial layout:\n",
    "cost1, state1 = tf.evaluate(dict(zip('xy', site.initial_position.T)))\n",
    "# initial layout + optimization:\n",
    "cost2, state2, recorder2 = tf.optimize()\n",
    "# smart start:\n",
    "tf.smart_start(XX, YY, tf.cost_comp.get_aep4smart_start(type=init_types), seed=42)\n",
    "cost3, state3 = tf.evaluate()\n",
    "# smart start + optimization:\n",
    "cost4, state4, recorder4 = tf.optimize()"
   ]
  },
  {
   "cell_type": "code",
   "execution_count": null,
   "id": "8",
   "metadata": {},
   "outputs": [],
   "source": [
    "costs = [cost1, cost2, cost3, cost4]\n",
    "strings = ['initial', 'initial + 50 iter. optimization', 'smart start', 'smart start + 50 iter. optimization']\n",
    "for s, c in zip(strings, costs):\n",
    "    print(f'{s:35}: {abs(c):.1f}')"
   ]
  }
 ],
 "metadata": {
  "language_info": {
   "codemirror_mode": {
    "name": "ipython",
    "version": 3
   },
   "file_extension": ".py",
   "mimetype": "text/x-python",
   "name": "python",
   "nbconvert_exporter": "python",
   "pygments_lexer": "ipython3"
  }
 },
 "nbformat": 4,
 "nbformat_minor": 5
}
