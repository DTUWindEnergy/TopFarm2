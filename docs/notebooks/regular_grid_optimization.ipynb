{
 "cells": [
  {
   "cell_type": "markdown",
   "metadata": {},
   "source": [
    "# Grid layout optimization"
   ]
  },
  {
   "cell_type": "markdown",
   "metadata": {},
   "source": [
    "[Try this yourself](https://colab.research.google.com/github/DTUWindEnergy/TopFarm2/blob/master/docs/notebooks/regular_grid_optimization.ipynb) (requires google account)\n"
   ]
  },
  {
   "cell_type": "markdown",
   "metadata": {},
   "source": [
    "In this example, the wind farm layout is set up to represent a grid that depends on the inter-turbine spacing of the wind farm. This creates a regular layout where the turbines do not change their individual positions. An additional cost model component is created to translate the grid layout to individual turbine positions for later used in the topfarm optimization problem."
   ]
  },
  {
   "cell_type": "markdown",
   "metadata": {},
   "source": [
    "**Install TOPFARM if needed**"
   ]
  },
  {
   "cell_type": "code",
   "execution_count": null,
   "metadata": {},
   "outputs": [],
   "source": [
    "# Install TopFarm if needed\n",
    "import importlib\n",
    "if not importlib.util.find_spec(\"topfarm\"):\n",
    "    !pip install git+https://gitlab.windenergy.dtu.dk/TOPFARM/TopFarm2.git"
   ]
  },
  {
   "cell_type": "markdown",
   "metadata": {},
   "source": [
    "**First we import basic Python elements and some Topfarm classes**"
   ]
  },
  {
   "cell_type": "code",
   "execution_count": null,
   "metadata": {
    "id": "0tTJQPtBHbXU"
   },
   "outputs": [],
   "source": [
    "import numpy as np\n",
    "import matplotlib.pyplot as plt\n",
    "\n",
    "from py_wake.examples.data.hornsrev1 import V80, Hornsrev1Site\n",
    "from py_wake import BastankhahGaussian\n",
    "from py_wake.utils.gradients import autograd\n",
    "\n",
    "from topfarm import TopFarmProblem\n",
    "from topfarm.plotting import XYPlotComp\n",
    "from topfarm.easy_drivers import EasyScipyOptimizeDriver\n",
    "from topfarm.cost_models.cost_model_wrappers import CostModelComponent\n",
    "from topfarm.constraint_components.boundary import XYBoundaryConstraint\n",
    "from topfarm.constraint_components.spacing import SpacingConstraint\n",
    "from topfarm.utils import regular_generic_layout, regular_generic_layout_gradients"
   ]
  },
  {
   "cell_type": "markdown",
   "metadata": {},
   "source": [
    "This example is using the **topfarm.reg_x_key** and **topfarm.reg_y_key** which defaults to 'sx' and 'sy' respectively to indicate turbine spacing in x- and y-directions.\n",
    "\n",
    "The `TopfarmProblem` has to be instantiated with **'grid_layout_comp='** where you convert spacings into XY-coordinates, which enables the use of AEP-components and constraint components as `XYBoundaryConstraint` and `SpacingConstraint` components which rely on XY-coordinates. This is done by the **reg_grid_comp** component, taking the inter-turbine spacing and grid rotation as design variables.\n",
    "\n",
    "The regular grid functions in topfarm.utils also supports grid rotation, row-staggering and number of rows to number of columns ratio, as follows:\n",
    "\n",
    "    regular_generic_layout(n_wt, sx, sy, stagger, rotation, x0=0, y0=0, ratio=1.0):\n",
    "    '''\n",
    "    Parameters\n",
    "    ----------\n",
    "    n_wt : int\n",
    "        number of wind turbines\n",
    "    sx : float\n",
    "        spacing (in turbine diameters or meters) between turbines in x direction\n",
    "    sy : float\n",
    "        spacing (in turbine diameters or meters) between turbines in y direction\n",
    "    stagger : float\n",
    "        stagger (in turbine diameters or meters) distance every other turbine column\n",
    "    rotation : float\n",
    "        rotational angle of the grid in degrees\n",
    "    ratio : float\n",
    "        ratio between number of columns and number of rows (1.0)\n",
    "\n",
    "    Returns\n",
    "    -------\n",
    "    xy : array\n",
    "        2D array of x- and y-coordinates (in turbine diameters or meters)\n"
   ]
  },
  {
   "cell_type": "markdown",
   "metadata": {},
   "source": [
    "**First we set up site and optimization problem**"
   ]
  },
  {
   "cell_type": "code",
   "execution_count": null,
   "metadata": {
    "id": "2vx4s8huHfXq"
   },
   "outputs": [],
   "source": [
    "#specifying the site and wind turbines to use\n",
    "site = Hornsrev1Site()\n",
    "wt = V80()\n",
    "D = wt.diameter()\n",
    "windFarmModel = BastankhahGaussian(site, wt)\n",
    "n_wt = 16\n",
    "boundary = [[-800,-50], [1200, -50], [1200,2300], [-800, 2300]]\n",
    "stagger = 1 * D   #to create a staggered layout \n",
    "\n",
    "def reg_func(sx, sy, rotation, **kwargs):\n",
    "    x, y = regular_generic_layout(n_wt, sx, sy, stagger, rotation)\n",
    "    return [x, y]\n",
    "\n",
    "def reg_grad(sx, sy, rotation, **kwargs):\n",
    "    dx_dsx, dy_dsx, dx_dsy, dy_dsy, dx_dr, dy_dr = regular_generic_layout_gradients(n_wt, sx, sy, stagger, rotation)\n",
    "    return [[dx_dsx, dy_dsx], [dx_dsy, dy_dsy], [dx_dr, dy_dr]]\n",
    "\n",
    "reg_grid_comp = CostModelComponent(input_keys=[('sx', 0), \n",
    "                                               ('sy', 0),\n",
    "                                               ('rotation', 0)],\n",
    "                              n_wt=n_wt,\n",
    "                              cost_function=reg_func,\n",
    "                              cost_gradient_function = reg_grad,\n",
    "                              output_keys= [('x', np.zeros(n_wt)), ('y', np.zeros(n_wt))],\n",
    "                              objective=False,\n",
    "                              use_constraint_violation=False,\n",
    "                              )\n",
    "\n",
    "def aep_fun(x, y):\n",
    "    aep = windFarmModel(x, y).aep().sum()\n",
    "    return aep\n",
    "\n",
    "daep = windFarmModel.aep_gradients(gradient_method=autograd, wrt_arg=['x', 'y'])\n",
    "\n",
    "aep_comp = CostModelComponent(input_keys=['x', 'y'],\n",
    "                              n_wt=n_wt,\n",
    "                              cost_function=aep_fun,\n",
    "                              cost_gradient_function = daep,\n",
    "                              output_keys= (\"aep\", 0),\n",
    "                              output_unit=\"GWh\",\n",
    "                              maximize=True,\n",
    "                              objective=True)\n",
    "\n",
    "problem = TopFarmProblem(design_vars={'sx': (3*D, 2*D, 15*D), \n",
    "                                      'sy': (4*D, 2*D, 15*D), \n",
    "                                       'rotation': (50, 0, 90)\n",
    "                                      },\n",
    "                         constraints=[XYBoundaryConstraint(boundary),\n",
    "                                      SpacingConstraint(4*D)],\n",
    "                        grid_layout_comp=reg_grid_comp,\n",
    "                        n_wt = n_wt,\n",
    "                        cost_comp=aep_comp,\n",
    "                        driver=EasyScipyOptimizeDriver(optimizer='SLSQP', maxiter=30),\n",
    "                        plot_comp=XYPlotComp(),\n",
    "                        expected_cost=0.1,\n",
    "                        )"
   ]
  },
  {
   "cell_type": "markdown",
   "metadata": {},
   "source": [
    "Before running the optimization we can plot the regular wind farm layout with the **reg_func**, specifying an initial value for the inter-turbine spacing of 3D and rotation of 50 $deg$. You can also change the input values of the function to see how the wind farm layout changes and distorts when given a rotational angle."
   ]
  },
  {
   "cell_type": "code",
   "execution_count": null,
   "metadata": {},
   "outputs": [],
   "source": [
    "x, y = reg_func(3*D, 3*D, 50)\n",
    "plt.figure()\n",
    "plt.plot(x,y,'.')\n",
    "plt.xlabel('x [m]')\n",
    "plt.ylabel('y [m]')\n",
    "plt.title('Staggered wind farm layout with inter-turbine spacing of 3D')"
   ]
  },
  {
   "cell_type": "markdown",
   "metadata": {},
   "source": [
    "**Now we run the optimization**"
   ]
  },
  {
   "cell_type": "code",
   "execution_count": null,
   "metadata": {
    "colab": {
     "base_uri": "https://localhost:8080/",
     "height": 696
    },
    "id": "K2ch8htcRrf_",
    "outputId": "4392438c-6533-4336-fbe2-acc698ed84f6"
   },
   "outputs": [],
   "source": [
    "cost, state, recorder = problem.optimize(disp=False)"
   ]
  },
  {
   "cell_type": "markdown",
   "metadata": {},
   "source": [
    "The optimization now works by using the individual x and y coordinates of the turbines to move them around the wind farm. With this modification, it is also possible to use the `XYPlotComponent` from TOPFARM, as it can only take the x and y positions as arguments instead of the inter-turbine spacings (sx and sy)."
   ]
  },
  {
   "cell_type": "code",
   "execution_count": null,
   "metadata": {},
   "outputs": [],
   "source": [
    "problem.evaluate()"
   ]
  }
 ],
 "metadata": {
  "colab": {
   "collapsed_sections": [],
   "name": "bathymetry.ipynb",
   "provenance": []
  },
  "language_info": {
   "codemirror_mode": {
    "name": "ipython",
    "version": 3
   },
   "file_extension": ".py",
   "mimetype": "text/x-python",
   "name": "python",
   "nbconvert_exporter": "python",
   "pygments_lexer": "ipython3"
  }
 },
 "nbformat": 4,
 "nbformat_minor": 1
}
