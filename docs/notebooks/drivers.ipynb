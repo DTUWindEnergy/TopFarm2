{
 "cells": [
  {
   "cell_type": "markdown",
   "metadata": {},
   "source": [
    "# Drivers"
   ]
  },
  {
   "cell_type": "markdown",
   "metadata": {},
   "source": [
    "[Try this yourself](https://colab.research.google.com/github/DTUWindEnergy/TopFarm2/blob/master/docs/notebooks/drivers.ipynb) (requires google account)\n",
    "\n",
    "### Jump to exmple in this notebook:\n",
    "\n",
    "* [DOE (Design Of Experiment) Driver](#DOE-(Design-Of-Experiment)-Driver)  \n",
    "* [ScipyOptimizeDriver](#ScipyOptimizeDriver)  \n",
    "* [Genetic algorithm driver](#Genetic-algorithm-driver)  \n",
    "* [Random search driver](#Random-search-driver)\n",
    "\n",
    "Make sure you first run the code below in order to set up and initialize needed variables."
   ]
  },
  {
   "cell_type": "code",
   "execution_count": null,
   "metadata": {},
   "outputs": [],
   "source": [
    "%%capture\n",
    "# Install Topfarm if needed\n",
    "try:\n",
    "    import topfarm\n",
    "except ModuleNotFoundError:\n",
    "    !pip install topfarm\n"
   ]
  },
  {
   "cell_type": "code",
   "execution_count": null,
   "metadata": {},
   "outputs": [],
   "source": [
    "import numpy as np\n",
    "%matplotlib inline"
   ]
  },
  {
   "cell_type": "code",
   "execution_count": null,
   "metadata": {},
   "outputs": [],
   "source": [
    "# uncomment to update plot during optimization\n",
    "# %matplotlib qt "
   ]
  },
  {
   "cell_type": "code",
   "execution_count": null,
   "metadata": {},
   "outputs": [],
   "source": [
    "import matplotlib.pyplot as plt"
   ]
  },
  {
   "cell_type": "code",
   "execution_count": null,
   "metadata": {},
   "outputs": [],
   "source": [
    "from topfarm.cost_models.dummy import DummyCost\n",
    "from topfarm.plotting import NoPlot\n",
    "from topfarm.constraint_components.spacing import SpacingConstraint\n",
    "from topfarm.constraint_components.boundary import XYBoundaryConstraint\n",
    "from topfarm._topfarm import TopFarmProblem\n",
    "from topfarm.cost_models.cost_model_wrappers import IncomeModelComponent\n",
    "from topfarm.cost_models.dummy import DummyCostPlotComp\n",
    "\n",
    "\n",
    "        \n",
    "\n",
    "\n",
    "initial = np.array([[6, 0, 0], [6, -8, 0], [1, 1, 0]])  # initial turbine layouts\n",
    "optimal = np.array([[2.5, -3, 1], [6, -7, 2], [4.5, -3, 3]])  # optimal turbine layouts\n",
    "boundary = np.array([(0, 0), (6, 0), (6, -10), (0, -10)])  # turbine boundaries\n",
    "desired = np.array([[3, -3, 1], [7, -7, 2], [4, -3, 4]])  # desired turbine layouts\n",
    "\n",
    "plot_comp = DummyCostPlotComp(desired, delay=.1, plot_improvements_only=True)"
   ]
  },
  {
   "cell_type": "code",
   "execution_count": null,
   "metadata": {},
   "outputs": [],
   "source": [
    "def optimize(driver):\n",
    "    tf = TopFarmProblem(\n",
    "            dict(zip('xy', (initial[:, :2]).T)),\n",
    "            DummyCost(desired[:, :2]),\n",
    "            constraints=[SpacingConstraint(2),\n",
    "                         XYBoundaryConstraint(boundary)],\n",
    "            driver=driver,\n",
    "            plot_comp=plot_comp)\n",
    "    tf.optimize()\n",
    "    "
   ]
  },
  {
   "cell_type": "markdown",
   "metadata": {},
   "source": [
    "## DOE (Design Of Experiment) Driver"
   ]
  },
  {
   "cell_type": "code",
   "execution_count": null,
   "metadata": {},
   "outputs": [],
   "source": [
    "from openmdao.drivers.doe_generators import ListGenerator\n",
    "from openmdao.drivers.doe_driver import DOEDriver\n",
    "\n",
    "optimize(DOEDriver(ListGenerator([[('x', [0., 3., 6.]), ('y', [-10., -10., -10.])],\n",
    "                                  [('x', [0., 3., 6.]), ('y', [-5., -5., -5.])],\n",
    "                                  [('x', [0., 3., 6.]), ('y', [-0., -0., -0.])],\n",
    "                                  ])))"
   ]
  },
  {
   "cell_type": "code",
   "execution_count": null,
   "metadata": {},
   "outputs": [],
   "source": [
    "from openmdao.drivers.doe_generators import FullFactorialGenerator, ListGenerator\n",
    "from openmdao.drivers.doe_driver import DOEDriver\n",
    "\n",
    "optimize(DOEDriver(FullFactorialGenerator(2)))"
   ]
  },
  {
   "cell_type": "markdown",
   "metadata": {},
   "source": [
    "## ScipyOptimizeDriver\n",
    "\n",
    "- SLSQP: Gradient based driver\n",
    "- Cobyla"
   ]
  },
  {
   "cell_type": "code",
   "execution_count": null,
   "metadata": {},
   "outputs": [],
   "source": [
    "from topfarm.easy_drivers import EasyScipyOptimizeDriver\n",
    "optimize(EasyScipyOptimizeDriver(optimizer='SLSQP', maxiter=200, tol=1e-6, disp=False))"
   ]
  },
  {
   "cell_type": "code",
   "execution_count": null,
   "metadata": {},
   "outputs": [],
   "source": [
    "from topfarm.easy_drivers import EasyScipyOptimizeDriver\n",
    "optimize(EasyScipyOptimizeDriver(optimizer='COBYLA', maxiter=200, tol=1e-6, disp=False))"
   ]
  },
  {
   "cell_type": "markdown",
   "metadata": {},
   "source": [
    "## Genetic algorithm driver"
   ]
  },
  {
   "cell_type": "code",
   "execution_count": null,
   "metadata": {},
   "outputs": [],
   "source": [
    "from topfarm.drivers.random_search_driver import RandomizeTurbinePosition_Circle\n",
    "from topfarm.easy_drivers import EasySimpleGADriver\n",
    "optimize(EasySimpleGADriver(max_gen=5, pop_size=5, Pm=None, Pc=.5, elitism=True, bits={}))\n",
    "    "
   ]
  },
  {
   "cell_type": "markdown",
   "metadata": {},
   "source": [
    "## Random search driver"
   ]
  },
  {
   "cell_type": "code",
   "execution_count": null,
   "metadata": {},
   "outputs": [],
   "source": [
    "from topfarm.drivers.random_search_driver import RandomizeTurbinePosition_Circle\n",
    "from topfarm.easy_drivers import EasyRandomSearchDriver\n",
    "\n",
    "optimize(EasyRandomSearchDriver(\n",
    "    randomize_func=RandomizeTurbinePosition_Circle(max_step=5), \n",
    "    max_iter=100, \n",
    "    max_time=10, \n",
    "    disp=False))"
   ]
  }
 ],
 "metadata": {
  "kernelspec": {
   "display_name": "Python 3",
   "language": "python",
   "name": "python3"
  },
  "language_info": {
   "codemirror_mode": {
    "name": "ipython",
    "version": 3
   },
   "file_extension": ".py",
   "mimetype": "text/x-python",
   "name": "python",
   "nbconvert_exporter": "python",
   "pygments_lexer": "ipython3",
   "version": "3.7.2"
  }
 },
 "nbformat": 4,
 "nbformat_minor": 2
}
