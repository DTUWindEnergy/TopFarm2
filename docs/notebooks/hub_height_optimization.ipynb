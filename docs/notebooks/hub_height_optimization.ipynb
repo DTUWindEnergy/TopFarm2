{
 "cells": [
  {
   "cell_type": "markdown",
   "id": "0",
   "metadata": {},
   "source": [
    "## Turbine hub height optimization"
   ]
  },
  {
   "cell_type": "markdown",
   "id": "1",
   "metadata": {},
   "source": [
    "Another type of design variable that can be specified is the turbines' hub heights. In this case, the hub heights are converted into continuous variables so a gradient-based optimization with [autograd](https://topfarm.pages.windenergy.dtu.dk/PyWake/notebooks/Optimization.html#Autograd) can be performed. This approach is taken to speed up the optimization process.\n",
    "\n",
    "In this example, it is necessary to specify a \"[GenericWindTurbine](https://topfarm.pages.windenergy.dtu.dk/PyWake/notebooks/WindTurbines.html)\" since the hub heights need to change throughout the optimization and thus the power and thrust coefficient curve will change for each hub height studied.\n"
   ]
  },
  {
   "cell_type": "markdown",
   "id": "2",
   "metadata": {},
   "source": [
    "**Install TOPFARM if needed**"
   ]
  },
  {
   "cell_type": "code",
   "execution_count": null,
   "id": "3",
   "metadata": {},
   "outputs": [],
   "source": [
    "# Install TopFarm if needed\n",
    "import importlib\n",
    "if not importlib.util.find_spec(\"topfarm\"):\n",
    "    !pip install git+https://gitlab.windenergy.dtu.dk/TOPFARM/TopFarm2.git"
   ]
  },
  {
   "cell_type": "markdown",
   "id": "4",
   "metadata": {},
   "source": [
    "We now import the site, turbine positions and wake models necessary to run the optimization. The Lillgrund site will be used and its layout extracted from PyWake's data."
   ]
  },
  {
   "cell_type": "code",
   "execution_count": null,
   "id": "5",
   "metadata": {},
   "outputs": [],
   "source": [
    "import numpy as np\n",
    "import matplotlib.pyplot as plt"
   ]
  },
  {
   "cell_type": "code",
   "execution_count": null,
   "id": "6",
   "metadata": {},
   "outputs": [
    {
     "name": "stderr",
     "output_type": "stream",
     "text": [
      "/Users/julianquick/miniconda3/envs/sgd/lib/python3.10/site-packages/openmdao/utils/general_utils.py:128: OMDeprecationWarning:simple_warning is deprecated. Use openmdao.utils.om_warnings.issue_warning instead.\n",
      "/Users/julianquick/miniconda3/envs/sgd/lib/python3.10/site-packages/openmdao/utils/notebook_utils.py:157: UserWarning:Tabulate is not installed. Run `pip install openmdao[notebooks]` to install required dependencies. Using ASCII for outputs.\n"
     ]
    }
   ],
   "source": [
    "from py_wake.examples.data.lillgrund import LillgrundSite, power_curve, ct_curve\n",
    "from py_wake.wind_turbines._wind_turbines import WindTurbines, WindTurbine\n",
    "from py_wake.wind_turbines.generic_wind_turbines import GenericWindTurbine\n",
    "from py_wake.wind_turbines.power_ct_functions import PowerCtTabular\n",
    "\n",
    "from topfarm.easy_drivers import EasyScipyOptimizeDriver\n",
    "from py_wake.deficit_models.gaussian import BastankhahGaussian\n",
    "\n",
    "from topfarm.cost_models.cost_model_wrappers import AEPCostModelComponent\n",
    "\n",
    "from py_wake.utils.gradients import autograd\n",
    "\n",
    "from topfarm import TopFarmProblem"
   ]
  },
  {
   "cell_type": "markdown",
   "id": "7",
   "metadata": {},
   "source": [
    "Now we specify the initial conditions and hub height boundaries. The turbines' hub heights are staggered and assigned to every couple wind turbine in the farm."
   ]
  },
  {
   "cell_type": "code",
   "execution_count": null,
   "id": "8",
   "metadata": {},
   "outputs": [
    {
     "name": "stdout",
     "output_type": "stream",
     "text": [
      "wind farm hub heights: [ 80. 120.  80. 120.  80. 120.  80.]\n"
     ]
    }
   ],
   "source": [
    "# Initial inputs\n",
    "n_wt = 7\n",
    "\n",
    "n_wd = 1\n",
    "wd = [270]\n",
    "\n",
    "lb = 82                         # lower boundary constraint\n",
    "ub = 160                        # upper boundary constraint\n",
    "\n",
    "hh = 80                         # starting hub height condition\n",
    "hg = 120                        # second starting hub height condition\n",
    "h = np.ones([n_wt]) * hh          # hub height array\n",
    "h_max = np.ones([n_wt]) * ub      # baseline hub height\n",
    "\n",
    "for i in range(n_wt):\n",
    "    if i % 2 == 0:\n",
    "        h[i] = hh\n",
    "    else:\n",
    "        h[i] = hg\n",
    "\n",
    "print('wind farm hub heights:',h)\n",
    "\n",
    "power = 2300\n",
    "diameter = np.ones([n_wt]) * 93 # diameter [m]\n",
    "\n",
    "# Site specification\n",
    "site = LillgrundSite()\n",
    "\n",
    "x = np.linspace(0, 93 * 4 * n_wt, n_wt)\n",
    "\n",
    "y = [0] * n_wt"
   ]
  },
  {
   "cell_type": "markdown",
   "id": "9",
   "metadata": {},
   "source": [
    "Then we need to set up the `GenericWindTurbine` object and the `WindFarmModel`."
   ]
  },
  {
   "cell_type": "code",
   "execution_count": null,
   "id": "10",
   "metadata": {},
   "outputs": [],
   "source": [
    "nom_power_array = power * np.ones([n_wt]) # rated power array\n",
    "\n",
    "class SWT23(WindTurbine):   # Siemens 2.3 MW\n",
    "    def __init__(self, method='linear'):\n",
    "        \"\"\"\n",
    "        Parameters\n",
    "        ----------\n",
    "        method : {'linear', 'pchip'}\n",
    "            linear(fast) or pchip(smooth and gradient friendly) interpolation\n",
    "        \"\"\"\n",
    "        WindTurbine.__init__(self, name='SWT23', diameter=93, hub_height=80,\n",
    "                             powerCtFunction=PowerCtTabular(power_curve[:, 0], power_curve[:, 1], 'kw',\n",
    "                                                            ct_curve[:, 1], method=method))\n",
    "\n",
    "wind_turbines = WindTurbines(\n",
    "                names=['SWT23' for i in range(len(x))],\n",
    "                diameters = diameter,\n",
    "                hub_heights = h,\n",
    "                powerCtFunctions=[GenericWindTurbine(name='SWT23',\n",
    "                                                        diameter = diameter[i], \n",
    "                                                        hub_height = h[i], \n",
    "                                                        power_norm = nom_power_array[i]).powerCtFunction for i in range(len(x))])\n",
    "\n",
    "wf_model = BastankhahGaussian(site, wind_turbines)"
   ]
  },
  {
   "cell_type": "markdown",
   "id": "11",
   "metadata": {},
   "source": [
    "Lastly, we set up the `CostModelComponent` that is responsible for calculating the AEP and works as the objective function in the optimization."
   ]
  },
  {
   "cell_type": "code",
   "execution_count": null,
   "id": "12",
   "metadata": {},
   "outputs": [],
   "source": [
    "# AEP Calculation\n",
    "\n",
    "class PyWakeAEPCostModelComponent(AEPCostModelComponent):\n",
    "    def __init__(self, windFarmModel, n_wt, wd=None, ws=None, max_eval=None, grad_method=autograd, n_cpu=1, **kwargs):\n",
    "        self.windFarmModel = windFarmModel\n",
    "\n",
    "        #objective function\n",
    "        def get_aep_func(h):\n",
    "\n",
    "            h_new = h[:n_wt]\n",
    "            simres = windFarmModel(x, y, h=h_new)\n",
    "            aep = simres.aep().sum()\n",
    "\n",
    "            return aep\n",
    "\n",
    "        #specifying the gradients\n",
    "        def daep_h(h):\n",
    "            return windFarmModel.aep_gradients(autograd, wrt_arg=['h'])(x, y, h)\n",
    "        \n",
    "        AEPCostModelComponent.__init__(self,\n",
    "                                       input_keys=['h'],\n",
    "                                       n_wt=n_wt,\n",
    "                                       cost_function=get_aep_func,\n",
    "                                       cost_gradient_function=daep_h,\n",
    "                                       output_unit='GWh',\n",
    "                                       max_eval=max_eval, **kwargs)\n",
    "\n",
    "cost_comp = PyWakeAEPCostModelComponent(windFarmModel=wf_model, n_wt=len(x), grad_method=autograd, n_cpu=1, wd=None, ws=None)"
   ]
  },
  {
   "cell_type": "markdown",
   "id": "13",
   "metadata": {},
   "source": [
    "Lastly, we set up the `TopFarmProblem` along with some optimization parameters."
   ]
  },
  {
   "cell_type": "code",
   "execution_count": null,
   "id": "14",
   "metadata": {},
   "outputs": [
    {
     "name": "stdout",
     "output_type": "stream",
     "text": [
      "INFO: checking out_of_order\n",
      "INFO: checking system\n",
      "INFO: checking solvers\n",
      "INFO: checking dup_inputs\n",
      "INFO: checking missing_recorders\n",
      "INFO: checking unserializable_options\n",
      "INFO: checking comp_has_no_outputs\n",
      "INFO: checking auto_ivc_warnings\n"
     ]
    }
   ],
   "source": [
    "# optimization specs and problem formulation\n",
    "\n",
    "maxiter = 20\n",
    "tol = 1e-6\n",
    "\n",
    "problem = TopFarmProblem(design_vars= {'h':(h, lb, ub)},\n",
    "                        cost_comp=cost_comp,\n",
    "                        driver=EasyScipyOptimizeDriver(optimizer='SLSQP', maxiter=maxiter, tol=tol),\n",
    "                        n_wt=n_wt,\n",
    "                        expected_cost=0.001\n",
    "                        )"
   ]
  },
  {
   "cell_type": "code",
   "execution_count": null,
   "id": "15",
   "metadata": {},
   "outputs": [
    {
     "name": "stdout",
     "output_type": "stream",
     "text": [
      "INFO: checking out_of_order\n",
      "INFO: checking system\n",
      "INFO: checking solvers\n",
      "INFO: checking dup_inputs\n",
      "INFO: checking missing_recorders\n",
      "INFO: checking unserializable_options\n",
      "INFO: checking comp_has_no_outputs\n",
      "INFO: checking auto_ivc_warnings\n",
      "Optimization terminated successfully    (Exit mode 0)\n",
      "            Current function value: -62622.45189217626\n",
      "            Iterations: 3\n",
      "            Function evaluations: 3\n",
      "            Gradient evaluations: 3\n",
      "Optimization Complete\n",
      "-----------------------------------\n"
     ]
    }
   ],
   "source": [
    "_,state,_=problem.optimize()"
   ]
  },
  {
   "cell_type": "markdown",
   "id": "16",
   "metadata": {},
   "source": [
    "Now we plot the turbines in the XZ plane to visualize the final hub heights."
   ]
  },
  {
   "cell_type": "code",
   "execution_count": null,
   "id": "17",
   "metadata": {},
   "outputs": [
    {
     "name": "stdout",
     "output_type": "stream",
     "text": [
      "final hub heights: [ 82. 160.  82. 160.  82. 160.  82.]\n"
     ]
    },
    {
     "data": {
      "text/plain": [
       "Text(0.5, 0, 'x [m]')"
      ]
     },
     "execution_count": null,
     "metadata": {},
     "output_type": "execute_result"
    },
    {
     "data": {
      "image/png": "[encoded data removed]",
      "text/plain": [
       "<Figure size 1200x400 with 2 Axes>"
      ]
     },
     "metadata": {},
     "output_type": "display_data"
    }
   ],
   "source": [
    "from py_wake import XZGrid\n",
    "h = np.around(state['h'])\n",
    "print('final hub heights:',h)\n",
    "\n",
    "#taking only the first row of turbines\n",
    "x = x[:6]\n",
    "y = y[:6]\n",
    "h = h[:6]\n",
    "\n",
    "sim_res_ref = wf_model(x, y, wd=[270])\n",
    "sim_res_opt = wf_model(x, y, h=h, wd=[270])\n",
    "plt.figure(figsize=(12,4))\n",
    "sim_res_opt.flow_map(XZGrid(y=0)).plot_wake_map()\n",
    "plt.ylabel('Height [m]')\n",
    "plt.xlabel('x [m]')"
   ]
  }
 ],
 "metadata": {
  "kernelspec": {
   "display_name": "Python 3 (ipykernel)",
   "language": "python",
   "name": "python3"
  },
  "language_info": {
   "codemirror_mode": {
    "name": "ipython",
    "version": 3
   },
   "file_extension": ".py",
   "mimetype": "text/x-python",
   "name": "python",
   "nbconvert_exporter": "python",
   "pygments_lexer": "ipython3",
   "version": "3.10.4"
  }
 },
 "nbformat": 4,
 "nbformat_minor": 5
}
