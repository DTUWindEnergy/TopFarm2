{
 "cells": [
  {
   "cell_type": "markdown",
   "id": "0",
   "metadata": {},
   "source": [
    "# Nested turbine type specific optimization\n",
    "\n",
    "In this example, a nested optimization is performed accounting for the layout and the turbine types. The inner layer solves the layout optimization problem with a gradient-based solver, and the outer layer changes the turbine types with a gradient-free (random-search) solver. In this case, the boundaries are not specific to the wind turbine and a spacing and circular boundary contraints are used.\n",
    "\n",
    "The objective function is to minimize the wake losses produced by neighbouring wind turbines."
   ]
  },
  {
   "cell_type": "markdown",
   "id": "1",
   "metadata": {},
   "source": [
    "**Install TOPFARM if needed**"
   ]
  },
  {
   "cell_type": "code",
   "execution_count": null,
   "id": "2",
   "metadata": {},
   "outputs": [],
   "source": [
    "# Install TopFarm if needed\n",
    "import importlib\n",
    "if not importlib.util.find_spec(\"topfarm\"):\n",
    "    !pip install git+https://gitlab.windenergy.dtu.dk/TOPFARM/TopFarm2.git"
   ]
  },
  {
   "cell_type": "markdown",
   "id": "3",
   "metadata": {},
   "source": [
    "Loading Python dependencies."
   ]
  },
  {
   "cell_type": "code",
   "execution_count": null,
   "id": "4",
   "metadata": {},
   "outputs": [],
   "source": [
    "import numpy as np\n",
    "import matplotlib.pyplot as plt"
   ]
  },
  {
   "cell_type": "markdown",
   "id": "5",
   "metadata": {},
   "source": [
    "Loading PyWake dependencies. We import the two turbines to use (Vestas V80 and the DTU 10MW reference turbine) as well as the site (IEA37) and the wake deficit model (IEA37SimpleBastankhahGaussian) to use for the optimization."
   ]
  },
  {
   "cell_type": "code",
   "execution_count": null,
   "id": "6",
   "metadata": {},
   "outputs": [],
   "source": [
    "from py_wake.examples.data.iea37._iea37 import IEA37Site\n",
    "from py_wake.wind_turbines import WindTurbines\n",
    "from py_wake.examples.data.hornsrev1 import V80\n",
    "from py_wake.examples.data.dtu10mw import DTU10MW\n",
    "from py_wake.deficit_models.gaussian import IEA37SimpleBastankhahGaussian\n",
    "from py_wake.utils.gradients import autograd"
   ]
  },
  {
   "cell_type": "markdown",
   "id": "7",
   "metadata": {},
   "source": [
    "Loading TOPFARM dependencies."
   ]
  },
  {
   "cell_type": "code",
   "execution_count": null,
   "id": "8",
   "metadata": {},
   "outputs": [],
   "source": [
    "import topfarm\n",
    "from topfarm.cost_models.cost_model_wrappers import CostModelComponent\n",
    "from topfarm import TopFarmProblem\n",
    "from topfarm.easy_drivers import EasyRandomSearchDriver, EasyScipyOptimizeDriver\n",
    "from topfarm.drivers.random_search_driver import randomize_turbine_type\n",
    "from topfarm.constraint_components.boundary import CircleBoundaryConstraint\n",
    "from topfarm.constraint_components.spacing import SpacingConstraint, SpacingTypeConstraint\n",
    "from topfarm.plotting import XYPlotComp, TurbineTypePlotComponent, NoPlot"
   ]
  },
  {
   "cell_type": "markdown",
   "id": "9",
   "metadata": {},
   "source": [
    "We first define the site and initial positions for the optimization problem."
   ]
  },
  {
   "cell_type": "code",
   "execution_count": null,
   "id": "10",
   "metadata": {},
   "outputs": [],
   "source": [
    "# Site definition\n",
    "n_wt = 9\n",
    "site = IEA37Site(n_wt, ti=0.05)\n",
    "wt_x = site.initial_position[:, 0]\n",
    "wt_y = site.initial_position[:, 1]"
   ]
  },
  {
   "cell_type": "code",
   "execution_count": null,
   "id": "11",
   "metadata": {},
   "outputs": [],
   "source": [
    "# plot wind rose \n",
    "plt.figure(dpi=100)\n",
    "site.plot_wd_distribution()"
   ]
  },
  {
   "cell_type": "markdown",
   "id": "12",
   "metadata": {},
   "source": [
    "We now set up the two turbine types and define their basic paramenters such as diameter, hub height and CT curve. A `TurbineTypes` class is created to merge the turbine objects to then feed into the wind farm model as `WindTurbines` object."
   ]
  },
  {
   "cell_type": "code",
   "execution_count": null,
   "id": "13",
   "metadata": {},
   "outputs": [],
   "source": [
    "# Turbine types\n",
    "turb_types = [0, 1]\n",
    "names = ['V80', 'DTU10MW']\n",
    "diameters = [V80().diameter(), DTU10MW().diameter()]\n",
    "hub_heights = [V80().hub_height(), DTU10MW().hub_height()]\n",
    "powerCtFunctions = [V80().powerCtFunction, DTU10MW().powerCtFunction]\n",
    "n_types = len(turb_types)\n",
    "\n",
    "\n",
    "# Merge turbine objects\n",
    "class TurbineTypes(WindTurbines):\n",
    "    def __init__(self):\n",
    "        super().__init__(names, diameters, hub_heights, powerCtFunctions)\n",
    "\n",
    "windTurbines = TurbineTypes()"
   ]
  },
  {
   "cell_type": "code",
   "execution_count": null,
   "id": "14",
   "metadata": {},
   "outputs": [],
   "source": [
    "diameters"
   ]
  },
  {
   "cell_type": "code",
   "execution_count": null,
   "id": "15",
   "metadata": {},
   "outputs": [],
   "source": [
    "# Wind farm model \n",
    "wfm = IEA37SimpleBastankhahGaussian(site, windTurbines)"
   ]
  },
  {
   "cell_type": "markdown",
   "id": "16",
   "metadata": {},
   "source": [
    "We now set up the objective function and the `CostModelComponent`."
   ]
  },
  {
   "cell_type": "code",
   "execution_count": null,
   "id": "17",
   "metadata": {},
   "outputs": [],
   "source": [
    "# Objective function and cost model component\n",
    "\n",
    "def wake_loss(x, y, type, **kwargs):\n",
    "    '''Calculate the wake losses in %.'''\n",
    "    simres = wfm(x, y, type=np.asarray(type, dtype=int), **kwargs)\n",
    "    aep_ref = simres.aep().values.sum()\n",
    "    aep_nowake = simres.aep(with_wake_loss=False).values.sum()\n",
    "    loss = 100 * (aep_nowake - aep_ref) / aep_nowake\n",
    "    return loss\n",
    "\n",
    "\n",
    "cost_comp = CostModelComponent(input_keys=[('x', wt_x),('y', wt_y)],\n",
    "                                          n_wt=n_wt,\n",
    "                                          cost_function=wake_loss,\n",
    "                                          objective=True,\n",
    "                                          maximize=False,\n",
    "                                          output_keys=[('Wake losses', 0)],\n",
    "                                          output_unit='%',\n",
    "                                          additional_input= [(topfarm.type_key, np.ones(n_wt, dtype=int))]\n",
    "                                          )"
   ]
  },
  {
   "cell_type": "markdown",
   "id": "18",
   "metadata": {},
   "source": [
    "#### Optimization set up"
   ]
  },
  {
   "cell_type": "markdown",
   "id": "19",
   "metadata": {},
   "source": [
    "The first layer of the optimization takes the turbine positions and design variables as well as the spacing and boundary constraints."
   ]
  },
  {
   "cell_type": "code",
   "execution_count": null,
   "id": "20",
   "metadata": {},
   "outputs": [],
   "source": [
    "# Layout component (1st layer of the optimization)\n",
    "layout_problem = TopFarmProblem(design_vars={topfarm.x_key: wt_x,\n",
    "                                             topfarm.y_key: wt_y},\n",
    "                                cost_comp=cost_comp,\n",
    "                                driver=EasyScipyOptimizeDriver(maxiter=30, tol=1e-2, disp=False),\n",
    "                                constraints=[SpacingTypeConstraint(3*np.asarray(diameters)),\n",
    "                                              CircleBoundaryConstraint([0, 0], 600)],\n",
    "                                plot_comp=NoPlot(),\n",
    "                                expected_cost=1,\n",
    "                                ext_vars={topfarm.type_key: np.zeros(n_wt, dtype=int)}, \n",
    "                                )"
   ]
  },
  {
   "cell_type": "markdown",
   "id": "21",
   "metadata": {},
   "source": [
    "The second layer utilizes the optimized layout to then find the optimal turbine types that satisfy the objective function."
   ]
  },
  {
   "cell_type": "code",
   "execution_count": null,
   "id": "22",
   "metadata": {},
   "outputs": [],
   "source": [
    "# topfarm main problem - uses the layout problem as component and turbine type as design variables (2nd layer)\n",
    "problem = TopFarmProblem(design_vars={topfarm.type_key: ([1, 0, 1, 0, 1, 0, 1, 0 ,1], 0, int(n_types-1))},\n",
    "                          cost_comp=layout_problem,\n",
    "                          driver=EasyRandomSearchDriver(randomize_turbine_type, max_iter=30, disp=False)\n",
    "                          )"
   ]
  },
  {
   "cell_type": "code",
   "execution_count": null,
   "id": "23",
   "metadata": {},
   "outputs": [],
   "source": [
    "# Run the optimization.\n",
    "cost, state, recorder = problem.optimize()"
   ]
  },
  {
   "cell_type": "code",
   "execution_count": null,
   "id": "24",
   "metadata": {},
   "outputs": [],
   "source": [
    "print(state['type'])"
   ]
  },
  {
   "cell_type": "markdown",
   "id": "25",
   "metadata": {},
   "source": [
    "Given that wind turbine type 0 (V80) has significantly smaller diameter and hub height, the solver selects mostly that type. The type 1 causes larger wake losses due to larger rotor diameter. However, a sweet spot can exist that allows to minimize the wake based on the hub height difference of type 1. "
   ]
  },
  {
   "cell_type": "code",
   "execution_count": null,
   "id": "26",
   "metadata": {},
   "outputs": [],
   "source": [
    "# predominant wind directions are: 270 and 150 deg\n",
    "wds = [150, 270]\n",
    "wps = [8]\n",
    "simres = wfm(state['x'], state['y'], type=state['type'], ws=wps, wd=wds)\n",
    "\n",
    "\n",
    "fig, ax = plt.subplots(1, 2, figsize=(10, 4), dpi=100, tight_layout=True)\n",
    "for i in range(2):\n",
    "    fm = simres.flow_map(wd=wds[i])\n",
    "    fm.plot_wake_map(ax=ax[i])\n",
    "    ax[i].set_xlabel('x')\n",
    "    ax[i].set_ylabel('y')"
   ]
  },
  {
   "cell_type": "code",
   "execution_count": null,
   "id": "27",
   "metadata": {},
   "outputs": [],
   "source": [
    "fig, ax = plt.subplots()\n",
    "ax.plot(recorder['Wake losses'])\n",
    "ax.set_title('Wake loss')\n",
    "ax.set_xlabel('Iteration')\n",
    "ax.set_ylabel('Wake loss [%]')"
   ]
  }
 ],
 "metadata": {
  "language_info": {
   "codemirror_mode": {
    "name": "ipython",
    "version": 3
   },
   "file_extension": ".py",
   "mimetype": "text/x-python",
   "name": "python",
   "nbconvert_exporter": "python",
   "pygments_lexer": "ipython3"
  }
 },
 "nbformat": 4,
 "nbformat_minor": 5
}
