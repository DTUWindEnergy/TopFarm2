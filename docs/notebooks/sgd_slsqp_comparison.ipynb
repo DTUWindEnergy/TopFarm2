{
 "cells": [
  {
   "cell_type": "markdown",
   "id": "0",
   "metadata": {},
   "source": [
    "# Layout Optimization with SGD driver"
   ]
  },
  {
   "cell_type": "markdown",
   "id": "1",
   "metadata": {},
   "source": [
    "In this example, a layout optimization is performed with two different gradient-based drivers: Stochastic Gradient Descent (SGD) and Sequential Least Squares Quadratic Programming (SLSQP). The purpose is to draw a comparison between the two drivers in terms of accuracy in results and computational time."
   ]
  },
  {
   "cell_type": "markdown",
   "id": "2",
   "metadata": {},
   "source": [
    "**Install TOPFARM if needed**"
   ]
  },
  {
   "cell_type": "code",
   "execution_count": null,
   "id": "3",
   "metadata": {},
   "outputs": [],
   "source": [
    "# Install TopFarm if needed\n",
    "import importlib\n",
    "if not importlib.util.find_spec(\"topfarm\"):\n",
    "    !pip install git+https://gitlab.windenergy.dtu.dk/TOPFARM/TopFarm2.git"
   ]
  },
  {
   "cell_type": "code",
   "execution_count": null,
   "id": "4",
   "metadata": {},
   "outputs": [],
   "source": [
    "import numpy as np\n",
    "import matplotlib.pyplot as plt\n",
    "import time"
   ]
  },
  {
   "cell_type": "markdown",
   "id": "5",
   "metadata": {},
   "source": [
    "We now import the site, wind turbine and wake models necessary to run the optimization."
   ]
  },
  {
   "cell_type": "code",
   "execution_count": null,
   "id": "6",
   "metadata": {},
   "outputs": [],
   "source": [
    "from py_wake.deficit_models.gaussian import BastankhahGaussian\n",
    "from py_wake.examples.data.lillgrund import LillgrundSite\n",
    "from py_wake.utils.gradients import autograd\n",
    "from py_wake.examples.data.hornsrev1 import HornsrevV80"
   ]
  },
  {
   "cell_type": "markdown",
   "id": "7",
   "metadata": {},
   "source": [
    "We also import all the TOPFARM dependencies needed for the optimization."
   ]
  },
  {
   "cell_type": "code",
   "execution_count": null,
   "id": "8",
   "metadata": {},
   "outputs": [],
   "source": [
    "from topfarm.cost_models.cost_model_wrappers import CostModelComponent\n",
    "from topfarm.easy_drivers import EasySGDDriver, EasyScipyOptimizeDriver\n",
    "from topfarm.plotting import XYPlotComp\n",
    "from topfarm.constraint_components.spacing import SpacingConstraint\n",
    "from topfarm import TopFarmProblem\n",
    "from topfarm.constraint_components.boundary import XYBoundaryConstraint\n",
    "from topfarm.recorders import TopFarmListRecorder\n",
    "from topfarm.constraint_components.constraint_aggregation import ConstraintAggregation\n",
    "from topfarm.constraint_components.constraint_aggregation import DistanceConstraintAggregation"
   ]
  },
  {
   "cell_type": "markdown",
   "id": "9",
   "metadata": {},
   "source": [
    "Then we define the site, wind farm layout and wind resource. In this example, the turbine positions are created randomly and the wind resource is represented by the sector frequency as well as the Weibull A and k parameters."
   ]
  },
  {
   "cell_type": "code",
   "execution_count": null,
   "id": "10",
   "metadata": {},
   "outputs": [],
   "source": [
    "# defining the site, wind turbines and wake model\n",
    "site = LillgrundSite()\n",
    "site.interp_method = 'linear'\n",
    "windTurbines = HornsrevV80() \n",
    "wake_model = BastankhahGaussian(site, windTurbines) \n",
    "\n",
    "#wind farm layout\n",
    "x_rows = 3 # 5 # (commented for speeding up notebook tests)\n",
    "y_rows = 3 # 5\n",
    "sgd_iterations = 30 # 2000\n",
    "spacing = 3\n",
    "xu, yu = (x_rows * spacing * windTurbines.diameter(), y_rows * spacing * windTurbines.diameter())\n",
    "np.random.seed(4)\n",
    "x = np.random.uniform(0, xu, x_rows * y_rows)\n",
    "y = np.random.uniform(0, yu, x_rows * y_rows)\n",
    "x0, y0 = (x.copy(), y.copy())\n",
    "n_wt = x.size\n",
    "\n",
    "#wind resource\n",
    "dirs = np.arange(0, 360, 1) #wind directions\n",
    "ws = np.arange(3, 25, 1) # wind speeds\n",
    "freqs = site.local_wind(x, y, wd=dirs, ws=ws).Sector_frequency_ilk[0, :, 0]     #sector frequency\n",
    "As = site.local_wind(x, y, wd=dirs, ws=ws).Weibull_A_ilk[0, :, 0]               #weibull A\n",
    "ks = site.local_wind(x, y, wd=dirs, ws=ws).Weibull_k_ilk[0, :, 0]               #weibull k"
   ]
  },
  {
   "cell_type": "markdown",
   "id": "11",
   "metadata": {},
   "source": [
    "The boundaries are set up as a simple rectangle enclosing the wind farm."
   ]
  },
  {
   "cell_type": "code",
   "execution_count": null,
   "id": "12",
   "metadata": {},
   "outputs": [],
   "source": [
    "#boundaries\n",
    "boundary = np.array([(0, 0), (xu, 0), (xu, yu), (0, yu)])"
   ]
  },
  {
   "cell_type": "markdown",
   "id": "13",
   "metadata": {},
   "source": [
    "Now we set up the objective function and the gradient functions needed for the optimization for both drivers. The difference relies in the wind speed and wind direction samples. For the SGD driver, the wind speed and wind direction are generated randomly and follow a Weibull distribution. On the other hand, the SLSQP driver takes a user defined array of wind speed and wind directions to study."
   ]
  },
  {
   "cell_type": "code",
   "execution_count": null,
   "id": "14",
   "metadata": {},
   "outputs": [],
   "source": [
    "# objective function and gradient function\n",
    "samps = 50    #number of samples \n",
    "\n",
    "#function to create the random sampling of wind speed and wind directions\n",
    "def sampling():\n",
    "    idx = np.random.choice(np.arange(dirs.size), samps, p=freqs)\n",
    "    wd = dirs[idx]\n",
    "    A = As[idx]\n",
    "    k = ks[idx]\n",
    "    ws = A * np.random.weibull(k)\n",
    "    return wd, ws\n",
    "\n",
    "#aep function - SGD\n",
    "def aep_func(x, y, full=False, **kwargs):\n",
    "    # wd, ws = sampling()\n",
    "    # aep_sgd = wake_model(x, y, wd=wd, ws=ws, time=True).aep().sum().values * 1e6\n",
    "    # return aep_sgd\n",
    "    return 0 # this doesn't change the performance of the driver\n",
    "\n",
    "#gradient function - SGD\n",
    "def aep_jac(x, y, **kwargs):\n",
    "    wd, ws = sampling()\n",
    "    jx, jy = wake_model.aep_gradients(gradient_method=autograd, wrt_arg=['x', 'y'], x=x, y=y, ws=ws, wd=wd, time=True)\n",
    "    daep_sgd = np.array([np.atleast_2d(jx), np.atleast_2d(jy)]) * 1e6\n",
    "    return daep_sgd\n",
    "\n",
    "#aep function - SLSQP\n",
    "def aep_func2(x, y, **kwargs):\n",
    "    wd = np.arange(0, 360, 0.5)\n",
    "    ws = np.arange(3, 25, 0.5)\n",
    "    aep_slsqp = wake_model(x, y, wd=wd, ws=ws).aep().sum().values * 1e6\n",
    "    return aep_slsqp\n",
    "\n",
    "#gradient function - SLSQP\n",
    "def aep_jac2(x, y, **kwargs):\n",
    "    wd = np.arange(0, 360, 0.5)\n",
    "    ws = np.arange(3, 25, 0.5)\n",
    "    jx, jy = wake_model.aep_gradients(gradient_method=autograd, wrt_arg=['x', 'y'], x=x, y=y, ws=ws, wd=wd, time=False)\n",
    "    daep_slsqp = np.array([np.atleast_2d(jx), np.atleast_2d(jy)]) * 1e6\n",
    "    return daep_slsqp"
   ]
  },
  {
   "cell_type": "markdown",
   "id": "15",
   "metadata": {},
   "source": [
    "We define the `CostModelComponent` which is responsible for evaluating the objective function and the gradients for the design variables selected."
   ]
  },
  {
   "cell_type": "code",
   "execution_count": null,
   "id": "16",
   "metadata": {},
   "outputs": [],
   "source": [
    "#aep component - SGD\n",
    "aep_comp = CostModelComponent(input_keys=['x','y'], n_wt=n_wt, cost_function=aep_func, objective=True, cost_gradient_function=aep_jac, maximize=True)\n",
    "\n",
    "#aep component - SLSQP\n",
    "aep_comp2 = CostModelComponent(input_keys=['x','y'], n_wt=n_wt, cost_function=aep_func2, objective=True, cost_gradient_function=aep_jac2, maximize=True)\n",
    "\n",
    "cost_comps = [aep_comp2, aep_comp]"
   ]
  },
  {
   "cell_type": "markdown",
   "id": "17",
   "metadata": {},
   "source": [
    "Next we set up the constraints for the problem. The constraints for the SGD driver are defined with the `DistanceConstraintAggregation` class.\n",
    "\n",
    "**Note**: as the class is specified, the order of the `SpacingConstraint` and `XYBoundaryConstraint` must be kept as shown in this example."
   ]
  },
  {
   "cell_type": "code",
   "execution_count": null,
   "id": "18",
   "metadata": {},
   "outputs": [],
   "source": [
    "min_spacing_m = 2 * windTurbines.diameter()  #minimum inter-turbine spacing in meters\n",
    "constraint_comp = XYBoundaryConstraint(boundary, 'rectangle')\n",
    "\n",
    "#constraints\n",
    "constraints = [[SpacingConstraint(min_spacing_m), constraint_comp],\n",
    "               DistanceConstraintAggregation(constraint_comp, n_wt, min_spacing_m, windTurbines)]"
   ]
  },
  {
   "cell_type": "markdown",
   "id": "19",
   "metadata": {},
   "source": [
    "### Optimization with SGD driver"
   ]
  },
  {
   "cell_type": "markdown",
   "id": "20",
   "metadata": {},
   "source": [
    "Some parameters need to be specified for the SGD driver such as max iterations, learning rate and the maximum time (in seconds). Only one optimization with a specific driver can be done at a time, which is defined by the **driver_no** variable."
   ]
  },
  {
   "cell_type": "code",
   "execution_count": null,
   "id": "21",
   "metadata": {},
   "outputs": [],
   "source": [
    "#driver specs\n",
    "driver_names = ['SLSQP', 'SGD']\n",
    "drivers = [EasyScipyOptimizeDriver(maxiter=30, tol=1e-3),\n",
    "           EasySGDDriver(maxiter=sgd_iterations, learning_rate=windTurbines.diameter()/5, max_time=18000, gamma_min_factor=0.1)]\n",
    "\n",
    "driver_no = 1    #SGD driver\n",
    "ec = [10,1]      #expected cost for SLSQP (10) and SGD (1) drivers"
   ]
  },
  {
   "cell_type": "markdown",
   "id": "22",
   "metadata": {},
   "source": [
    "Lastly we specify the TOPFARM problem."
   ]
  },
  {
   "cell_type": "code",
   "execution_count": null,
   "id": "23",
   "metadata": {},
   "outputs": [],
   "source": [
    "tf = TopFarmProblem(\n",
    "        design_vars = {'x':x0, 'y':y0},         \n",
    "        cost_comp = cost_comps[driver_no],    \n",
    "        constraints = constraints[driver_no], \n",
    "        driver = drivers[driver_no],\n",
    "        plot_comp = XYPlotComp(),\n",
    "        expected_cost = ec[driver_no]\n",
    "        )"
   ]
  },
  {
   "cell_type": "code",
   "execution_count": null,
   "id": "24",
   "metadata": {},
   "outputs": [],
   "source": [
    "tic = time.time()\n",
    "cost, state, recorder = tf.optimize()\n",
    "toc = time.time()\n",
    "print('Optimization with SGD took: {:.0f}s'.format(toc-tic), ' with a total constraint violation of ', recorder['sgd_constraint'][-1])\n",
    "recorder.save(f'{driver_names[driver_no]}')"
   ]
  },
  {
   "cell_type": "markdown",
   "id": "25",
   "metadata": {},
   "source": [
    "### Optimization with SLSQP driver"
   ]
  },
  {
   "cell_type": "code",
   "execution_count": null,
   "id": "26",
   "metadata": {},
   "outputs": [],
   "source": [
    "driver_no = 0  # SLSQP\n",
    "\n",
    "tf = TopFarmProblem(\n",
    "    design_vars={\"x\": x0, \"y\": y0},\n",
    "    cost_comp=cost_comps[driver_no],\n",
    "    constraints=constraints[driver_no],\n",
    "    driver=drivers[driver_no],\n",
    "    plot_comp=XYPlotComp(),\n",
    "    expected_cost=ec[driver_no],\n",
    ")\n",
    "\n",
    "tic = time.time()\n",
    "cost, state, recorder = tf.optimize()\n",
    "toc = time.time()\n",
    "print(\"Optimization with SLSQP took: {:.0f}s\".format(toc - tic))\n",
    "recorder.save(f\"{driver_names[driver_no]}\")"
   ]
  },
  {
   "cell_type": "markdown",
   "id": "27",
   "metadata": {},
   "source": [
    "### Comparison between SGD and SLSQP driver performance"
   ]
  },
  {
   "cell_type": "markdown",
   "id": "28",
   "metadata": {},
   "source": [
    "When we look into the optimization time for the SGD driver, we can see how the optimization took slightly less than the maximum time chosen of 180 seconds. In the case of the SLSQP driver, it is not known how much time the optimization will take, thus being able to set up a **max_time** proves advantageous. However, for more accurate results it is recommended to increase the maximum time. \n",
    "\n",
    "We can also plot the AEP evolution in both cases to see the difference in terms of time and final optimized result. The AEP calculation for the SGD driver is re computed with the wind speed and wind direction distribution used for the SLSQP driver; that is, eliminating the random sampling introduced by the Monte Carlo approach."
   ]
  },
  {
   "cell_type": "code",
   "execution_count": null,
   "id": "29",
   "metadata": {},
   "outputs": [],
   "source": [
    "plt.figure()\n",
    "for i in range(2):\n",
    "    rec = TopFarmListRecorder().load(f'recordings/{driver_names[i]}')\n",
    "    if driver_names[i] == 'SGD':\n",
    "        aep = []\n",
    "        for x, y in zip(rec['x'], rec['y']):\n",
    "            aep.append(aep_func2(x, y))\n",
    "        print('SGD AEP improvement: {:.2f}%'.format((aep[-1] - aep[0]) / aep[0] * 100))\n",
    "    else:\n",
    "        aep = rec['Cost']\n",
    "        print('SLSQP AEP improvement: {:.2f}%'.format((aep[-1] - aep[0]) / aep[0] * 100))\n",
    "    plt.plot(rec['timestamp']-rec['timestamp'][0], aep, label=driver_names[i])\n",
    "plt.legend()\n",
    "plt.xlabel('time [s]')\n",
    "plt.ylabel('AEP')"
   ]
  },
  {
   "cell_type": "markdown",
   "id": "30",
   "metadata": {},
   "source": [
    "### SGD Early Stopping"
   ]
  },
  {
   "cell_type": "markdown",
   "id": "31",
   "metadata": {},
   "source": [
    "The SGD algorithm spends a fair amount of time treating constraint gradients as being more important than AEP gradients. The SGD algorithm can be sped up to turn off AEP computations after the learning rate has reached a specified fraction of the initial learning rate. "
   ]
  },
  {
   "cell_type": "code",
   "execution_count": null,
   "id": "32",
   "metadata": {},
   "outputs": [],
   "source": [
    "plt.plot(rec['timestamp']-rec['timestamp'][0], aep, label='Full SGD')\n",
    "driver_no = 1\n",
    "for early in [0.1, 0.05, 0.02]:\n",
    "\n",
    "    constraints = [[SpacingConstraint(min_spacing_m), constraint_comp],\n",
    "                   DistanceConstraintAggregation(constraint_comp, n_wt, min_spacing_m, windTurbines)]\n",
    "    #aep component - SGD\n",
    "    aep_comp = CostModelComponent(input_keys=['x','y'], n_wt=n_wt, cost_function=aep_func, objective=True, cost_gradient_function=aep_jac, maximize=True)\n",
    "\n",
    "    #aep component - SLSQP\n",
    "    aep_comp2 = CostModelComponent(input_keys=['x','y'], n_wt=n_wt, cost_function=aep_func2, objective=True, cost_gradient_function=aep_jac2, maximize=True)\n",
    "\n",
    "    cost_comps = [aep_comp2, aep_comp]\n",
    "    \n",
    "    tf = TopFarmProblem(\n",
    "            design_vars = {'x':x0, 'y':y0},            \n",
    "            cost_comp = cost_comps[driver_no],       \n",
    "            constraints = constraints[driver_no],  \n",
    "            driver = EasySGDDriver(maxiter=sgd_iterations//3,\n",
    "                                   additional_constant_lr_iterations=sgd_iterations,\n",
    "                                   learning_rate=windTurbines.diameter()/5, \n",
    "                                   max_time=180000, \n",
    "                                   gamma_min_factor=0.1, speedupSGD=True,\n",
    "                                  sgd_thresh=early),\n",
    "            plot_comp = None,\n",
    "            expected_cost = ec[driver_no]\n",
    "            )\n",
    "\n",
    "    tic = time.time()\n",
    "    cost, state, recorder = tf.optimize()\n",
    "    toc = time.time()\n",
    "    print('Optimization with SGD took: {:.0f}s'.format(toc-tic), ' with a total constraint violation of ', recorder['sgd_constraint'][-1])\n",
    "    recorder.save(f'recordings/sgd_{early}')\n",
    "    rec = TopFarmListRecorder().load(f'recordings/sgd_{early}')\n",
    "    if recorder['sgd_constraint'][-1] > 1e-1: tag=' (invalid solution)'\n",
    "    else: tag = '' \n",
    "    aep = []\n",
    "    for x, y in zip(rec['x'], rec['y']):\n",
    "        aep.append(aep_func2(x, y))\n",
    "\n",
    "    plt.plot(rec['timestamp'] - rec['timestamp'][0], aep, label=f'sgd_thresh={early}' + tag)\n",
    "                  \n",
    "plt.legend()\n",
    "plt.xlabel('time [s]')\n",
    "plt.ylabel('AEP')"
   ]
  },
  {
   "cell_type": "code",
   "execution_count": null,
   "id": "33",
   "metadata": {},
   "outputs": [],
   "source": [
    "# plot constraint violations\n",
    "for early in np.flip([0.1, 0.05, 0.02]):\n",
    "    rec = TopFarmListRecorder(f'./recordings/sgd_{early}.pkl')\n",
    "    plt.plot(rec['sgd_constraint'], label=f'sgd_thresh={early}')\n",
    "\n",
    "rec = TopFarmListRecorder(f'./recordings/SGD.pkl')\n",
    "plt.plot(rec['sgd_constraint'], label=f'Full SGD', ls='--')\n",
    "plt.xlabel('Iteration')\n",
    "plt.ylabel(\"Constrain Violation $(m^2)$\")\n",
    "plt.yscale('log')\n",
    "plt.legend()"
   ]
  }
 ],
 "metadata": {
  "language_info": {
   "codemirror_mode": {
    "name": "ipython",
    "version": 3
   },
   "file_extension": ".py",
   "mimetype": "text/x-python",
   "name": "python",
   "nbconvert_exporter": "python",
   "pygments_lexer": "ipython3"
  }
 },
 "nbformat": 4,
 "nbformat_minor": 5
}
