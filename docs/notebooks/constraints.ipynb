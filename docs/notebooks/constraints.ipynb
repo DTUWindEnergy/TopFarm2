{
 "cells": [
  {
   "cell_type": "markdown",
   "metadata": {},
   "source": [
    "# Constraints"
   ]
  },
  {
   "cell_type": "markdown",
   "metadata": {},
   "source": [
    "[Try this yourself](https://colab.research.google.com/github/DTUWindEnergy/TopFarm2/blob/master/docs/notebooks/constraints.ipynb) (requires google account)\n",
    "\n",
    "**Jump to example in this notebook**:\n",
    "\n",
    "* [Boundary constraints](#Boundary-constraints)  \n",
    "* [Spacing constraint](#Spacing-constraint)  \n",
    "\n",
    "Make sure you first run the code below in order to set up and initialize needed variables."
   ]
  },
  {
   "cell_type": "code",
   "execution_count": null,
   "metadata": {},
   "outputs": [],
   "source": [
    "%%capture\n",
    "# Install Topfarm if needed\n",
    "try:\n",
    "    import topfarm\n",
    "except ModuleNotFoundError:\n",
    "    !pip install topfarm\n"
   ]
  },
  {
   "cell_type": "code",
   "execution_count": null,
   "metadata": {},
   "outputs": [],
   "source": [
    "import numpy as np\n",
    "%matplotlib inline\n",
    "import matplotlib.pyplot as plt"
   ]
  },
  {
   "cell_type": "code",
   "execution_count": null,
   "metadata": {},
   "outputs": [],
   "source": [
    "from topfarm import TopFarmProblem\n",
    "from topfarm.plotting import XYPlotComp\n",
    "from topfarm.constraint_components.boundary import XYBoundaryConstraint, CircleBoundaryConstraint\n",
    "from topfarm.constraint_components.spacing import SpacingConstraint\n",
    "\n",
    "from topfarm.cost_models.cost_model_wrappers import CostModelComponent\n",
    "boundary = np.array([(0, 0), (1, 1), (3, 0), (3, 2), (0, 2)])\n",
    "\n",
    "x = [0.5,1.5]\n",
    "y = [.5,1.5]\n",
    "dummy_cost = CostModelComponent(input_keys=[],\n",
    "                                n_wt=2,\n",
    "                               cost_function=lambda : 1)   "
   ]
  },
  {
   "cell_type": "markdown",
   "metadata": {},
   "source": [
    "## Boundary constraints"
   ]
  },
  {
   "cell_type": "code",
   "execution_count": null,
   "metadata": {},
   "outputs": [],
   "source": [
    "def plot_boundary(name, constraint_comp):\n",
    "    tf = TopFarmProblem(\n",
    "        design_vars={'x':x, 'y':y},\n",
    "        cost_comp=dummy_cost,\n",
    "        constraints=[constraint_comp],\n",
    "        plot_comp=XYPlotComp())\n",
    "    \n",
    "    plt.figure()\n",
    "    plt.title(name)\n",
    "    tf.plot_comp.plot_constraints()\n",
    "    plt.plot(boundary[:,0], boundary[:,1],'.r', label='Boundary points')\n",
    "    plt.axis('equal')\n",
    "    plt.legend()\n",
    "    \n",
    "for boundary_type in ['convex_hull','square','rectangle','polygon']:\n",
    "    plot_boundary(boundary_type, XYBoundaryConstraint(boundary, boundary_type))\n",
    "\n",
    "plot_boundary('Circle',CircleBoundaryConstraint((1.5,1),1))\n",
    "\n",
    "                          "
   ]
  },
  {
   "cell_type": "markdown",
   "metadata": {},
   "source": [
    "## Spacing constraint"
   ]
  },
  {
   "cell_type": "code",
   "execution_count": null,
   "metadata": {},
   "outputs": [],
   "source": [
    "def plot_spacing(name, constraint_comp):\n",
    "    tf = TopFarmProblem(\n",
    "        design_vars={'x':x, 'y':y},\n",
    "        cost_comp=dummy_cost,\n",
    "        constraints=[constraint_comp],\n",
    "        plot_comp=XYPlotComp())\n",
    "    \n",
    "    plt.figure()\n",
    "    plt.title(name)\n",
    "    tf.plot_comp.plot_constraints()\n",
    "    plt.plot(x,y,'.b', label='Wind turbines')\n",
    "    plt.axis('equal')\n",
    "    plt.legend()\n",
    "    plt.ylim([0,2])\n",
    "                          \n",
    "plot_spacing('spacing', SpacingConstraint(1))"
   ]
  }
 ],
 "metadata": {
  "kernelspec": {
   "display_name": "Python 3",
   "language": "python",
   "name": "python3"
  },
  "language_info": {
   "codemirror_mode": {
    "name": "ipython",
    "version": 3
   },
   "file_extension": ".py",
   "mimetype": "text/x-python",
   "name": "python",
   "nbconvert_exporter": "python",
   "pygments_lexer": "ipython3",
   "version": "3.7.2"
  }
 },
 "nbformat": 4,
 "nbformat_minor": 2
}
