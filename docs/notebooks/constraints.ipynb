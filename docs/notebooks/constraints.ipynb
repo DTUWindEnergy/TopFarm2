{
 "cells": [
  {
   "cell_type": "markdown",
   "metadata": {},
   "source": [
    "# Constraints"
   ]
  },
  {
   "cell_type": "markdown",
   "metadata": {},
   "source": [
    "[Try this yourself](https://colab.research.google.com/github/DTUWindEnergy/TopFarm2/blob/master/docs/notebooks/constraints.ipynb) (requires google account)\n"
   ]
  },
  {
   "cell_type": "markdown",
   "metadata": {},
   "source": [
    "Constraints are the second key element of an optimization problem formulation and they ensure that the optimization results represent feasible/realistic solutions. There are three types of constraints in optimization:\n",
    "\n",
    "- **Variable bounds**: upper and lower boundary values for design variables.\n",
    "- **Inequality constraints**: constraint function values must be less or more than a given threshold.\n",
    "- **Equality constraints**: constraint function must be exactly equal to a value (not as commonly used).\n",
    "\n",
    "In TOPFARM, the two most common type of constraints are boundary (`XYBoundaryConstraint`) and spacing constraints (`SpacingConstraint`). The boundaries constraints restrict the wind farm within a defined region, where the turbines inside are not allowed to cross this boundary and any exclusion zone must be avoided. In addition, spacing constraints tell TOPFARM the minimum allowable inter-turbine spacing in the farm.\n",
    "\n",
    "There is also the possibility of specifying additional constraints, such as fatigue loading or AEP. To do this, the **post_constraints** option in the TOPFARM problem is specified. More on how to set this up can be seen in the [load constrained layout optimization](https://topfarm.pages.windenergy.dtu.dk/TopFarm2/basic_examples_nblinks/layout_and_loads_nb.html) and [wake steering with load constraints](https://topfarm.pages.windenergy.dtu.dk/TopFarm2/advanced_examples_nblinks/wake_steering_and_loads_nb.html) examples.\n",
    "\n",
    "This notebook walks through a process to set up typical constraints in TOPFARM for wind farm design problems. Before working through the two types of boundaries, you must first import some basic libraries and functions."
   ]
  },
  {
   "cell_type": "markdown",
   "metadata": {},
   "source": [
    "Make sure that you import or install topfarm on your newly created environment."
   ]
  },
  {
   "cell_type": "code",
   "execution_count": null,
   "metadata": {},
   "outputs": [],
   "source": [
    "# Install TopFarm if needed\n",
    "import importlib\n",
    "if not importlib.util.find_spec(\"topfarm\"):\n",
    "    !pip install git+https://gitlab.windenergy.dtu.dk/TOPFARM/TopFarm2.git"
   ]
  },
  {
   "cell_type": "markdown",
   "metadata": {},
   "source": [
    "**Import supporting libraries in Python**"
   ]
  },
  {
   "cell_type": "code",
   "execution_count": null,
   "metadata": {},
   "outputs": [],
   "source": [
    "# Import numpy and matplotlib files\n",
    "import numpy as np\n",
    "%matplotlib inline\n",
    "import matplotlib.pyplot as plt"
   ]
  },
  {
   "cell_type": "markdown",
   "metadata": {},
   "source": [
    "**Next we import and initialize several functions and classes from TOPFARM to set up the problem including:**\n",
    "\n",
    "- **TopFarmProblem**. Overall topfarm problem class to which the objectives, design variables, and constraints are added\n",
    "- **XYPlotComp**. A helper function that shows the evolution of the optimization and the results at each iteration\n",
    "- **XYBoundaryConstraint**. For a boundary specified as a series of connected perimeter vertices\n",
    "- **CircleBoundaryConstraint**. For a circular boundary with a central location and a radius\n",
    "- **SpacingConstraint**. For the inter-turbine spacing distance constraints\n",
    "- **CostModelComponent**. A generic class for setting up a problem objective function\n"
   ]
  },
  {
   "cell_type": "code",
   "execution_count": null,
   "metadata": {},
   "outputs": [],
   "source": [
    "# Import topfarm problem, plotting support, constraint classes and generic cost model component\n",
    "from topfarm import TopFarmProblem\n",
    "from topfarm.plotting import XYPlotComp\n",
    "from topfarm.constraint_components.boundary import XYBoundaryConstraint, CircleBoundaryConstraint\n",
    "from topfarm.constraint_components.spacing import SpacingConstraint\n",
    "from topfarm.cost_models.cost_model_wrappers import CostModelComponent"
   ]
  },
  {
   "cell_type": "markdown",
   "metadata": {},
   "source": [
    "## Boundary constraints\n",
    "\n",
    "Next we are going to demonstrate the use of the `XYBoundaryConstraint` to set up site boundaries of a variety of types including square, rectangle and an arbitrary polygon.  Additionally, a \"convex hull\" example is provided which is a commonly used boundary type for wind farm design optimization problems.\n",
    "\n",
    "**Convex hull**\n",
    "\n",
    "\"In mathematics, the convex hull or convex envelope or convex closure of a set X of points in the Euclidean plane or in a Euclidean space (or, more generally, in an affine space over the reals) is the smallest convex set that contains X. For instance, when X is a bounded subset of the plane, the convex hull may be visualized as the shape enclosed by a rubber band stretched around X.\" [[1]](https://en.wikipedia.org/wiki/Convex_hull)"
   ]
  },
  {
   "cell_type": "code",
   "execution_count": null,
   "metadata": {},
   "outputs": [],
   "source": [
    "# set up a \"boundary\" array with arbitrary points for use in the example\n",
    "boundary = np.array([(0, 0), (1, 1), (3, 0), (3, 2), (0, 2)])\n",
    "\n",
    "# set up dummy design variables and cost model component. \n",
    "# This example includes 2 turbines (n_wt=2) located at x,y=0.5,0.5 and 1.5,1.5 respectively\n",
    "\n",
    "x = [0.5,1.5]\n",
    "y = [.5,1.5]\n",
    "dummy_cost = CostModelComponent(input_keys=[],\n",
    "                                n_wt=2,\n",
    "                               cost_function=lambda : 1)   \n",
    "\n",
    "# We introduce a simple plotting function so we can quickly plot different types of site boundaries\n",
    "def plot_boundary(name, constraint_comp):\n",
    "    tf = TopFarmProblem(\n",
    "        design_vars={'x':x, 'y':y}, # setting up the turbine positions as design variables\n",
    "        cost_comp=dummy_cost, # using dummy cost model\n",
    "        constraints=[constraint_comp], # constraint set up for the boundary type provided\n",
    "        plot_comp=XYPlotComp()) # support plotting function\n",
    "    \n",
    "    plt.figure()\n",
    "    plt.title(name)\n",
    "    tf.plot_comp.plot_constraints() # plot constraints is a helper function in topfarm to plot constraints\n",
    "    plt.plot(boundary[:,0], boundary[:,1],'.r', label='Boundary points') # plot the boundary points\n",
    "    plt.axis('equal')\n",
    "    plt.legend() # add the legend\n"
   ]
  },
  {
   "cell_type": "markdown",
   "metadata": {},
   "source": [
    "Now that we have set up our dummy problem, we can illustrate how different boundary types can be created from our boundary vertices. \n",
    "\n",
    "First we show a **convex hull** type as described above. Note that for the convex hull, all boundary points are contained within a convex perimeter but one of the boundary points on the interior is not used. When using the `XYBoundaryConstraint` in an optimization problem, TOPFARM uses convex hull as the default boundary type."
   ]
  },
  {
   "cell_type": "code",
   "execution_count": null,
   "metadata": {},
   "outputs": [],
   "source": [
    "plot_boundary('convex_hull', XYBoundaryConstraint(boundary, 'convex_hull'))"
   ]
  },
  {
   "cell_type": "markdown",
   "metadata": {},
   "source": [
    "Next we show a **square** type of boundary. In this case the maximum distance between the x and y elements of the vertices is used to establish the perimeter."
   ]
  },
  {
   "cell_type": "code",
   "execution_count": null,
   "metadata": {},
   "outputs": [],
   "source": [
    "plot_boundary('square', XYBoundaryConstraint(boundary, 'square'))"
   ]
  },
  {
   "cell_type": "markdown",
   "metadata": {},
   "source": [
    "Now a **rectangle** boundary. Here we use the maximum distance on both x and y axes of the boundary coordinates to establish the perimeter."
   ]
  },
  {
   "cell_type": "code",
   "execution_count": null,
   "metadata": {},
   "outputs": [],
   "source": [
    "plot_boundary('rectangle', XYBoundaryConstraint(boundary, 'rectangle'))"
   ]
  },
  {
   "cell_type": "markdown",
   "metadata": {},
   "source": [
    "Now, a **polygon** boundary, which connects all the points in sequence. Note that this results in a nonconvex boundary. Nonconvex functions in optimization problems introduce complexity that can be challenging to handle and often require more sophisticated algorithms and higher computational expense."
   ]
  },
  {
   "cell_type": "code",
   "execution_count": null,
   "metadata": {},
   "outputs": [],
   "source": [
    "plot_boundary('polygon', XYBoundaryConstraint(boundary, 'polygon'))"
   ]
  },
  {
   "cell_type": "markdown",
   "metadata": {},
   "source": [
    "Finally, a **circular** boundary, where the midpoint of the circle and the radius are specified by the user. "
   ]
  },
  {
   "cell_type": "code",
   "execution_count": null,
   "metadata": {},
   "outputs": [],
   "source": [
    "plot_boundary('Circle',CircleBoundaryConstraint((1.5,1),1))"
   ]
  },
  {
   "cell_type": "markdown",
   "metadata": {},
   "source": [
    "With a simple for loop we can quickly plot all boundary types"
   ]
  },
  {
   "cell_type": "code",
   "execution_count": null,
   "metadata": {},
   "outputs": [],
   "source": [
    "for boundary_type in ['convex_hull','square','rectangle','polygon']:\n",
    "    plot_boundary(boundary_type, XYBoundaryConstraint(boundary, boundary_type))"
   ]
  },
  {
   "cell_type": "markdown",
   "metadata": {},
   "source": [
    "\n",
    "### Exercise \n",
    "\n",
    "Play around with a new set of boundary vertices and construct different perimeters to explore the functionality. See if you can make even more complex polygon shapes."
   ]
  },
  {
   "cell_type": "code",
   "execution_count": null,
   "metadata": {},
   "outputs": [],
   "source": [
    "# Make your own set of vertices - anything you would like!\n",
    "boundary = np.array([(0, 0), (2, 1), (4, 7), (1, 1), (0, 2)])\n",
    "\n",
    "# Then see what types of perimeters they generate\n",
    "for boundary_type in ['convex_hull','square','rectangle','polygon']:\n",
    "    plot_boundary(boundary_type, XYBoundaryConstraint(boundary, boundary_type))"
   ]
  },
  {
   "cell_type": "markdown",
   "metadata": {},
   "source": [
    "## Spacing constraints\n",
    "\n",
    "The next most common constraint in a wind farm design optimization problem is on the allowable inter-turbine spacing in the farm.  Instinctively, turbines will try to spread out within the wind farm to minimize wake losses, but a minimum constraint can also help to ensure that turbines not get placed too close together.\n",
    "\n",
    "The following provides a simple example of implementation of a minimum spacing constraint."
   ]
  },
  {
   "cell_type": "code",
   "execution_count": null,
   "metadata": {},
   "outputs": [],
   "source": [
    "# set up dummy design variables and cost model component. \n",
    "# This example includes 2 turbines (n_wt=2) located at x,y=0.5,0.5 and 1.5,1.5 respectively\n",
    "\n",
    "x = [0.5,1.5]\n",
    "y = [.5,1.5]\n",
    "dummy_cost = CostModelComponent(input_keys=[],\n",
    "                                n_wt=2,\n",
    "                               cost_function=lambda : 1)   \n",
    "\n",
    "# a function to plot a spacing constraint for a Topfarm problem\n",
    "def plot_spacing(name, constraint_comp):\n",
    "    tf = TopFarmProblem(\n",
    "        design_vars={'x':x, 'y':y}, # setting up the turbine positions as design variables\n",
    "        cost_comp=dummy_cost, # using dummy cost model\n",
    "        constraints=[constraint_comp], # constraint set up for the boundary type provided\n",
    "        plot_comp=XYPlotComp()) # support plotting function\n",
    "    tf.evaluate()\n",
    "    \n",
    "    plt.figure()\n",
    "    plt.title(name)\n",
    "    tf.plot_comp.plot_constraints() # plot constraints is a helper function in topfarm to plot constraints\n",
    "    plt.plot(x,y,'.b', label='Wind turbines') # plot the turbine locations\n",
    "    plt.axis('equal')\n",
    "    plt.legend() # add the legend\n",
    "    plt.ylim([0,3])    \n"
   ]
  },
  {
   "cell_type": "markdown",
   "metadata": {},
   "source": [
    "To employ the spacing constraint, you must specify the minimum distance between turbines in meters."
   ]
  },
  {
   "cell_type": "code",
   "execution_count": null,
   "metadata": {},
   "outputs": [],
   "source": [
    "plot_spacing('spacing', SpacingConstraint(1))"
   ]
  },
  {
   "cell_type": "markdown",
   "metadata": {},
   "source": [
    "### Exercise\n",
    "\n",
    "Play around with the spacing constraint size"
   ]
  },
  {
   "cell_type": "code",
   "execution_count": null,
   "metadata": {},
   "outputs": [],
   "source": [
    "plot_spacing('spacing', SpacingConstraint(2))"
   ]
  }
 ],
 "metadata": {
  "language_info": {
   "codemirror_mode": {
    "name": "ipython",
    "version": 3
   },
   "file_extension": ".py",
   "mimetype": "text/x-python",
   "name": "python",
   "nbconvert_exporter": "python",
   "pygments_lexer": "ipython3"
  }
 },
 "nbformat": 4,
 "nbformat_minor": 2
}
