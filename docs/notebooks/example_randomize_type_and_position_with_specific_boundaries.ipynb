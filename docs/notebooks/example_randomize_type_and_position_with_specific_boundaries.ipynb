{
 "cells": [
  {
   "cell_type": "markdown",
   "id": "0",
   "metadata": {},
   "source": [
    "# Turbine type and position optimization with type specific boundary constraints\n",
    "\n",
    "In this example, a layout optimization with different turbine types is performed with a random search solver. In addition, the boundaries of the problem are specific for the different types of wind turbines present."
   ]
  },
  {
   "cell_type": "markdown",
   "id": "1",
   "metadata": {},
   "source": [
    "**Install TOPFARM if needed**"
   ]
  },
  {
   "cell_type": "code",
   "execution_count": null,
   "id": "2",
   "metadata": {},
   "outputs": [],
   "source": [
    "# Install TopFarm if needed\n",
    "import importlib\n",
    "if not importlib.util.find_spec(\"topfarm\"):\n",
    "    !pip install git+https://gitlab.windenergy.dtu.dk/TOPFARM/TopFarm2.git"
   ]
  },
  {
   "cell_type": "markdown",
   "id": "3",
   "metadata": {},
   "source": [
    "Loading Python dependencies."
   ]
  },
  {
   "cell_type": "code",
   "execution_count": null,
   "id": "4",
   "metadata": {},
   "outputs": [],
   "source": [
    "import numpy as np\n",
    "import matplotlib.pyplot as plt\n",
    "from shapely.geometry import Polygon, LineString"
   ]
  },
  {
   "cell_type": "markdown",
   "id": "5",
   "metadata": {},
   "source": [
    "Loading PyWake dependencies."
   ]
  },
  {
   "cell_type": "code",
   "execution_count": null,
   "id": "6",
   "metadata": {},
   "outputs": [],
   "source": [
    "from py_wake.wind_turbines import WindTurbines\n",
    "from py_wake.wind_turbines.power_ct_functions import CubePowerSimpleCt\n",
    "from py_wake.examples.data.hornsrev1 import Hornsrev1Site\n",
    "from py_wake.utils.gradients import autograd\n",
    "from py_wake import BastankhahGaussian"
   ]
  },
  {
   "cell_type": "markdown",
   "id": "7",
   "metadata": {},
   "source": [
    "Loading TOPFARM dependencies."
   ]
  },
  {
   "cell_type": "code",
   "execution_count": null,
   "id": "8",
   "metadata": {},
   "outputs": [],
   "source": [
    "import topfarm\n",
    "from topfarm.cost_models.cost_model_wrappers import CostModelComponent\n",
    "from topfarm.easy_drivers import EasyScipyOptimizeDriver\n",
    "from topfarm import TopFarmProblem\n",
    "from topfarm.plotting import TurbineTypePlotComponent\n",
    "from topfarm.constraint_components.spacing import SpacingConstraint\n",
    "from topfarm.constraint_components.boundary import XYBoundaryConstraint\n",
    "from topfarm.easy_drivers import EasyRandomSearchDriver, EasyScipyOptimizeDriver\n",
    "from topfarm.drivers.random_search_driver import randomize_turbine_type, RandomizeTurbineTypeAndPosition\n",
    "from topfarm.constraint_components.boundary import InclusionZone, ExclusionZone"
   ]
  },
  {
   "cell_type": "markdown",
   "id": "9",
   "metadata": {},
   "source": [
    "Now we create our two types of wind turbines, specifying key parameters such as diameter, hub height and the CT curve."
   ]
  },
  {
   "cell_type": "code",
   "execution_count": null,
   "id": "10",
   "metadata": {},
   "outputs": [],
   "source": [
    "# wind turbine types \n",
    "names=['tb1', 'tb2']\n",
    "wts = WindTurbines(names=names,\n",
    "                   diameters=[80, 120],\n",
    "                   hub_heights=[70, 110],\n",
    "                   powerCtFunctions=[CubePowerSimpleCt(ws_cutin=3, ws_cutout=25, ws_rated=12,\n",
    "                                         power_rated=2000, power_unit='kW',\n",
    "                                         ct=8 / 9, additional_models=[]),\n",
    "                                     CubePowerSimpleCt(ws_cutin=3, ws_cutout=25, ws_rated=12,\n",
    "                                         power_rated=3000, power_unit='kW',\n",
    "                                         ct=8 / 9, additional_models=[])])"
   ]
  },
  {
   "cell_type": "code",
   "execution_count": null,
   "id": "11",
   "metadata": {},
   "outputs": [],
   "source": [
    "# wind farm model\n",
    "wfm = BastankhahGaussian(Hornsrev1Site(), wts)"
   ]
  },
  {
   "cell_type": "markdown",
   "id": "12",
   "metadata": {},
   "source": [
    "We include some boundaries in our domain that will be dependent on the type of wind turbine. There are four areas added individually: the main wind farm boundaries, added as a square of 3x3 km; a river that crosses the domain vertically; a road that crosses the domain horizontally; and a big building located in the left upper corner. \n",
    "\n",
    "The wind farm domain square is an inclusion zone, where the wind turbines are allowed to be placed, whereas the building, river and road are exclusion zones, where the wind turbines cannot be placed."
   ]
  },
  {
   "cell_type": "code",
   "execution_count": null,
   "id": "13",
   "metadata": {},
   "outputs": [],
   "source": [
    "# geometries for boundary constraints \n",
    "default_ref = 100 # reference to buffer polygons\n",
    "\n",
    "# wind farm main boundaries\n",
    "x1 = [0, 3000, 3000, 0]\n",
    "y1 = [0, 0, 3000, 3000]\n",
    "b1 = np.transpose((x1, y1))\n",
    "ie1 = 1\n",
    "d1 = None\n",
    "t1 = 'polygon'\n",
    "\n",
    "# Buildings\n",
    "x2 = [600, 1400, 1400, 600]\n",
    "y2 = [1700, 1700, 2500, 2500]\n",
    "b2 = np.transpose((x2, y2))\n",
    "ie2 = 0\n",
    "d2 = {'type': 'H',\n",
    "      'multiplier': 4,\n",
    "      'ref': 360}\n",
    "t2 = 'polygon'\n",
    "p2 = Polygon(b2)\n",
    "\n",
    "# River\n",
    "x3 = np.linspace(520, 2420, 16)\n",
    "y3 = [   0,  133,  266,  400,  500,  600,  700,  733, 866, 1300, 1633,\n",
    "       2100, 2400, 2533, 2700, 3000]\n",
    "b3 = np.transpose((x3, y3))\n",
    "ie3 = 0\n",
    "d3 = {'type': 'D',\n",
    "      'multiplier': 3,\n",
    "      'ref': None}\n",
    "t3 = 'line'\n",
    "p3 = Polygon(LineString(b3).buffer(default_ref, join_style=2).exterior)\n",
    "\n",
    "# Roads\n",
    "x4 = np.linspace(0, 3000, 16)\n",
    "y4 = [1095, 1038, 1110, 1006, 1028,  992,  977, 1052, 1076, 1064, 1073,\n",
    "       1027,  964,  981, 1015, 1058]\n",
    "b4 = np.transpose((x4, y4))\n",
    "ie4 = 0\n",
    "d4 = {'type': 'H',\n",
    "      'multiplier': 3,\n",
    "      'ref': None}\n",
    "t4 = 'line'\n",
    "p4 = Polygon(LineString(b4).buffer(default_ref, join_style=2).exterior)"
   ]
  },
  {
   "cell_type": "markdown",
   "id": "14",
   "metadata": {},
   "source": [
    "We also set up the number of wind turbines as well as their initial positions. The turbine types are created randomly and the turbine coordinates in x and y are limited."
   ]
  },
  {
   "cell_type": "code",
   "execution_count": null,
   "id": "15",
   "metadata": {},
   "outputs": [],
   "source": [
    "# Instantiate wind turbines\n",
    "\n",
    "n_wt = 16 # desired number of turbines \n",
    "\n",
    "x_min, x_max = 0, 3000 # limits for x\n",
    "y_min, y_max = 0, 3000 # limits for y\n",
    "\n",
    "np.random.seed(42)\n",
    "def initial_positions():\n",
    "    wt_x, wt_y = np.random.uniform(x_min, x_max, n_wt), np.random.uniform(y_min, y_max, n_wt)\n",
    "    wt_x = wt_x.flatten()\n",
    "    wt_y = wt_y.flatten()\n",
    "    return wt_x, wt_y\n",
    "\n",
    "wt_x, wt_y = initial_positions()\n",
    "\n",
    "# instantiate types \n",
    "types = np.random.choice(2, n_wt)"
   ]
  },
  {
   "cell_type": "markdown",
   "id": "16",
   "metadata": {},
   "source": [
    "Then we group all geometries in a boundary component."
   ]
  },
  {
   "cell_type": "code",
   "execution_count": null,
   "id": "17",
   "metadata": {},
   "outputs": [],
   "source": [
    "# group all geometries in a boundary component \n",
    "zones = [InclusionZone(b1),\n",
    "         ExclusionZone(b2, dist2wt=lambda H: 4 * H - 360),\n",
    "         ExclusionZone(b3, geometry_type='line', dist2wt=lambda D: 3 * D),\n",
    "         ExclusionZone(b4, geometry_type='line', dist2wt=lambda D, H: max(D * 2, H * 3))\n",
    "        ]\n",
    "\n",
    "xybound = XYBoundaryConstraint(zones, boundary_type='turbine_specific', turbines=wts)"
   ]
  },
  {
   "cell_type": "markdown",
   "id": "18",
   "metadata": {},
   "source": [
    "The objective function and its gradients is set up in addition to the `CostModelComponent`."
   ]
  },
  {
   "cell_type": "code",
   "execution_count": null,
   "id": "19",
   "metadata": {},
   "outputs": [],
   "source": [
    "# AEP function and gradients (with autograd)\n",
    "def aep_func(x, y, type, **kwargs):\n",
    "    simres = wfm(x, y, type=type, **kwargs)\n",
    "    return simres.aep(normalize_probabilities=True).values.sum()\n",
    "\n",
    "def daep_func(x, y, type, **kwargs):\n",
    "    grad = wfm.aep_gradients(gradient_method=autograd, wrt_arg=['x', 'y'])(x, y)\n",
    "    return grad\n",
    "\n",
    "# AEP cost component\n",
    "aep_comp = CostModelComponent(input_keys=[('x', wt_x), ('y', wt_y), ('type', types)],\n",
    "                              n_wt=n_wt,\n",
    "                              cost_function=aep_func,\n",
    "                              cost_gradient_function=daep_func,\n",
    "                              objective=True,\n",
    "                              maximize=True,\n",
    "                              output_keys=[('AEP', 0)],\n",
    "                              output_unit='GWh')"
   ]
  },
  {
   "cell_type": "markdown",
   "id": "20",
   "metadata": {},
   "source": [
    "Lastly, the `TopFarmProblem` is set up where both the layout and the turbine types are optimized simultaneously."
   ]
  },
  {
   "cell_type": "code",
   "execution_count": null,
   "id": "21",
   "metadata": {},
   "outputs": [],
   "source": [
    "problem = TopFarmProblem(design_vars={'type': (np.zeros(n_wt), 0, int(len(names)-1)),\n",
    "                                      'x': wt_x,\n",
    "                                      'y': wt_y\n",
    "                                      },\n",
    "                          cost_comp=aep_comp,\n",
    "                          constraints=[xybound, SpacingConstraint(240)],\n",
    "                          driver=EasyRandomSearchDriver(RandomizeTurbineTypeAndPosition(max_step=1000), max_iter=20),\n",
    "                          plot_comp=TurbineTypePlotComponent(names),\n",
    "                          expected_cost=1e-2,\n",
    "                         reports=False\n",
    "                          )"
   ]
  },
  {
   "cell_type": "code",
   "execution_count": null,
   "id": "22",
   "metadata": {},
   "outputs": [],
   "source": [
    "cost, state, recorder = problem.optimize()"
   ]
  },
  {
   "cell_type": "markdown",
   "id": "23",
   "metadata": {},
   "source": [
    "We can print the final results for the turbine types and positions. It can be seen that the optimal turbine type is mostly turbine 2, which has a larger diameter than turbine 1. The optimizer chooses a bigger turbine to obtain a higher AEP while keeping the turbines within their respective boundaries."
   ]
  },
  {
   "cell_type": "code",
   "execution_count": null,
   "id": "24",
   "metadata": {},
   "outputs": [],
   "source": [
    "state"
   ]
  }
 ],
 "metadata": {
  "language_info": {
   "codemirror_mode": {
    "name": "ipython",
    "version": 3
   },
   "file_extension": ".py",
   "mimetype": "text/x-python",
   "name": "python",
   "nbconvert_exporter": "python",
   "pygments_lexer": "ipython3"
  }
 },
 "nbformat": 4,
 "nbformat_minor": 5
}
