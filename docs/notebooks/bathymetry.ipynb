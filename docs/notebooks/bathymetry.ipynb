{
 "cells": [
  {
   "cell_type": "markdown",
   "metadata": {},
   "source": [
    "# Optimization with bathymetry and max water depth constraint"
   ]
  },
  {
   "cell_type": "markdown",
   "metadata": {},
   "source": [
    "[Try this yourself](https://colab.research.google.com/github/DTUWindEnergy/TopFarm2/blob/master/docs/notebooks/bathymetry.ipynb) (requires google account)\n"
   ]
  },
  {
   "cell_type": "markdown",
   "metadata": {},
   "source": [
    "In this example, an optimization is made where the bathymetry of a site is considered. In addition, a constraint on the allowable maximum water depth is specified."
   ]
  },
  {
   "cell_type": "markdown",
   "metadata": {},
   "source": [
    "**Install TOPFARM if needed**"
   ]
  },
  {
   "cell_type": "code",
   "execution_count": null,
   "metadata": {},
   "outputs": [],
   "source": [
    "# Install TopFarm if needed\n",
    "import importlib\n",
    "if not importlib.util.find_spec(\"topfarm\"):\n",
    "    !pip install git+https://gitlab.windenergy.dtu.dk/TOPFARM/TopFarm2.git"
   ]
  },
  {
   "cell_type": "markdown",
   "metadata": {},
   "source": [
    "**Install packages if running in Colab**"
   ]
  },
  {
   "cell_type": "code",
   "execution_count": null,
   "metadata": {
    "id": "3yhWisczHKap"
   },
   "outputs": [],
   "source": [
    "try:\n",
    "    RunningInCOLAB = 'google.colab' in str(get_ipython())\n",
    "except NameError:\n",
    "    RunningInCOLAB = False"
   ]
  },
  {
   "cell_type": "code",
   "execution_count": null,
   "metadata": {
    "id": "mGJDyPJrHQzm"
   },
   "outputs": [],
   "source": [
    "%%capture\n",
    "if RunningInCOLAB:\n",
    "  !pip install git+https://gitlab.windenergy.dtu.dk/TOPFARM/PyWake.git\n",
    "  !pip install git+https://gitlab.windenergy.dtu.dk/TOPFARM/TopFarm2.git\n",
    "  !pip install scipy==1.6.3 #  constraint is not continuous which trips vers. 1.4.1 which presently is the default version\n",
    "  import os\n",
    "  os.kill(os.getpid(), 9)"
   ]
  },
  {
   "cell_type": "markdown",
   "metadata": {},
   "source": [
    "**First we import basic Python elements and some TOPFARM classes**"
   ]
  },
  {
   "cell_type": "code",
   "execution_count": null,
   "metadata": {
    "id": "0tTJQPtBHbXU"
   },
   "outputs": [],
   "source": [
    "import numpy as np\n",
    "import matplotlib.pyplot as plt\n",
    "import time\n",
    "from topfarm.cost_models.cost_model_wrappers import CostModelComponent\n",
    "from topfarm.easy_drivers import EasyScipyOptimizeDriver\n",
    "from topfarm import TopFarmProblem\n",
    "from topfarm.plotting import XYPlotComp\n",
    "from topfarm.constraint_components.boundary import XYBoundaryConstraint\n",
    "from topfarm.constraint_components.spacing import SpacingConstraint\n",
    "from topfarm.examples.data.parque_ficticio_offshore import ParqueFicticioOffshore\n",
    "from py_wake.deficit_models.gaussian import IEA37SimpleBastankhahGaussian\n",
    "from py_wake.examples.data.iea37._iea37 import IEA37_WindTurbines"
   ]
  },
  {
   "cell_type": "markdown",
   "metadata": {},
   "source": [
    "**Now, we set up the site and optimization problem**.\n",
    "\n",
    "In this case, we are using the `ParqueFicticioOffshore` [site](https://topfarm.pages.windenergy.dtu.dk/PyWake/notebooks/Site.html), which is defined in PyWake. The cost function must also calculate the water depth in addition to the AEP, as it will be used as **post_constraints** in the optimization problem."
   ]
  },
  {
   "cell_type": "code",
   "execution_count": null,
   "metadata": {
    "id": "2vx4s8huHfXq"
   },
   "outputs": [],
   "source": [
    "#setting up the site and the initial position of turbines\n",
    "site = ParqueFicticioOffshore()\n",
    "site.bounds = 'ignore'\n",
    "x_init, y_init = site.initial_position[:,0], site.initial_position[:,1]\n",
    "boundary = site.boundary\n",
    "\n",
    "#Wind turbines and wind farm model definition\n",
    "windTurbines = IEA37_WindTurbines() \n",
    "wfm = IEA37SimpleBastankhahGaussian(site, windTurbines)\n",
    "\n",
    "#parameters for the AEP calculation \n",
    "wsp = np.asarray([10, 15])\n",
    "wdir = np.arange(0,360,45)\n",
    "maximum_water_depth = -52   #[m]\n",
    "n_wt = x_init.size\n",
    "\n",
    "def aep_func(x, y, **kwargs):\n",
    "    simres = wfm(x, y, wd=wdir, ws=wsp)\n",
    "    aep = simres.aep().values.sum()\n",
    "    water_depth = np.diag(wfm.site.ds.interp(x=x, y=y)['water_depth'])\n",
    "    return [aep, water_depth]\n",
    "\n",
    "#parameters for the optimization problem\n",
    "tol = 1e-8\n",
    "ec = 1e-2\n",
    "min_spacing = 260\n",
    "maxiter = 30\n",
    "\n",
    "#Cost model component and Topfarm problem\n",
    "cost_comp = CostModelComponent(input_keys=[('x', x_init),('y', y_init)],\n",
    "                                          n_wt=n_wt,\n",
    "                                          cost_function=aep_func,\n",
    "                                          objective=True,\n",
    "                                          maximize=True,\n",
    "                                          output_keys=[('AEP', 0), ('water_depth', np.zeros(n_wt))]\n",
    "                                          )\n",
    "\n",
    "problem = TopFarmProblem(design_vars={'x': x_init, 'y': y_init},\n",
    "                         constraints=[XYBoundaryConstraint(boundary),\n",
    "                                      SpacingConstraint(min_spacing)],\n",
    "                          post_constraints=[('water_depth', {'lower': maximum_water_depth})],\n",
    "                          n_wt = n_wt,\n",
    "                          cost_comp=cost_comp,\n",
    "                          driver=EasyScipyOptimizeDriver(optimizer='SLSQP', maxiter=maxiter, tol=tol),\n",
    "                          plot_comp=XYPlotComp(),\n",
    "                          expected_cost=ec)"
   ]
  },
  {
   "cell_type": "markdown",
   "metadata": {},
   "source": [
    "**Now we run the optimization**"
   ]
  },
  {
   "cell_type": "code",
   "execution_count": null,
   "metadata": {
    "colab": {
     "base_uri": "https://localhost:8080/",
     "height": 696
    },
    "id": "K2ch8htcRrf_",
    "outputId": "4392438c-6533-4336-fbe2-acc698ed84f6"
   },
   "outputs": [],
   "source": [
    "tic = time.time()\n",
    "cost, state, recorder = problem.optimize()\n",
    "toc = time.time()\n",
    "print('Optimization took: {:.0f}s'.format(toc-tic))"
   ]
  },
  {
   "cell_type": "markdown",
   "metadata": {},
   "source": [
    "We can use the recorder to plot the evolution of the water depth with each iteration."
   ]
  },
  {
   "cell_type": "code",
   "execution_count": null,
   "metadata": {
    "colab": {
     "base_uri": "https://localhost:8080/",
     "height": 279
    },
    "id": "kcPpUlrD2uZv",
    "outputId": "b911777b-260f-4cec-e279-1dd2ec84b580"
   },
   "outputs": [],
   "source": [
    "plt.plot(recorder['water_depth'].min((1)))\n",
    "plt.plot([0,recorder['water_depth'].shape[0]],[maximum_water_depth, maximum_water_depth])\n",
    "plt.xlabel('Iteration')\n",
    "plt.ylabel('Max depth [m]')"
   ]
  },
  {
   "cell_type": "markdown",
   "metadata": {},
   "source": [
    "We can also visualize the initial vs optimized layout as countour plots that show the water depth. Note how it is clear how the optimized positions do not cross the boundary set for the water depth."
   ]
  },
  {
   "cell_type": "code",
   "execution_count": null,
   "metadata": {
    "colab": {
     "base_uri": "https://localhost:8080/",
     "height": 312
    },
    "id": "RNHPmnZN4MpG",
    "outputId": "dbd9f647-0aab-4d12-c4e4-b02996779c64"
   },
   "outputs": [],
   "source": [
    "values = site.ds.water_depth.values\n",
    "x = site.ds.x.values\n",
    "y = site.ds.y.values\n",
    "levels = np.arange(int(values.min()), int(values.max()))\n",
    "max_wd_index = int(np.argwhere(levels==maximum_water_depth))\n",
    "Y, X = np.meshgrid(y, x)\n",
    "cs = plt.contour(x, y , values.T, levels)\n",
    "plt.close()\n",
    "lines = []\n",
    "\n",
    "for line in cs.allsegs[max_wd_index]:\n",
    "     lines.append(line)\n",
    "fig2, ax2 = plt.subplots(1)\n",
    "\n",
    "site.ds.water_depth.plot(ax=ax2, levels=100)\n",
    "for line in lines:\n",
    "    ax2.plot(line[:, 0], line[:,1], 'r')\n",
    "    problem.model.plot_comp.plot_initial2current(x_init, y_init, state['x'], state['y'])\n",
    "    ax2.set_title(f'Max Water Depth Boundary: {maximum_water_depth} m')"
   ]
  }
 ],
 "metadata": {
  "colab": {
   "collapsed_sections": [],
   "name": "bathymetry.ipynb",
   "provenance": []
  },
  "language_info": {
   "codemirror_mode": {
    "name": "ipython",
    "version": 3
   },
   "file_extension": ".py",
   "mimetype": "text/x-python",
   "name": "python",
   "nbconvert_exporter": "python",
   "pygments_lexer": "ipython3"
  }
 },
 "nbformat": 4,
 "nbformat_minor": 1
}
