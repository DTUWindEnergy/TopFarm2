{
    "cells": [
        {
            "cell_type": "markdown",
            "metadata": {},
            "source": [
                "# Load Constrained Layout Optimization"
            ]
        },
        {
            "cell_type": "markdown",
            "metadata": {},
            "source": [
                "[Try this yourself](https://colab.research.google.com/github/DTUWindEnergy/TopFarm2/blob/master/docs/notebooks/layout_and_loads.ipynb) (requires google account)\n"
            ]
        },
        {
            "cell_type": "markdown",
            "metadata": {
                "id": "Nv2ihk66SNgi"
            },
            "source": [
                "## Install TopFarm and PyWake"
            ]
        },
        {
            "cell_type": "code",
            "execution_count": 1,
            "metadata": {
                "executionInfo": {
                    "elapsed": 124309,
                    "status": "ok",
                    "timestamp": 1623707966633,
                    "user": {
                        "displayName": "Mikkel Friis-M\u00f8ller",
                        "photoUrl": "https://lh3.googleusercontent.com/a-/AOh14GiVrnxS0oNYcvEfwYdFjWYAU5G0YxLXELnknXMi=s64",
                        "userId": "10444369613733539918"
                    },
                    "user_tz": -120
                },
                "id": "HP8XVx4URYcr"
            },
            "outputs": [],
            "source": [
                "# Install TopFarm if needed\n",
                "import importlib\n",
                "if not importlib.util.find_spec(\"topfarm\"):\n",
                "    !pip install git+https://gitlab.windenergy.dtu.dk/TOPFARM/TopFarm2.git"
            ]
        },
        {
            "cell_type": "markdown",
            "metadata": {
                "id": "TbtAki7QSZG4"
            },
            "source": [
                "## Import section"
            ]
        },
        {
            "cell_type": "code",
            "execution_count": 16,
            "metadata": {
                "executionInfo": {
                    "elapsed": 244,
                    "status": "ok",
                    "timestamp": 1623708396211,
                    "user": {
                        "displayName": "Mikkel Friis-M\u00f8ller",
                        "photoUrl": "https://lh3.googleusercontent.com/a-/AOh14GiVrnxS0oNYcvEfwYdFjWYAU5G0YxLXELnknXMi=s64",
                        "userId": "10444369613733539918"
                    },
                    "user_tz": -120
                },
                "id": "5YqUNim5R3JG"
            },
            "outputs": [],
            "source": [
                "import numpy as np\n",
                "from numpy import newaxis as na\n",
                "import time\n",
                "\n",
                "from topfarm.cost_models.cost_model_wrappers import AEPMaxLoadCostModelComponent\n",
                "from topfarm.easy_drivers import EasyScipyOptimizeDriver\n",
                "from topfarm import TopFarmProblem\n",
                "from topfarm.plotting import NoPlot\n",
                "from topfarm.constraint_components.boundary import XYBoundaryConstraint\n",
                "from topfarm.constraint_components.spacing import SpacingConstraint\n",
                "\n",
                "from py_wake.examples.data.lillgrund import LillgrundSite\n",
                "from py_wake.deficit_models.gaussian import IEA37SimpleBastankhahGaussian, NiayifarGaussian\n",
                "from py_wake.turbulence_models.stf import STF2017TurbulenceModel\n",
                "from py_wake.examples.data.iea34_130rwt import IEA34_130_1WT_Surrogate \n",
                "from py_wake.superposition_models import MaxSum\n",
                "from py_wake.wind_turbines.power_ct_functions import SimpleYawModel"
            ]
        },
        {
            "cell_type": "markdown",
            "metadata": {
                "id": "WjnaXixxSdZL"
            },
            "source": [
                "## Select site, turbines, wake model and additional models and set up PyWake objects"
            ]
        },
        {
            "cell_type": "code",
            "execution_count": 4,
            "metadata": {
                "executionInfo": {
                    "elapsed": 1294,
                    "status": "ok",
                    "timestamp": 1623707974928,
                    "user": {
                        "displayName": "Mikkel Friis-M\u00f8ller",
                        "photoUrl": "https://lh3.googleusercontent.com/a-/AOh14GiVrnxS0oNYcvEfwYdFjWYAU5G0YxLXELnknXMi=s64",
                        "userId": "10444369613733539918"
                    },
                    "user_tz": -120
                },
                "id": "E-TFCSUSSt5e"
            },
            "outputs": [],
            "source": [
                "site = LillgrundSite()\n",
                "windTurbines = IEA34_130_1WT_Surrogate()\n",
                "wfm = IEA37SimpleBastankhahGaussian(site, windTurbines, turbulenceModel=STF2017TurbulenceModel(addedTurbulenceSuperpositionModel=MaxSum()))"
            ]
        },
        {
            "cell_type": "markdown",
            "metadata": {
                "id": "EL9C3JtZTNU_"
            },
            "source": [
                "## Choose flow cases \n",
                " (this will determine the speed and accuracy of the simulation). In this example we will focus on only a few flow cases."
            ]
        },
        {
            "cell_type": "code",
            "execution_count": 5,
            "metadata": {
                "executionInfo": {
                    "elapsed": 257,
                    "status": "ok",
                    "timestamp": 1623707977665,
                    "user": {
                        "displayName": "Mikkel Friis-M\u00f8ller",
                        "photoUrl": "https://lh3.googleusercontent.com/a-/AOh14GiVrnxS0oNYcvEfwYdFjWYAU5G0YxLXELnknXMi=s64",
                        "userId": "10444369613733539918"
                    },
                    "user_tz": -120
                },
                "id": "DyMkzkpAS2JC"
            },
            "outputs": [],
            "source": [
                "wsp = np.asarray([10, 15])\n",
                "wdir = np.arange(0,360,45)"
            ]
        },
        {
            "cell_type": "markdown",
            "metadata": {
                "id": "kC7blGu9h-hR"
            },
            "source": [
                "## Constrain loads\n",
                " In this example we will calculate nominal loads and use this as a basis for the load constraint."
            ]
        },
        {
            "cell_type": "code",
            "execution_count": 37,
            "metadata": {
                "executionInfo": {
                    "elapsed": 1584,
                    "status": "ok",
                    "timestamp": 1623709946254,
                    "user": {
                        "displayName": "Mikkel Friis-M\u00f8ller",
                        "photoUrl": "https://lh3.googleusercontent.com/a-/AOh14GiVrnxS0oNYcvEfwYdFjWYAU5G0YxLXELnknXMi=s64",
                        "userId": "10444369613733539918"
                    },
                    "user_tz": -120
                },
                "id": "hjG7faI1iZBh"
            },
            "outputs": [],
            "source": [
                "x, y = site.initial_position.T\n",
                "#keeping only every second turbine as lillegrund turbines are approx. half the size of the iea 3.4MW\n",
                "x = x[::2]\n",
                "y = y[::2]\n",
                "x_init = x\n",
                "y_init = y\n",
                "n_wt = x.size\n",
                "i = n_wt\n",
                "k = wsp.size\n",
                "l = wdir.size\n",
                "load_fact = 1.002\n",
                "simulationResult = wfm(x,y,wd=wdir, ws=wsp)\n",
                "nom_loads = simulationResult.loads('OneWT')['LDEL'].values\n",
                "max_loads = nom_loads * load_fact\n",
                "s = nom_loads.shape[0]\n",
                "load_signals = ['del_blade_flap', 'del_blade_edge', 'del_tower_bottom_fa',\n",
                "                'del_tower_bottom_ss', 'del_tower_top_torsion']"
            ]
        },
        {
            "cell_type": "markdown",
            "metadata": {
                "id": "0v7KeHZvinpG"
            },
            "source": [
                "## Configure the optimization\n",
                " this includes e.g. selection of maximum number of iterations, convergence tolerance, optimizer algorithm and design variable boundaries"
            ]
        },
        {
            "cell_type": "code",
            "execution_count": 38,
            "metadata": {
                "executionInfo": {
                    "elapsed": 235,
                    "status": "ok",
                    "timestamp": 1623709951830,
                    "user": {
                        "displayName": "Mikkel Friis-M\u00f8ller",
                        "photoUrl": "https://lh3.googleusercontent.com/a-/AOh14GiVrnxS0oNYcvEfwYdFjWYAU5G0YxLXELnknXMi=s64",
                        "userId": "10444369613733539918"
                    },
                    "user_tz": -120
                },
                "id": "VXXj960rjJt4"
            },
            "outputs": [],
            "source": [
                "maxiter = 5\n",
                "tol = 1e-8\n",
                "driver = EasyScipyOptimizeDriver(optimizer='SLSQP', maxiter=maxiter, tol=tol)\n",
                "ec = 1e-2\n",
                "step = 1e-4\n",
                "min_spacing = 260\n",
                "xi, xa = x_init.min()-min_spacing, x_init.max()+min_spacing\n",
                "yi, ya = y_init.min()-min_spacing, y_init.max()+min_spacing\n",
                "boundary = np.asarray([[xi, ya], [xa, ya], [xa, yi], [xi, yi]])"
            ]
        },
        {
            "cell_type": "markdown",
            "metadata": {
                "id": "mU8x9QQjjL-H"
            },
            "source": [
                "## Setup cost function"
            ]
        },
        {
            "cell_type": "code",
            "execution_count": 39,
            "metadata": {
                "executionInfo": {
                    "elapsed": 2,
                    "status": "ok",
                    "timestamp": 1623709952518,
                    "user": {
                        "displayName": "Mikkel Friis-M\u00f8ller",
                        "photoUrl": "https://lh3.googleusercontent.com/a-/AOh14GiVrnxS0oNYcvEfwYdFjWYAU5G0YxLXELnknXMi=s64",
                        "userId": "10444369613733539918"
                    },
                    "user_tz": -120
                },
                "id": "XXOT6g3PjRlY"
            },
            "outputs": [],
            "source": [
                "def aep_load_func(x, y):\n",
                "    simres = wfm(x, y, wd=wdir, ws=wsp)\n",
                "    aep = simres.aep().sum()\n",
                "    loads = simres.loads('OneWT')['LDEL'].values\n",
                "    return aep, loads"
            ]
        },
        {
            "cell_type": "markdown",
            "metadata": {
                "id": "S3Eq4hVNjWai"
            },
            "source": [
                "## Setup gradient function\n",
                " In this example we will rely on the automatic finite difference, so no need to specify gradients"
            ]
        },
        {
            "cell_type": "markdown",
            "metadata": {
                "id": "TfbCb-z2j6nd"
            },
            "source": [
                "## Wrap your pure python cost and gradient functions in a topfarm component"
            ]
        },
        {
            "cell_type": "code",
            "execution_count": 40,
            "metadata": {
                "executionInfo": {
                    "elapsed": 360,
                    "status": "ok",
                    "timestamp": 1623709954013,
                    "user": {
                        "displayName": "Mikkel Friis-M\u00f8ller",
                        "photoUrl": "https://lh3.googleusercontent.com/a-/AOh14GiVrnxS0oNYcvEfwYdFjWYAU5G0YxLXELnknXMi=s64",
                        "userId": "10444369613733539918"
                    },
                    "user_tz": -120
                },
                "id": "5nqGrkbukCfd"
            },
            "outputs": [],
            "source": [
                "cost_comp = AEPMaxLoadCostModelComponent(input_keys=[('x', x_init),('y', y_init)],\n",
                "                                          n_wt = n_wt,\n",
                "                                          aep_load_function = aep_load_func,\n",
                "                                          max_loads = max_loads, \n",
                "                                          objective=True,\n",
                "                                          step={'x': step, 'y': step},\n",
                "                                          output_keys=[('AEP', 0), ('loads', np.zeros((s, i)))]\n",
                "                                          )"
            ]
        },
        {
            "cell_type": "markdown",
            "metadata": {
                "id": "uw1IhQi1kDzb"
            },
            "source": [
                "## Set up the TopFarm problem"
            ]
        },
        {
            "cell_type": "code",
            "execution_count": 41,
            "metadata": {
                "executionInfo": {
                    "elapsed": 240,
                    "status": "ok",
                    "timestamp": 1623709956100,
                    "user": {
                        "displayName": "Mikkel Friis-M\u00f8ller",
                        "photoUrl": "https://lh3.googleusercontent.com/a-/AOh14GiVrnxS0oNYcvEfwYdFjWYAU5G0YxLXELnknXMi=s64",
                        "userId": "10444369613733539918"
                    },
                    "user_tz": -120
                },
                "id": "N_3ydRZdkOFL"
            },
            "outputs": [],
            "source": [
                "problem = TopFarmProblem(design_vars={'x': x_init, 'y': y_init},\n",
                "                        constraints=[XYBoundaryConstraint(boundary),\n",
                "                                     SpacingConstraint(min_spacing)],\n",
                "                          cost_comp=cost_comp,\n",
                "                          driver=driver,\n",
                "                          plot_comp=NoPlot(),\n",
                "                          expected_cost=ec)"
            ]
        },
        {
            "cell_type": "markdown",
            "metadata": {
                "id": "Jt_GXqoHkV_W"
            },
            "source": [
                "## Optimize"
            ]
        },
        {
            "cell_type": "code",
            "execution_count": 42,
            "metadata": {
                "colab": {
                    "base_uri": "https://localhost:8080/"
                },
                "executionInfo": {
                    "elapsed": 398160,
                    "status": "ok",
                    "timestamp": 1623710355821,
                    "user": {
                        "displayName": "Mikkel Friis-M\u00f8ller",
                        "photoUrl": "https://lh3.googleusercontent.com/a-/AOh14GiVrnxS0oNYcvEfwYdFjWYAU5G0YxLXELnknXMi=s64",
                        "userId": "10444369613733539918"
                    },
                    "user_tz": -120
                },
                "id": "kOQhnRLUSGIz",
                "outputId": "1ef8833f-41cb-48f9-c72c-a7c04c9a7376"
            },
            "outputs": [
                {
                    "name": "stdout",
                    "output_type": "stream",
                    "text": [
                        "Iteration limit exceeded    (Exit mode 9)\n",
                        "            Current function value: -36978.307022695444\n",
                        "            Iterations: 6\n",
                        "            Function evaluations: 6\n",
                        "            Gradient evaluations: 6\n",
                        "Optimization FAILED.\n",
                        "Iteration limit exceeded\n",
                        "-----------------------------------\n"
                    ]
                }
            ],
            "source": [
                "cost, state, recorder = problem.optimize()"
            ]
        },
        {
            "cell_type": "markdown",
            "metadata": {
                "id": "vZecAwKRh0QK"
            },
            "source": [
                "## Plot results\n",
                " Try to run the commands below to watch the resulting wake map for different flow cases"
            ]
        },
        {
            "cell_type": "code",
            "execution_count": 45,
            "metadata": {
                "colab": {
                    "base_uri": "https://localhost:8080/",
                    "height": 283
                },
                "executionInfo": {
                    "elapsed": 269,
                    "status": "ok",
                    "timestamp": 1623710386579,
                    "user": {
                        "displayName": "Mikkel Friis-M\u00f8ller",
                        "photoUrl": "https://lh3.googleusercontent.com/a-/AOh14GiVrnxS0oNYcvEfwYdFjWYAU5G0YxLXELnknXMi=s64",
                        "userId": "10444369613733539918"
                    },
                    "user_tz": -120
                },
                "id": "miJIu_aMtvwy",
                "outputId": "60fd88b8-a1ca-4b83-d395-a72cd5a13bd8"
            },
            "outputs": [
                {
                    "data": {
                        "text/plain": [
                            "[<matplotlib.lines.Line2D at 0x7f330e4166d0>]"
                        ]
                    },
                    "execution_count": 45,
                    "metadata": {
                        "tags": []
                    },
                    "output_type": "execute_result"
                },
                {
                    "data": {
                        "image/png": "[encoded data removed]",
                        "text/plain": [
                            "<Figure size 432x288 with 1 Axes>"
                        ]
                    },
                    "metadata": {
                        "needs_background": "light",
                        "tags": []
                    },
                    "output_type": "display_data"
                }
            ],
            "source": [
                "# import matplotlib.pyplot as plt\n",
                "# plt.plot(recorder['AEP'])"
            ]
        },
        {
            "cell_type": "code",
            "execution_count": 46,
            "metadata": {
                "colab": {
                    "base_uri": "https://localhost:8080/",
                    "height": 1000
                },
                "executionInfo": {
                    "elapsed": 1248,
                    "status": "ok",
                    "timestamp": 1623710388991,
                    "user": {
                        "displayName": "Mikkel Friis-M\u00f8ller",
                        "photoUrl": "https://lh3.googleusercontent.com/a-/AOh14GiVrnxS0oNYcvEfwYdFjWYAU5G0YxLXELnknXMi=s64",
                        "userId": "10444369613733539918"
                    },
                    "user_tz": -120
                },
                "id": "ByIaS1WJ7C2T",
                "outputId": "1e6f6299-af70-4b21-fa8a-98ce810373e1"
            },
            "outputs": [
                {
                    "data": {
                        "image/png": "[encoded data removed]",
                        "text/plain": [
                            "<Figure size 432x288 with 1 Axes>"
                        ]
                    },
                    "metadata": {
                        "needs_background": "light",
                        "tags": []
                    },
                    "output_type": "display_data"
                },
                {
                    "data": {
                        "image/png": "[encoded data removed]",
                        "text/plain": [
                            "<Figure size 432x288 with 1 Axes>"
                        ]
                    },
                    "metadata": {
                        "needs_background": "light",
                        "tags": []
                    },
                    "output_type": "display_data"
                },
                {
                    "data": {
                        "image/png": "[encoded data removed]",
                        "text/plain": [
                            "<Figure size 432x288 with 1 Axes>"
                        ]
                    },
                    "metadata": {
                        "needs_background": "light",
                        "tags": []
                    },
                    "output_type": "display_data"
                },
                {
                    "data": {
                        "image/png": "[encoded data removed]",
                        "text/plain": [
                            "<Figure size 432x288 with 1 Axes>"
                        ]
                    },
                    "metadata": {
                        "needs_background": "light",
                        "tags": []
                    },
                    "output_type": "display_data"
                },
                {
                    "data": {
                        "image/png": "[encoded data removed]",
                        "text/plain": [
                            "<Figure size 432x288 with 1 Axes>"
                        ]
                    },
                    "metadata": {
                        "needs_background": "light",
                        "tags": []
                    },
                    "output_type": "display_data"
                }
            ],
            "source": [
                "# n_i = recorder['counter'].size\n",
                "# loads = recorder['loads'].reshape((n_i,s,n_wt))\n",
                "# wt = 0\n",
                "# for n, ls in enumerate(load_signals):\n",
                "#   plt.plot(loads[:,n,wt])\n",
                "#   plt.title(ls+f' turbine {wt}')\n",
                "#   plt.plot([0, n_i], [max_loads[n, wt], max_loads[n, wt]])\n",
                "#   plt.show()"
            ]
        }
    ],
    "metadata": {
        "colab": {
            "name": "layout_and_loads.ipynb",
            "provenance": []
        },
        "kernelspec": {
            "display_name": "Python 3",
            "language": "python",
            "name": "python3"
        },
        "language_info": {
            "codemirror_mode": {
                "name": "ipython",
                "version": 3
            },
            "file_extension": ".py",
            "mimetype": "text/x-python",
            "name": "python",
            "nbconvert_exporter": "python",
            "pygments_lexer": "ipython3",
            "version": "3.9.5"
        }
    },
    "nbformat": 4,
    "nbformat_minor": 1
}