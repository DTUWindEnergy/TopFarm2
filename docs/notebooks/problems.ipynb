{
 "cells": [
  {
   "cell_type": "markdown",
   "metadata": {},
   "source": [
    "# Problems"
   ]
  },
  {
   "cell_type": "markdown",
   "metadata": {},
   "source": [
    "[Try this yourself](https://colab.research.google.com/github/DTUWindEnergy/TopFarm2/blob/master/docs/notebooks/problems.ipynb) (requires google account)\n"
   ]
  },
  {
   "cell_type": "markdown",
   "metadata": {},
   "source": [
    "In TOPFARM the problem is the collection/container of components and drivers. Optimizing a problem is executing a workflow - finding the best feasible solution under a series of constraints using a specific driver and initial conditions. To the problem is also attached a plotting routine so one can follow the optimization path as well as a recorder so that intermediate variable values are accessible after the optimization is finished.\n",
    "\n",
    "The `TopfarmProblem` inherits its fundamental nature from the OpenMDAO problem, and is being adapted so it can connect the given workflow with the driver. For example, if the user specifies a boundary constraint and this is not supported by the driver, the Problem is equipped with a penalty component that will deter the driver giving unfeasible solutions. Or if your workflow does not have gradients for all components and a gradient based driver is specified, finite differencing is applied to obtain the gradients.\n",
    "\n",
    "The `TopFarmProblem` is defined as a class, and it is comprised of the following elements:\n",
    "\n",
    "    def __init__(self, design_vars, cost_comp=None, driver=EasyScipyOptimizeDriver(),\n",
    "                 constraints=[], plot_comp=NoPlot(), record_id=None,\n",
    "                 expected_cost=1, ext_vars={}, post_constraints=[], approx_totals=False,\n",
    "                 recorder=None, additional_recorders=None,\n",
    "                 n_wt=0, grid_layout_comp=None):\n",
    "\n",
    "It takes the design variables, cost model component, driver and constraints as the most important parameters. In addition, it has a feature to visualize the optimization with a plotting component, and the use of additional constraints (for example, fatigue loading) can be specified with the **post_constraints** option. The latest development also allows the user to have a regular wind farm layout instead of irregular and individual position of turbines during a layout optimization. To do this, use the **grid_layout_comp**."
   ]
  },
  {
   "cell_type": "markdown",
   "metadata": {},
   "source": [
    "Before working on the notebook exercises, make sure that you import or install TOPFARM on your newly created environment."
   ]
  },
  {
   "cell_type": "code",
   "execution_count": null,
   "metadata": {},
   "outputs": [],
   "source": [
    "# Install TopFarm if needed\n",
    "import importlib\n",
    "if not importlib.util.find_spec(\"topfarm\"):\n",
    "    !pip install git+https://gitlab.windenergy.dtu.dk/TOPFARM/TopFarm2.git"
   ]
  },
  {
   "cell_type": "markdown",
   "metadata": {},
   "source": [
    "**Import supporting libraries in Python**"
   ]
  },
  {
   "cell_type": "code",
   "execution_count": null,
   "metadata": {},
   "outputs": [],
   "source": [
    "import numpy as np\n",
    "import matplotlib.pyplot as plt "
   ]
  },
  {
   "cell_type": "markdown",
   "metadata": {},
   "source": [
    "**Next we import and initialize several functions and classes from TOPFARM to set up the problem including:**\n",
    "\n",
    "- **TopFarmProblem**. Overall topfarm problem class to which the objectives, design variables, and constraints are added\n",
    "- **EasyScipyOptimizeDriver**. A subclass of ScipyOptimizeDriver which is configured for the given workflow\n",
    "- **get_iea37_initial, get_iea37_constraints, get_iea37_cost**. Functions to get the initial layout, the constraints and the cost function for the IEA task 37 benchmark example\n",
    "- **NoPlot, XYPlotComp**. Plotting components to visualize the results"
   ]
  },
  {
   "cell_type": "code",
   "execution_count": null,
   "metadata": {},
   "outputs": [],
   "source": [
    "from topfarm import TopFarmProblem\n",
    "from topfarm.easy_drivers import EasyScipyOptimizeDriver\n",
    "from topfarm.examples.iea37 import get_iea37_initial, get_iea37_constraints, get_iea37_cost\n",
    "from topfarm.plotting import NoPlot, XYPlotComp"
   ]
  },
  {
   "cell_type": "markdown",
   "metadata": {},
   "source": [
    "## Turbine location optimization - Example 1\n",
    "\n",
    "This example optimizes the locations of the 9-turbine benchmark wind farm from IEA Task 37 using the provided initial locations and the `EasyScipyOptimizeDriver`. Details on the benchmark can be found in the following reference:  \n",
    "\n",
    "- Baker et al. (2019) \"Best Practices for Wake Model and Optimization Algorithm Selection in Wind Farm Layout Optimization\". AIAA 2019.\n",
    "\n",
    "First we set up the number of turbines and initial positions."
   ]
  },
  {
   "cell_type": "code",
   "execution_count": null,
   "metadata": {},
   "outputs": [],
   "source": [
    "n_wt = 9          #valid number of turbines are: 9, 16, 36, 64\n",
    "x, y = get_iea37_initial(n_wt).T"
   ]
  },
  {
   "cell_type": "markdown",
   "metadata": {},
   "source": [
    "Now we import from PyWake the wake model, wind turbine and site objects to define our objective function, which is represented by the AEP (see https://topfarm.pages.windenergy.dtu.dk/PyWake/index.html for more information)."
   ]
  },
  {
   "cell_type": "code",
   "execution_count": null,
   "metadata": {},
   "outputs": [],
   "source": [
    "from py_wake.deficit_models.gaussian import IEA37SimpleBastankhahGaussian   #wake model\n",
    "from py_wake.examples.data.iea37 import IEA37_WindTurbines, IEA37Site       #wind turbines and site used\n",
    "\n",
    "site = IEA37Site(n_wt)\n",
    "wind_turbines = IEA37_WindTurbines()\n",
    "\n",
    "wake_model = IEA37SimpleBastankhahGaussian(site, wind_turbines)\n",
    "wd = np.linspace(0., 360., 16, endpoint=False)                              #number of wind directions to study\n",
    "\n",
    "#objective function\n",
    "def aep_func(x,y,wd=wd):\n",
    "    sim_res = wake_model(x,y, wd=wd)\n",
    "    aep = sim_res.aep().sum()\n",
    "    return aep"
   ]
  },
  {
   "cell_type": "markdown",
   "metadata": {},
   "source": [
    "Then we set up the `CostModelComponent` that will be used for the optimization as well as the constraints of the problem.\n",
    "\n",
    "The cost model component is defined as:\n",
    "\n",
    "    def __init__(self, input_keys, n_wt, cost_function, cost_gradient_function=None,\n",
    "                 output_keys=[\"Cost\"], output_unit=\"\", additional_input=[], additional_output=[], max_eval=None,\n",
    "                 objective=True, maximize=False, output_vals=[0.0], input_units=[], step={}, use_penalty=True, **kwargs):\n",
    "\n",
    "where it takes the design variables as input keys and the objective function as the cost function. In addition, the gradient function can be specified when necessary. By default, the objective is set to True and the maximize to False, which treats the optimization as a minimization problem."
   ]
  },
  {
   "cell_type": "code",
   "execution_count": null,
   "metadata": {},
   "outputs": [],
   "source": [
    "from topfarm.cost_models.cost_model_wrappers import CostModelComponent\n",
    "\n",
    "constraint = get_iea37_constraints(n_wt)\n",
    "\n",
    "aep_comp = CostModelComponent(input_keys=['x','y'],\n",
    "                              n_wt=n_wt,\n",
    "                              cost_function=aep_func,\n",
    "                              output_keys=[('AEP', 0)],\n",
    "                              output_unit=\"GWh\",\n",
    "                              objective=True,\n",
    "                              maximize=True\n",
    "                             )"
   ]
  },
  {
   "cell_type": "markdown",
   "metadata": {},
   "source": [
    "Lastly, we set up the `TopFarmProblem` with the previously defined `CostModelComponents` and design variables x and y."
   ]
  },
  {
   "cell_type": "code",
   "execution_count": null,
   "metadata": {},
   "outputs": [],
   "source": [
    "problem = TopFarmProblem(design_vars={'x': x, 'y': y}, \n",
    "                          n_wt=n_wt,\n",
    "                          cost_comp=aep_comp,\n",
    "                          constraints=constraint,\n",
    "                          driver=EasyScipyOptimizeDriver(disp=False),\n",
    "                          plot_comp=XYPlotComp()\n",
    "                        )"
   ]
  },
  {
   "cell_type": "code",
   "execution_count": null,
   "metadata": {},
   "outputs": [],
   "source": [
    "_, state,_ = problem.optimize()"
   ]
  },
  {
   "cell_type": "code",
   "execution_count": null,
   "metadata": {},
   "outputs": [],
   "source": [
    "state"
   ]
  },
  {
   "cell_type": "markdown",
   "metadata": {},
   "source": [
    "## Turbine location optimization - Example 2"
   ]
  },
  {
   "cell_type": "markdown",
   "metadata": {},
   "source": [
    "Alternatively, we can use the `PyWakeAEPCostModelComponent` as the cost model for the optimization."
   ]
  },
  {
   "cell_type": "code",
   "execution_count": null,
   "metadata": {},
   "outputs": [],
   "source": [
    "from py_wake.deficit_models.gaussian import IEA37SimpleBastankhahGaussian   #wake model\n",
    "from py_wake.examples.data.iea37 import IEA37_WindTurbines, IEA37Site       #wind turbines and site used\n",
    "from topfarm.cost_models.py_wake_wrapper import PyWakeAEPCostModelComponent #cost model\n",
    "\n",
    "#creating a function to simulate the flow conditions of the IEA37 Site, specifying the desired number of turbines and wind directions\n",
    "def get_iea37_cost(n_wt=9, n_wd=16):\n",
    "    \n",
    "    \"\"\"Cost component that wraps the IEA 37 AEP calculator\"\"\"\n",
    "    wd = np.linspace(0., 360., n_wd, endpoint=False)\n",
    "    site = IEA37Site(n_wt)\n",
    "    wind_turbines = IEA37_WindTurbines()\n",
    "    wake_model = IEA37SimpleBastankhahGaussian(site, wind_turbines)    \n",
    "    \n",
    "    return PyWakeAEPCostModelComponent(wake_model, n_wt, wd=wd)"
   ]
  },
  {
   "cell_type": "markdown",
   "metadata": {},
   "source": [
    "Now we create a function that specifies the optimization problem, with the desired design variables, constraints, and driver."
   ]
  },
  {
   "cell_type": "code",
   "execution_count": null,
   "metadata": {},
   "outputs": [],
   "source": [
    "def optimize_iea37_locs(n_wt, n_wd, driver, state=None):\n",
    "    \"\"\"\n",
    "    Parameters\n",
    "    ----------\n",
    "    - n_wt: int\n",
    "        Number of wind turbines\n",
    "\n",
    "    - n_wd: int\n",
    "        Number of wind directions to consider for the AEP\n",
    "        \n",
    "    - driver: TopfarmDriver instance\n",
    "        The optimization algorithm to use\n",
    "        \n",
    "    - state: dict(x=[], y=[]) [default=None]\n",
    "        State to start from the optimization\n",
    "    \n",
    "    Returns\n",
    "    -------\n",
    "    - state: The state after the optimization\n",
    "\n",
    "    \"\"\"\n",
    "    \n",
    "    initial = get_iea37_initial(n_wt)\n",
    "    design_vars = dict(zip('xy', (initial[:, :2]).T))\n",
    "    \n",
    "    tf = TopFarmProblem(\n",
    "            design_vars,\n",
    "            get_iea37_cost(n_wt, n_wd=n_wd),\n",
    "            constraints=get_iea37_constraints(n_wt),\n",
    "            driver=driver,\n",
    "            plot_comp=XYPlotComp())\n",
    "    \n",
    "    if not state:\n",
    "        _, state = tf.evaluate()\n",
    "        \n",
    "    _, state, _ = tf.optimize(state)\n",
    "    return state, "
   ]
  },
  {
   "cell_type": "code",
   "execution_count": null,
   "metadata": {},
   "outputs": [],
   "source": [
    "state = optimize_iea37_locs(9, 16, EasyScipyOptimizeDriver(disp=False))"
   ]
  },
  {
   "cell_type": "markdown",
   "metadata": {},
   "source": [
    "We can see that the optimized AEP corresponds to 239.69 GWh and an improvement of 34.37% is found. However, these value is lower than the one reported in Baker et al. (2019) of 257.790 GWh.\n",
    "\n",
    "Moreover, the layout does not match the figures given in Appendix A in the same reference. This is due to the fact that the SLSQP optimizer was attracted to a local minimum. To find the global optimum, more advanced optimization procedures should be used. This benchmark is discussed in more detail in the validation report linked in TOPFARM's documentation.\n",
    "\n",
    "To obtain the final turbine positions that correspond to the optimum AEP found, we need to call the state object."
   ]
  },
  {
   "cell_type": "code",
   "execution_count": null,
   "metadata": {},
   "outputs": [],
   "source": [
    "state"
   ]
  }
 ],
 "metadata": {
  "language_info": {
   "codemirror_mode": {
    "name": "ipython",
    "version": 3
   },
   "file_extension": ".py",
   "mimetype": "text/x-python",
   "name": "python",
   "nbconvert_exporter": "python",
   "pygments_lexer": "ipython3"
  },
  "toc": {
   "base_numbering": 1,
   "nav_menu": {},
   "number_sections": true,
   "sideBar": true,
   "skip_h1_title": false,
   "title_cell": "Table of Contents",
   "title_sidebar": "Contents",
   "toc_cell": false,
   "toc_position": {},
   "toc_section_display": true,
   "toc_window_display": true
  }
 },
 "nbformat": 4,
 "nbformat_minor": 4
}
