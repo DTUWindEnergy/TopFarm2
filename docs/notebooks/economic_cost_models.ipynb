{
 "cells": [
  {
   "cell_type": "markdown",
   "metadata": {},
   "source": [
    "## Cost Models"
   ]
  },
  {
   "cell_type": "markdown",
   "metadata": {},
   "source": [
    "[Try this yourself](https://colab.research.google.com/github/DTUWindEnergy/TopFarm2/blob/master/docs/notebooks/cost_models.ipynb) (requires google account)\n"
   ]
  },
  {
   "cell_type": "markdown",
   "metadata": {},
   "source": [
    "TopFarm can plug into the DTU's costmodels package, containing a collection of economical cost models of wind turbines and wind farms. The package provides a convenient interface to compute common economical metrics which can be included as a objective function in the optimization. Moreover, additional user-defined cost models can easily be integrated in the TOPFARM optimization problems as well. Please see the documentation of the package in the [repository](https://gitlab.windenergy.dtu.dk/TOPFARM/costmodels)."
   ]
  },
  {
   "cell_type": "code",
   "execution_count": null,
   "metadata": {},
   "outputs": [],
   "source": [
    "# Install TopFarm if needed\n",
    "import importlib\n",
    "if not importlib.util.find_spec(\"topfarm\"):\n",
    "    !pip install git+https://gitlab.windenergy.dtu.dk/TOPFARM/TopFarm2.git"
   ]
  },
  {
   "cell_type": "code",
   "execution_count": null,
   "metadata": {},
   "outputs": [],
   "source": [
    "import numpy as np\n",
    "from costmodels.finance import Product, Technology\n",
    "from costmodels.models import DTUOffshoreCostModel\n",
    "from costmodels.models import BatteryCostModel\n",
    "from costmodels.project import Project\n",
    "from py_wake.deficit_models.gaussian import IEA37SimpleBastankhahGaussian\n",
    "from py_wake.examples.data.iea37._iea37 import IEA37_WindTurbines, IEA37Site\n",
    "\n",
    "from topfarm import TopFarmGroup, TopFarmProblem\n",
    "from topfarm.constraint_components.boundary import CircleBoundaryConstraint\n",
    "from topfarm.constraint_components.spacing import SpacingConstraint\n",
    "from topfarm.cost_models.cost_model_wrappers import CostModelComponent\n",
    "from topfarm.drivers.random_search_driver import RandomizeTurbinePosition_Circle\n",
    "from topfarm.cost_models.economic_models.finance_wrapper import (\n",
    "    OffshoreWindPlantFinanceWrapper,\n",
    ")\n",
    "from topfarm.easy_drivers import (\n",
    "    EasyRandomSearchDriver,\n",
    "    EasyScipyOptimizeDriver,\n",
    "    EasySimpleGADriver,\n",
    "    ScipyOptimizeDriver,\n",
    ")\n",
    "from topfarm.plotting import NoPlot, XYPlotComp"
   ]
  },
  {
   "cell_type": "markdown",
   "metadata": {},
   "source": [
    "**Set up plotting capability**"
   ]
  },
  {
   "cell_type": "code",
   "execution_count": null,
   "metadata": {},
   "outputs": [],
   "source": [
    "try:\n",
    "    import matplotlib.pyplot as plt\n",
    "    plt.gcf()\n",
    "    plot_comp = XYPlotComp()\n",
    "    plot = True\n",
    "except RuntimeError:\n",
    "    plot_comp = NoPlot()\n",
    "    plot = False"
   ]
  },
  {
   "cell_type": "markdown",
   "metadata": {},
   "source": [
    "**Set up IEA Wind Task 37 case study site with 16 turbines.**"
   ]
  },
  {
   "cell_type": "code",
   "execution_count": null,
   "metadata": {},
   "outputs": [],
   "source": [
    "n_wt = 16 # number of wind turbines\n",
    "site = IEA37Site(n_wt) # site is the IEA Wind Task 37 site with a circle boundary\n",
    "windTurbines = IEA37_WindTurbines() # wind turbines are the IEA Wind Task 37 3.4 MW reference turbine\n",
    "wake_model = IEA37SimpleBastankhahGaussian(site, windTurbines) # select the Gaussian wake model\n",
    "\n",
    "# vectors for turbine properties: diameter, rated power and hub height. these are inputs to the cost model\n",
    "Drotor_vector = [windTurbines.diameter()] * n_wt \n",
    "power_rated_vector = [float(windTurbines.power(20)/1000)] * n_wt \n",
    "hub_height_vector = [windTurbines.hub_height()] * n_wt "
   ]
  },
  {
   "cell_type": "markdown",
   "metadata": {},
   "source": [
    "**Setup cost model with DTU Offshore cost model case. Starting with bathymetry of the site**"
   ]
  },
  {
   "cell_type": "code",
   "execution_count": null,
   "metadata": {},
   "outputs": [],
   "source": [
    "# Bathymetry grid\n",
    "from topfarm.examples.bathymetry_ficticio import (\n",
    "    get_bathymetry_func_circle,\n",
    "    plot_bathymetry_circle,\n",
    ")\n",
    "\n",
    "RADIUS = 1300.1\n",
    "f = get_bathymetry_func_circle(\n",
    "    sigma=RADIUS, mu=0.0, x_peak_1=0, y_peak_1=1000, x_peak_2=3000, y_peak_2=300\n",
    ")\n",
    "plot_bathymetry_circle(f, RADIUS)\n",
    "\n",
    "\n",
    "# Water depth function\n",
    "def water_depth_func(x, y, **kwargs):\n",
    "    xnew, ynew = np.meshgrid(x, y)\n",
    "    points = np.array([xnew.flatten(), ynew.flatten()]).T\n",
    "    return -np.diag(f(points).reshape(n_wt, n_wt).T)"
   ]
  },
  {
   "cell_type": "markdown",
   "metadata": {},
   "source": [
    "**Setup economic model based on water depth**\n",
    "\n",
    "For single technology offshore wind plants you can use the pre-confiugred economic component. Further down you can explore using the cost model package directly with the possibility to change the techno-economical models and add or change the technologies present in the plant by adding e.g. solar or batteries and change or add energy vectors like e.g. hydrogen."
   ]
  },
  {
   "cell_type": "code",
   "execution_count": null,
   "metadata": {},
   "outputs": [],
   "source": [
    "# Economic\n",
    "LIFETIME = 25\n",
    "el_price = np.random.uniform(0, 6, LIFETIME)  # time series\n",
    "el_price = 6  # fixed ppa price\n",
    "npv_comp = OffshoreWindPlantFinanceWrapper(windTurbines, n_wt, el_price, LIFETIME)\n",
    "cost_model = npv_comp.cost_model\n",
    "out = cost_model.run(aep=373206.64521435613, water_depth=20.0)\n",
    "print(out)"
   ]
  },
  {
   "cell_type": "markdown",
   "metadata": {},
   "source": [
    "**Set up functions for the AEP and cost calculations.**"
   ]
  },
  {
   "cell_type": "code",
   "execution_count": null,
   "metadata": {},
   "outputs": [],
   "source": [
    "# function for calculating aep as a function of x,y positions of the wind turbiens\n",
    "def aep_func(x, y, **kwargs):\n",
    "    return wake_model(x, y).aep().sum().values * 1e3"
   ]
  },
  {
   "cell_type": "markdown",
   "metadata": {},
   "source": [
    "**Now set up a problem to run an optimization using NPV as the objective function.**\n",
    "\n",
    "Note that the turbines are fixed so the main driver changing the NPV will be the AEP as the turbine positions change. Here you can select different drivers to see how the optimization result changes."
   ]
  },
  {
   "cell_type": "code",
   "execution_count": null,
   "metadata": {},
   "outputs": [],
   "source": [
    "# create an openmdao component for aep and NPV to add to the problem\n",
    "aep_comp = CostModelComponent(\n",
    "    input_keys=[\"x\", \"y\"],\n",
    "    n_wt=n_wt,\n",
    "    cost_function=aep_func,\n",
    "    output_keys=\"aep\",\n",
    "    output_unit=\"MWh\",\n",
    "    objective=False,\n",
    "    output_vals=0.0,\n",
    ")\n",
    "\n",
    "# Water Depth\n",
    "water_depth_component = CostModelComponent(\n",
    "    input_keys=[(\"x\", site.initial_position.T[0]), (\"y\", site.initial_position.T[1])],\n",
    "    n_wt=n_wt,\n",
    "    cost_function=water_depth_func,\n",
    "    objective=False,\n",
    "    output_keys=[(\"water_depth\", np.zeros(n_wt))],\n",
    ")\n",
    "\n",
    "# create a group for the aep and npv components that links their common input/output (aep)\n",
    "npv_group = TopFarmGroup([aep_comp, water_depth_component, npv_comp])\n",
    "\n",
    "# add the group to an optimization problem and specify the design variables (turbine positions),\n",
    "# cost function (npv_group), and constraints (circular boundary and spacing)\n",
    "problem = TopFarmProblem(\n",
    "    design_vars=dict(zip(\"xy\", site.initial_position.T)),\n",
    "    n_wt=n_wt,\n",
    "    cost_comp=npv_group,\n",
    "    # specify driver to use: SLSQP (gradient-based), random search (gradient-free), COBYLA (gradient-free), genetic algorithm, GA (gradient-free)\n",
    "    # driver=ScipyOptimizeDriver(optimizer=\"SLSQP\", maxiter=30, tol=1e-6, disp=True),\n",
    "    driver=EasyRandomSearchDriver(\n",
    "        randomize_func=RandomizeTurbinePosition_Circle(max_step=50), max_iter=50\n",
    "    ),\n",
    "    # driver=EasyScipyOptimizeDriver(optimizer='COBYLA', maxiter=200, tol=1e-6, disp=False),\n",
    "    # driver=EasySimpleGADriver(max_gen=100, pop_size=5, Pm=None, Pc=.5, elitism=True, bits={}),\n",
    "    constraints=[SpacingConstraint(200), CircleBoundaryConstraint([0, 0], RADIUS)],\n",
    "    plot_comp=plot_comp,\n",
    ")\n",
    "\n",
    "# assign data from optimizationn to a set of accessible variables and run the optimization\n",
    "cost, state, recorder = problem.optimize()"
   ]
  },
  {
   "cell_type": "code",
   "execution_count": null,
   "metadata": {},
   "outputs": [],
   "source": [
    "from topfarm.utils import plot_list_recorder\n",
    "plot_list_recorder(recorder)"
   ]
  },
  {
   "cell_type": "markdown",
   "metadata": {},
   "source": [
    "***Detailed Economic model***\n",
    "\n",
    "If you have a hybrid plant comprised of several technologies and/or energy vectors you can make a bespoke financial component"
   ]
  },
  {
   "cell_type": "code",
   "execution_count": null,
   "metadata": {},
   "outputs": [],
   "source": [
    "LIFETIME = 25\n",
    "cost_model = DTUOffshoreCostModel(\n",
    "    rated_power=windTurbines.power(20) / 1e6,\n",
    "    rotor_speed=10.0,\n",
    "    rotor_diameter=windTurbines.diameter(),\n",
    "    hub_height=windTurbines.hub_height(),\n",
    "    lifetime=LIFETIME,\n",
    "    capacity_factor=0.4,\n",
    "    nwt=n_wt,\n",
    ")\n",
    "\n",
    "wind_technology = Technology(\n",
    "    name=\"wind\",\n",
    "    lifetime=LIFETIME,\n",
    "    product=Product.SPOT_ELECTRICITY,\n",
    "    cost_model=cost_model,\n",
    ")\n",
    "\n",
    "battery_cost_model = BatteryCostModel(\n",
    "    battery_power=27.0,\n",
    "    battery_energy=108.0,\n",
    "    state_of_health=np.hstack(\n",
    "        [\n",
    "            -1.7e-6 * np.arange(1.8e5) + 1,\n",
    "            -2.5e-6 * np.arange(25 * 365 * 24 - 1.8e5) + 1,\n",
    "        ]\n",
    "    ).ravel(),\n",
    ")\n",
    "battery_technology = Technology(\n",
    "    name=\"battery\",\n",
    "    lifetime=LIFETIME,\n",
    "    cost_model=battery_cost_model,\n",
    ")\n",
    "\n",
    "wind_farm_project = Project(\n",
    "    technologies=[wind_technology, battery_technology],\n",
    "    product_prices={Product.SPOT_ELECTRICITY: np.random.uniform(0, 6, LIFETIME)},\n",
    ")\n",
    "\n",
    "\n",
    "def npv_func(aep, water_depth, **kwargs):\n",
    "    return np.asarray(\n",
    "        wind_farm_project.npv(\n",
    "            productions={\n",
    "                wind_technology.name: aep,\n",
    "            },\n",
    "            cost_model_args={\n",
    "                wind_technology.name: {\n",
    "                    \"water_depth\": water_depth,\n",
    "                    \"aep\": aep,\n",
    "                },\n",
    "            },\n",
    "        )\n",
    "    )\n",
    "\n",
    "\n",
    "def npv_grad_func(aep, water_depth, **kwargs):\n",
    "    grads = wind_farm_project.npv_grad(\n",
    "        productions={\n",
    "            wind_technology.name: aep,\n",
    "        },\n",
    "        cost_model_args={\n",
    "            wind_technology.name: {\n",
    "                \"water_depth\": water_depth,\n",
    "                \"aep\": aep,\n",
    "            },\n",
    "        },\n",
    "    )\n",
    "    prod_grad = grads[0][wind_technology.name]\n",
    "    water_depth_grad = grads[1][wind_technology.name][\"water_depth\"]\n",
    "    return np.asarray(prod_grad), np.asarray(water_depth_grad)\n"
   ]
  },
  {
   "cell_type": "code",
   "execution_count": null,
   "metadata": {},
   "outputs": [],
   "source": [
    "# # Economy\n",
    "npv_comp = CostModelComponent(\n",
    "    input_keys=[\n",
    "        (\"aep\", 0),\n",
    "        (\"water_depth\", 30 * np.ones(n_wt)),\n",
    "    ],\n",
    "    n_wt=n_wt,\n",
    "    cost_function=npv_func,\n",
    "    cost_gradient_function=npv_grad_func,\n",
    "    objective=True,\n",
    "    maximize=True,\n",
    "    output_keys=[(\"npv\", 0)],\n",
    "    output_unit=\"EUR\",\n",
    ")\n",
    "npv_group = TopFarmGroup([aep_comp, water_depth_component, npv_comp])\n",
    "\n",
    "# add the group to an optimization problem and specify the design variables (turbine positions),\n",
    "# cost function (npv_group), and constraints (circular boundary and spacing)\n",
    "problem = TopFarmProblem(\n",
    "    design_vars=dict(zip(\"xy\", site.initial_position.T)),\n",
    "    n_wt=n_wt,\n",
    "    cost_comp=npv_group,\n",
    "    # specify driver to use: SLSQP (gradient-based), random search (gradient-free), COBYLA (gradient-free), genetic algorithm, GA (gradient-free)\n",
    "    driver=ScipyOptimizeDriver(optimizer=\"SLSQP\", maxiter=30, tol=1e-6, disp=True),\n",
    "    # driver=EasyRandomSearchDriver(\n",
    "    #     randomize_func=RandomizeTurbinePosition_Circle(max_step=50), max_iter=50\n",
    "    # ),\n",
    "    # driver=EasyScipyOptimizeDriver(optimizer='COBYLA', maxiter=200, tol=1e-6, disp=False),\n",
    "    # driver=EasySimpleGADriver(max_gen=100, pop_size=5, Pm=None, Pc=.5, elitism=True, bits={}),\n",
    "    constraints=[SpacingConstraint(200), CircleBoundaryConstraint([0, 0], RADIUS)],\n",
    "    plot_comp=plot_comp,\n",
    ")\n",
    "\n",
    "# assign data from optimizationn to a set of accessible variables and run the optimization\n",
    "cost, state, recorder = problem.optimize()"
   ]
  },
  {
   "cell_type": "code",
   "execution_count": null,
   "metadata": {},
   "outputs": [],
   "source": [
    "plot_list_recorder(recorder)"
   ]
  },
  {
   "cell_type": "markdown",
   "metadata": {},
   "source": [
    "### Exercise\n",
    "\n",
    "Interpret results and see if you can improve the result by giving optimizer more iteration or change the driver in the topfarm problem above to see if an improved objective function can be obtained."
   ]
  },
  {
   "cell_type": "markdown",
   "metadata": {},
   "source": [
    "### Exercise\n",
    "\n",
    "Manipulate the DTU Offshore Cost Model instantiation inputs to see how this influences the optimal NPV found."
   ]
  }
 ],
 "metadata": {
  "language_info": {
   "codemirror_mode": {
    "name": "ipython",
    "version": 3
   },
   "file_extension": ".py",
   "mimetype": "text/x-python",
   "name": "python",
   "nbconvert_exporter": "python",
   "pygments_lexer": "ipython3"
  },
  "toc": {
   "base_numbering": 1,
   "nav_menu": {},
   "number_sections": true,
   "sideBar": true,
   "skip_h1_title": false,
   "title_cell": "Table of Contents",
   "title_sidebar": "Contents",
   "toc_cell": false,
   "toc_position": {},
   "toc_section_display": true,
   "toc_window_display": true
  }
 },
 "nbformat": 4,
 "nbformat_minor": 2
}
