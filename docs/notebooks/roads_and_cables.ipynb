{
 "cells": [
  {
   "cell_type": "markdown",
   "metadata": {},
   "source": [
    "# Roads and Cables"
   ]
  },
  {
   "cell_type": "markdown",
   "metadata": {},
   "source": [
    "[Try this yourself](https://colab.research.google.com/github/DTUWindEnergy/TopFarm2/blob/master/docs/notebooks/roads_and_cables.ipynb) (requires google account)\n"
   ]
  },
  {
   "cell_type": "markdown",
   "metadata": {},
   "source": [
    "In this example, a layout optimization with the Internal Rate of Return (IRR) as the objective function is performed. The cost of cables and electrical grid cable components are specified within the cost model to see how these are incorporated into the optimization and their influence on the results. Both the NREL and DTU cost model can be selected to perform the optimizations and analyze their differences."
   ]
  },
  {
   "cell_type": "markdown",
   "metadata": {},
   "source": [
    "**Install TOPFARM if needed**"
   ]
  },
  {
   "cell_type": "code",
   "execution_count": null,
   "metadata": {},
   "outputs": [],
   "source": [
    "# Install TopFarm if needed\n",
    "import importlib\n",
    "if not importlib.util.find_spec(\"topfarm\"):\n",
    "    !pip install git+https://gitlab.windenergy.dtu.dk/TOPFARM/TopFarm2.git"
   ]
  },
  {
   "cell_type": "markdown",
   "metadata": {},
   "source": [
    "In colab, use the \"inline\" backend"
   ]
  },
  {
   "cell_type": "code",
   "execution_count": null,
   "metadata": {},
   "outputs": [],
   "source": [
    "# non-updating, inline plots\n",
    "%matplotlib inline\n",
    "import warnings\n",
    "warnings.filterwarnings('ignore')\n",
    "# ...or updating plots in new window\n",
    "#%matplotlib qt"
   ]
  },
  {
   "cell_type": "markdown",
   "metadata": {},
   "source": [
    "**First, let's import a few TOPFARM classes and basic Python elements**\n",
    "\n",
    "In addition the the common TOPFARM elements such as the `CostModelComponent`, `TopFarmProblem`, optimization driver and constraints, here we are importing some electrical components that will calculate the influence of cabling costs in the optimization.\n",
    "\n",
    "**ElNetCost** will calculate the cost associated to the electrical connection in the wind farm, considering the cost per meter cable used. This cost will serve as input to the IRR calculation alongside the AEP of the wind farm, to obtain the total IRR when cabling is added to the optimization problem."
   ]
  },
  {
   "cell_type": "code",
   "execution_count": null,
   "metadata": {},
   "outputs": [],
   "source": [
    "import numpy as np\n",
    "import matplotlib.pylab as plt\n",
    "\n",
    "from topfarm.cost_models.cost_model_wrappers import CostModelComponent\n",
    "from topfarm import TopFarmGroup, TopFarmProblem\n",
    "from topfarm.easy_drivers import EasyRandomSearchDriver, EasyScipyOptimizeDriver\n",
    "from topfarm.drivers.random_search_driver import RandomizeTurbinePosition_Circle\n",
    "from topfarm.constraint_components.spacing import SpacingConstraint\n",
    "from topfarm.constraint_components.boundary import XYBoundaryConstraint\n",
    "from topfarm.cost_models.electrical.simple_msp import ElNetLength, ElNetCost, XYCablePlotComp\n",
    "from topfarm.cost_models.utils.spanning_tree import mst\n",
    "\n",
    "#classes to define the site to use\n",
    "from py_wake.site import UniformWeibullSite\n",
    "from py_wake.site.shear import PowerShear"
   ]
  },
  {
   "cell_type": "markdown",
   "metadata": {},
   "source": [
    "We create a function to set up the site wind speed conditions and the turbines' initial positions. Since the **UniformWeibullSite** will be used, which describes a site with uniform and Weibull distributed wind speed. Some key parameters must be specified: \n",
    "\n",
    "- the probability of wind direction sector, f\n",
    "- the Weibull shape parameter, k\n",
    "- the Weibull scale parameter, A\n",
    "\n",
    "In addition, the turbulence intensity and shear exponent are selected. "
   ]
  },
  {
   "cell_type": "code",
   "execution_count": null,
   "metadata": {},
   "outputs": [],
   "source": [
    "def get_site():\n",
    "    f = [0.035972, 0.039487, 0.051674, 0.070002, 0.083645, 0.064348,\n",
    "            0.086432, 0.117705, 0.151576, 0.147379, 0.10012, 0.05166]\n",
    "    A = [9.176929, 9.782334, 9.531809, 9.909545, 10.04269, 9.593921,\n",
    "        9.584007, 10.51499, 11.39895, 11.68746, 11.63732, 10.08803]\n",
    "    k = [2.392578, 2.447266, 2.412109, 2.591797, 2.755859, 2.595703,\n",
    "        2.583984, 2.548828, 2.470703, 2.607422, 2.626953, 2.326172]\n",
    "    ti = 0.001\n",
    "    h_ref = 100\n",
    "    alpha = .1\n",
    "    \n",
    "    site = UniformWeibullSite(f, A, k, ti, shear=PowerShear(h_ref=h_ref, alpha=alpha))\n",
    "    \n",
    "    #setting up the initial turbine positions\n",
    "    spacing = 2000\n",
    "    N = 5  #number of turbines per row\n",
    "    theta = 76  #inclination angle of turbines\n",
    "    dx = np.tan(np.radians(theta))\n",
    "    x = np.array([np.linspace(0,(N-1)*spacing,N)+i*spacing/dx for i in range(N)])\n",
    "    y = np.array(np.array([N*[i*spacing] for i in range(N)]))\n",
    "    initial_positions = np.column_stack((x.ravel(),y.ravel()))\n",
    "    eps = 2000\n",
    "    delta = 5\n",
    "    site.boundary = np.array([(0-delta, 0-delta),\n",
    "                        ((N-1)*spacing+eps, 0-delta),\n",
    "                        ((N-1)*spacing*(1+1/dx)+eps*(1+np.cos(np.radians(theta))), (N-1)*spacing+eps*np.sin(np.radians(theta))-delta),\n",
    "                        ((N-1)*spacing/dx+eps*np.cos(np.radians(theta)), (N-1)*spacing+eps*np.sin(np.radians(theta)))])\n",
    "    site.initial_position = initial_positions\n",
    "    return site"
   ]
  },
  {
   "cell_type": "markdown",
   "metadata": {},
   "source": [
    "### Specifying the additional parameters needed for the cost models\n",
    "\n",
    "We will use the IEA-37 site and the DTU 10MW reference turbine as the wind turbine object. The diameter of the rotor, rated power, hub heights and rated rpm are specified as they correspond to the inputs for the two cost models."
   ]
  },
  {
   "cell_type": "code",
   "execution_count": null,
   "metadata": {},
   "outputs": [],
   "source": [
    "from py_wake.examples.data.dtu10mw import DTU10MW\n",
    "\n",
    "site = get_site()\n",
    "n_wt = len(site.initial_position)\n",
    "windTurbines = DTU10MW()\n",
    "Drotor_vector = [windTurbines.diameter()] * n_wt \n",
    "power_rated_vector = [float(windTurbines.power(20)/1000)] * n_wt \n",
    "hub_height_vector = [windTurbines.hub_height()] * n_wt \n",
    "rated_rpm_array = 12. * np.ones([n_wt])\n",
    "\n",
    "print('Number of turbines:', n_wt)"
   ]
  },
  {
   "cell_type": "markdown",
   "metadata": {},
   "source": [
    "Quickly plotting the site boundary and initial position"
   ]
  },
  {
   "cell_type": "code",
   "execution_count": null,
   "metadata": {},
   "outputs": [],
   "source": [
    "plt.plot(site.initial_position[:,0], site.initial_position[:,1], 'o')\n",
    "ind = list(range(len(site.boundary))) + [0]\n",
    "pt = plt.plot(site.boundary[ind,0], site.boundary[ind,1], '-')"
   ]
  },
  {
   "cell_type": "markdown",
   "metadata": {},
   "source": [
    "### Setting up the AEP calculator\n",
    "- Using the Gaussian wake model from [Bastankhah & Porte Agel](https://topfarm.pages.windenergy.dtu.dk/PyWake/notebooks/EngineeringWindFarmModels.html#BastankhahGaussianDeficit)\n",
    "- Based on 16 wind direction to speed things up (not critical here because we will be using the RandomSearch algorithm)"
   ]
  },
  {
   "cell_type": "code",
   "execution_count": null,
   "metadata": {},
   "outputs": [],
   "source": [
    "from py_wake.deficit_models.gaussian import IEA37SimpleBastankhahGaussian\n",
    "\n",
    "## We use the Gaussian wake model\n",
    "wake_model = IEA37SimpleBastankhahGaussian(site, windTurbines)\n",
    "\n",
    "## The AEP is calculated using n_wd wind directions\n",
    "n_wd = 16\n",
    "wind_directions = np.linspace(0., 360., n_wd, endpoint=False)\n",
    "\n",
    "def aep_func(x, y, **kwargs):\n",
    "    \"\"\"A simple function that takes as input the x,y position of the turbines and return the AEP per turbine\"\"\"\n",
    "    return wake_model(x=x, y=y, wd=wind_directions).aep().sum('wd').sum('ws').values*10**6"
   ]
  },
  {
   "cell_type": "code",
   "execution_count": null,
   "metadata": {},
   "outputs": [],
   "source": [
    "#individual AEP per turbine\n",
    "aep_func(site.initial_position[:,0], site.initial_position[:,1])"
   ]
  },
  {
   "cell_type": "markdown",
   "metadata": {},
   "source": [
    "### Setting up the NREL IRR cost model\n",
    "Based on the 2006 NREL report (https://www.nrel.gov/docs/fy07osti/40566.pdf)"
   ]
  },
  {
   "cell_type": "code",
   "execution_count": null,
   "metadata": {},
   "outputs": [],
   "source": [
    "from topfarm.cost_models.economic_models.turbine_cost import economic_evaluation as EE_NREL\n",
    "\n",
    "def irr_nrel(aep, electrical_connection_cost, **kwargs):\n",
    "    return EE_NREL(Drotor_vector, power_rated_vector, hub_height_vector, aep, electrical_connection_cost).calculate_irr()"
   ]
  },
  {
   "cell_type": "markdown",
   "metadata": {},
   "source": [
    "### Setting up the DTU IRR cost model\n",
    "Based on Witold's recent work"
   ]
  },
  {
   "cell_type": "code",
   "execution_count": null,
   "metadata": {},
   "outputs": [],
   "source": [
    "from topfarm.cost_models.economic_models.dtu_wind_cm_main import economic_evaluation as EE_DTU\n",
    "\n",
    "distance_from_shore = 10.0                               # [km]\n",
    "energy_price = 0.2 / 7.4                                 # [DKK/kWh] / [DKK/EUR] -> [EUR/kWh]\n",
    "project_duration = 20                                    # [years]\n",
    "water_depth_array = 20 * np.ones([n_wt])                 # [m]\n",
    "Power_rated_array = np.array(power_rated_vector)/1.0E3   # [MW]\n",
    "\n",
    "ee_dtu = EE_DTU(distance_from_shore, energy_price, project_duration)\n",
    "\n",
    "#setting up the IRR cost function\n",
    "def irr_dtu(aep, electrical_connection_cost, **kwargs):\n",
    "    ee_dtu.calculate_irr(\n",
    "                    rated_rpm_array, \n",
    "                    Drotor_vector, \n",
    "                    Power_rated_array,\n",
    "                    hub_height_vector, \n",
    "                    water_depth_array, \n",
    "                    aep, \n",
    "                    electrical_connection_cost)\n",
    "    return ee_dtu.IRR"
   ]
  },
  {
   "cell_type": "markdown",
   "metadata": {},
   "source": [
    "### Setting up the Topfarm problem"
   ]
  },
  {
   "cell_type": "code",
   "execution_count": null,
   "metadata": {},
   "outputs": [],
   "source": [
    "#specify minimum spacing between turbines\n",
    "min_spacing = 2 #@param {type:\"slider\", min:2, max:10, step:1}\n",
    "\n",
    "#specify the cable cost\n",
    "cable_cost_per_meter = 750. #@param {type:\"slider\", min:0, max:10000, step:1}\n",
    "\n",
    "# Electrical grid cable components (Minimum spanning tree from Topfarm report 2010)\n",
    "elnetlength = ElNetLength(n_wt=n_wt)\n",
    "elnetcost = ElNetCost(n_wt=n_wt, output_key='electrical_connection_cost', cost_per_meter=cable_cost_per_meter)\n",
    "\n",
    "# The Topfarm IRR cost model components\n",
    "irr_dtu_comp = CostModelComponent(input_keys=[('aep',np.zeros(n_wt)), ('electrical_connection_cost', 0.0)],\n",
    "                                  n_wt=n_wt, \n",
    "                                  cost_function=irr_dtu,\n",
    "                                  output_keys=\"irr\",\n",
    "                                  output_unit=\"%\",\n",
    "                                  objective=True, \n",
    "                                  maximize=True)\n",
    "\n",
    "irr_nrel_comp = CostModelComponent(input_keys=[('aep', np.zeros(n_wt)), ('electrical_connection_cost', 0.0)],\n",
    "                                   n_wt=n_wt, \n",
    "                                   cost_function=irr_nrel,\n",
    "                                   output_keys=\"irr\",\n",
    "                                   output_unit=\"%\",\n",
    "                                   objective=True, \n",
    "                                   maximize=True)\n",
    "\n",
    "## User-defined cost model\n",
    "irr_cost_models = {'DTU': irr_dtu_comp, 'NREL': irr_nrel_comp}\n",
    "\n",
    "#select which IRR cost model to use\n",
    "IRR_COST = 'DTU' #@param [\"DTU\", \"NREL\"]\n",
    "\n",
    "# The Topfarm AEP component, returns an array of AEP per turbine\n",
    "aep_comp = CostModelComponent(input_keys=['x','y'],\n",
    "                              n_wt=n_wt,\n",
    "                              cost_function=aep_func, \n",
    "                              output_keys=\"aep\",\n",
    "                              output_unit=\"GWh\",\n",
    "                              objective=False,\n",
    "                              output_vals=np.zeros(n_wt))\n",
    "\n",
    "# Plotting component\n",
    "plot_comp = XYCablePlotComp(memory=0, plot_improvements_only=False, plot_initial=False)\n",
    "\n",
    "# The group containing all the components\n",
    "group = TopFarmGroup([aep_comp, elnetlength, elnetcost, irr_cost_models[IRR_COST]])\n",
    "\n",
    "problem = TopFarmProblem(\n",
    "        design_vars={'x':site.initial_position[:,0],\n",
    "                     'y':site.initial_position[:,1]},\n",
    "        cost_comp=group,\n",
    "        n_wt = n_wt,\n",
    "        driver=EasyRandomSearchDriver(randomize_func=RandomizeTurbinePosition_Circle(), max_iter=30),\n",
    "        constraints=[SpacingConstraint(min_spacing * windTurbines.diameter(0)),\n",
    "                     XYBoundaryConstraint(site.boundary)],\n",
    "        expected_cost=1.0,\n",
    "        plot_comp=plot_comp)\n",
    "\n",
    "cost, state, recorder = problem.optimize()"
   ]
  },
  {
   "cell_type": "markdown",
   "metadata": {},
   "source": [
    "### Exercises\n",
    "\n",
    "- Try to see what is the effect of increasing or decreasing the cost of the cable\n",
    "- Change between IRR cost model. Ask Witold about the difference between DTU and NREL models"
   ]
  }
 ],
 "metadata": {
  "language_info": {
   "codemirror_mode": {
    "name": "ipython",
    "version": 3
   },
   "file_extension": ".py",
   "mimetype": "text/x-python",
   "name": "python",
   "nbconvert_exporter": "python",
   "pygments_lexer": "ipython3"
  }
 },
 "nbformat": 4,
 "nbformat_minor": 4
}
