{
    "cells": [
        {
            "cell_type": "markdown",
            "metadata": {},
            "source": [
                "# Roads and Cables"
            ]
        },
        {
            "cell_type": "markdown",
            "metadata": {},
            "source": [
                "[Try this yourself](https://colab.research.google.com/github/DTUWindEnergy/TopFarm2/blob/master/docs/notebooks/roads_and_cables.ipynb) (requires google account)\n"
            ]
        },
        {
            "cell_type": "code",
            "execution_count": 0,
            "metadata": {},
            "outputs": [],
            "source": [
                "%%capture\n",
                "# Install Topfarm if needed\n",
                "try:\n",
                "    import topfarm\n",
                "except ModuleNotFoundError:\n",
                "    !pip install topfarm\n"
            ]
        },
        {
            "cell_type": "code",
            "execution_count": 2,
            "metadata": {},
            "outputs": [],
            "source": [
                "%%capture\n",
                "try:\n",
                "    import w2l\n",
                "except:\n",
                "    !pip install --upgrade git+https://gitlab.windenergy.dtu.dk/TOPFARM/wind2loads.git    \n",
                "try:\n",
                "    import workshop\n",
                "except:\n",
                "    try:\n",
                "      !git clone https://gitlab.windenergy.dtu.dk/TOPFARM/workshop-december-2019.git\n",
                "    except:\n",
                "        pass\n",
                "    !pip install -e ./workshop-december-2019\n",
                "    import sys\n",
                "    sys.path.append('./workshop-december-2019')\n",
                "try:\n",
                "    import topfarm\n",
                "except:\n",
                "    !pip install topfarm\n",
                "import workshop\n",
                "import os\n",
                "workshop.w2l_path = 'workshop-december-2019\\workshop\\wind2loads_ann'"
            ]
        },
        {
            "cell_type": "markdown",
            "metadata": {},
            "source": [
                "In colab, use the \"inline\" backend"
            ]
        },
        {
            "cell_type": "code",
            "execution_count": 3,
            "metadata": {},
            "outputs": [],
            "source": [
                "# non-updating, inline plots\n",
                "%matplotlib inline\n",
                "# ...or updating plots in new window\n",
                "#%matplotlib qt"
            ]
        },
        {
            "cell_type": "markdown",
            "metadata": {},
            "source": [
                "Let's import a few classes"
            ]
        },
        {
            "cell_type": "code",
            "execution_count": 4,
            "metadata": {},
            "outputs": [],
            "source": [
                "# import workshop\n",
                "# workshop.cabling"
            ]
        },
        {
            "cell_type": "code",
            "execution_count": 5,
            "metadata": {},
            "outputs": [
                {
                    "name": "stderr",
                    "output_type": "stream",
                    "text": [
                        "C:\\ProgramData\\Anaconda3\\lib\\site-packages\\sklearn\\base.py:253: UserWarning: Trying to unpickle estimator MinMaxScaler from version 0.21.3 when using version 0.20.3. This might lead to breaking code or invalid results. Use at your own risk.\n",
                        "  UserWarning)\n"
                    ]
                }
            ],
            "source": [
                "import numpy as np\n",
                "from topfarm.cost_models.cost_model_wrappers import CostModelComponent\n",
                "from topfarm import TopFarmGroup, TopFarmProblem\n",
                "from topfarm.easy_drivers import EasyRandomSearchDriver, EasyScipyOptimizeDriver\n",
                "from topfarm.drivers.random_search_driver import RandomizeTurbinePosition_Circle\n",
                "from topfarm.constraint_components.spacing import SpacingConstraint\n",
                "from topfarm.constraint_components.boundary import XYBoundaryConstraint\n",
                "from topfarm.cost_models.electrical.simple_msp import ElNetLength, ElNetCost \n",
                "import matplotlib.pylab as plt\n",
                "\n",
                "# Convenient plot component for plotting the cables from simple_msp in jupyter notebooks\n",
                "from workshop.cabling import XYCablePlotComp\n",
                "import workshop.workflow as wf"
            ]
        },
        {
            "cell_type": "markdown",
            "metadata": {},
            "source": [
                "### Setting up the site to optimize\n",
                "We will use the IEA-37 site, using the DTU 10MW reference turbine"
            ]
        },
        {
            "cell_type": "code",
            "execution_count": 6,
            "metadata": {},
            "outputs": [
                {
                    "name": "stdout",
                    "output_type": "stream",
                    "text": [
                        "Number of turbines: 25\n"
                    ]
                }
            ],
            "source": [
                "# from workshop.cabling import get_site\n",
                "from py_wake.examples.data.DTU10MW_RWT import DTU10MW\n",
                "\n",
                "\n",
                "\n",
                "site = wf.site\n",
                "n_wt = len(site.initial_position)\n",
                "windTurbines = DTU10MW()\n",
                "Drotor_vector = [windTurbines.diameter()] * n_wt \n",
                "power_rated_vector = [float(windTurbines.power(20)/1000)] * n_wt \n",
                "hub_height_vector = [windTurbines.hub_height()] * n_wt \n",
                "rated_rpm_array = 12. * np.ones([n_wt])\n",
                "\n",
                "print('Number of turbines:', n_wt)"
            ]
        },
        {
            "cell_type": "markdown",
            "metadata": {},
            "source": [
                "### Setting up the AEP calculator\n",
                "- Using the Gaussian wake model from Bastankhah & Port\u00c3\u00a9 Agel\n",
                "- Based on 16 wind direction to speed things up (not critical here because we will be using the RandomSearch algorithm)"
            ]
        },
        {
            "cell_type": "code",
            "execution_count": 7,
            "metadata": {},
            "outputs": [],
            "source": [
                "from py_wake.wake_models.gaussian import IEA37SimpleBastankhahGaussian\n",
                "from py_wake.aep_calculator import AEPCalculator\n",
                "\n",
                "## We use the Gaussian wake model\n",
                "wake_model = IEA37SimpleBastankhahGaussian(site, windTurbines)\n",
                "AEPCalc = AEPCalculator(wake_model)\n",
                "\n",
                "## The AEP is calculated using n_wd wind directions\n",
                "n_wd = 16\n",
                "wind_directions = np.linspace(0., 360., n_wd, endpoint=False)\n",
                "\n",
                "def aep_func(x, y, **kwargs):\n",
                "    \"\"\"A simple function that takes as input the x,y position of the turbines and return the AEP\"\"\"\n",
                "    return AEPCalc.calculate_AEP(x_i=x, y_i=y, wd=wind_directions).sum(-1).sum(-1)*10**6"
            ]
        },
        {
            "cell_type": "markdown",
            "metadata": {},
            "source": [
                "### Setting up the NREL IRR cost model\n",
                "Based on the 2006 NREL report"
            ]
        },
        {
            "cell_type": "code",
            "execution_count": 8,
            "metadata": {},
            "outputs": [],
            "source": [
                "from topfarm.cost_models.economic_models.turbine_cost import economic_evaluation as EE_NREL\n",
                "\n",
                "def irr_nrel(aep, electrical_connection_cost, **kwargs):\n",
                "    return EE_NREL(Drotor_vector, power_rated_vector, hub_height_vector, aep, electrical_connection_cost).calculate_irr()\n"
            ]
        },
        {
            "cell_type": "markdown",
            "metadata": {},
            "source": [
                "### Setting up the DTU IRR cost model\n",
                "Based on Witold's recent work"
            ]
        },
        {
            "cell_type": "code",
            "execution_count": 9,
            "metadata": {},
            "outputs": [],
            "source": [
                "from topfarm.cost_models.economic_models.dtu_wind_cm_main import economic_evaluation as EE_DTU\n",
                "\n",
                "distance_from_shore = 10.0 # [km]\n",
                "energy_price = 0.2 / 7.4 # [DKK/kWh] / [DKK/EUR] -> [EUR/kWh]\n",
                "project_duration = 20 # [years]\n",
                "water_depth_array = 20 * np.ones([n_wt])\n",
                "Power_rated_array = np.array(power_rated_vector)/1.0E3 # [MW]\n",
                "\n",
                "ee_dtu = EE_DTU(distance_from_shore, energy_price, project_duration)\n",
                "\n",
                "\n",
                "def irr_dtu(aep, electrical_connection_cost, **kwargs):\n",
                "    ee_dtu.calculate_irr(\n",
                "                    rated_rpm_array, \n",
                "                    Drotor_vector, \n",
                "                    Power_rated_array,\n",
                "                    hub_height_vector, \n",
                "                    water_depth_array, \n",
                "                    aep, \n",
                "                    electrical_connection_cost)\n",
                "    return ee_dtu.IRR"
            ]
        },
        {
            "cell_type": "markdown",
            "metadata": {},
            "source": [
                "### Setting up the Topfarm problem"
            ]
        },
        {
            "cell_type": "code",
            "execution_count": null,
            "metadata": {},
            "outputs": [
                {
                    "data": {
                        "image/png": "[encoded data removed]",
                        "text/plain": [
                            "<Figure size 432x288 with 1 Axes>"
                        ]
                    },
                    "metadata": {
                        "needs_background": "light"
                    },
                    "output_type": "display_data"
                }
            ],
            "source": [
                "## Some user options\n",
                "#@markdown Which IRR Cost model to use\n",
                "IRR_COST = 'DTU' #@param [\"DTU\", \"NREL\"]\n",
                "\n",
                "#@markdown Minimum spacing between the turbines\n",
                "min_spacing = 2 #@param {type:\"slider\", min:2, max:10, step:1}\n",
                "\n",
                "#@markdown Minimum spacing between the turbines\n",
                "cable_cost_per_meter = 750. # {type:\"slider\", min:0, max:10000, step:1}\n",
                "\n",
                "## Electrical grid cable components (Minimum spanning tree from Topfarm report 2010)\n",
                "elnetlength = ElNetLength(n_wt=n_wt)\n",
                "elnetcost = ElNetCost(n_wt=n_wt, output_key='electrical_connection_cost', cost_per_meter=cable_cost_per_meter)\n",
                "\n",
                "# The Topfarm IRR cost model components\n",
                "irr_dtu_comp = CostModelComponent(input_keys=['aep', ('electrical_connection_cost', 0.0)],   n_wt=n_wt, \n",
                "                                  cost_function=irr_dtu, output_key=\"irr\", output_unit=\"%\",   objective=True, income_model=True)\n",
                "irr_nrel_comp = CostModelComponent(input_keys=['aep', ('electrical_connection_cost', 0.0)],   n_wt=n_wt, \n",
                "                                   cost_function=irr_nrel, output_key=\"irr\", output_unit=\"%\",   objective=True, income_model=True)\n",
                "irr_cost_models = {'DTU': irr_dtu_comp, 'NREL': irr_nrel_comp}\n",
                "\n",
                "\n",
                "## The Topfarm AEP component\n",
                "aep_comp = CostModelComponent(input_keys=['x','y'], n_wt=n_wt, cost_function=aep_func, \n",
                "                              output_key=\"aep\", output_unit=\"GWh\", objective=False, output_val=np.zeros(n_wt))\n",
                "\n",
                "## Plotting component\n",
                "plot_comp = XYCablePlotComp(memory=0, plot_improvements_only=False, plot_initial=False)\n",
                "\n",
                "\n",
                "## The group containing all the components\n",
                "group = TopFarmGroup([aep_comp, elnetlength, elnetcost, irr_cost_models[IRR_COST]])\n",
                "\n",
                "problem = TopFarmProblem(\n",
                "        design_vars=dict(zip('xy', site.initial_position.T)),\n",
                "        cost_comp=group,\n",
                "        driver=EasyRandomSearchDriver(randomize_func=RandomizeTurbinePosition_Circle(), max_iter=10),\n",
                "        constraints=[SpacingConstraint(min_spacing * windTurbines.diameter(0)),\n",
                "                     XYBoundaryConstraint(wf.boundary)],\n",
                "        expected_cost=1.0,\n",
                "        plot_comp=plot_comp)\n",
                "\n",
                "cost, state, recorder = problem.optimize()"
            ]
        },
        {
            "cell_type": "markdown",
            "metadata": {},
            "source": [
                "### Exercises\n",
                "- Try to see what is the effect of increasing or decreasing the cost of the cable\n",
                "- Change between IRR cost model. Ask Witold about the difference between DTU and NREL models"
            ]
        },
        {
            "cell_type": "code",
            "execution_count": null,
            "metadata": {},
            "outputs": [],
            "source": []
        }
    ],
    "metadata": {
        "kernelspec": {
            "display_name": "Python 3",
            "language": "python",
            "name": "python3"
        },
        "language_info": {
            "codemirror_mode": {
                "name": "ipython",
                "version": 3
            },
            "file_extension": ".py",
            "mimetype": "text/x-python",
            "name": "python",
            "nbconvert_exporter": "python",
            "pygments_lexer": "ipython3",
            "version": "3.6.7"
        }
    },
    "nbformat": 4,
    "nbformat_minor": 4
}