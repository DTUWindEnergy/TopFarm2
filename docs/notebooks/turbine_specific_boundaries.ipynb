{
 "cells": [
  {
   "cell_type": "markdown",
   "id": "0",
   "metadata": {},
   "source": [
    "# Optimization with turbine specific boundaries"
   ]
  },
  {
   "cell_type": "markdown",
   "id": "1",
   "metadata": {},
   "source": [
    "[Try this yourself](https://colab.research.google.com/github/DTUWindEnergy/TopFarm2/blob/master/docs/notebooks/turbine_specific_boundaries.ipynb) (requires google account)"
   ]
  },
  {
   "cell_type": "markdown",
   "id": "2",
   "metadata": {},
   "source": [
    "In this notebook it is demonstrated how to optimize a site with different turbines, where each turbine model has a specific set of constraints associated to it based on the geometry of the turbine. It could be e.g. that there is a specific requirement to how close to a residential area, river or road turbine placement is allowed which could be based on turbine hub height, tip height etc."
   ]
  },
  {
   "cell_type": "code",
   "execution_count": null,
   "id": "3",
   "metadata": {},
   "outputs": [],
   "source": [
    "# Install TopFarm if needed\n",
    "import importlib\n",
    "if not importlib.util.find_spec(\"topfarm\"):\n",
    "    !pip install git+https://gitlab.windenergy.dtu.dk/TOPFARM/TopFarm2.git"
   ]
  },
  {
   "cell_type": "code",
   "execution_count": null,
   "id": "4",
   "metadata": {},
   "outputs": [],
   "source": [
    "%%capture\n",
    "import numpy as np\n",
    "import matplotlib.pyplot as plt\n",
    "from topfarm.cost_models.cost_model_wrappers import CostModelComponent\n",
    "from topfarm.easy_drivers import EasyScipyOptimizeDriver\n",
    "from topfarm import TopFarmProblem\n",
    "from topfarm.plotting import XYPlotComp\n",
    "from topfarm.constraint_components.spacing import SpacingConstraint\n",
    "from topfarm.constraint_components.boundary import XYBoundaryConstraint\n",
    "from py_wake import BastankhahGaussian\n",
    "from py_wake.utils.gradients import autograd\n",
    "import topfarm\n",
    "from topfarm.constraint_components.boundary import TurbineSpecificBoundaryComp, InclusionZone, ExclusionZone\n",
    "from topfarm import TopFarmListRecorder\n",
    "from py_wake.wind_turbines import WindTurbines\n",
    "from py_wake.wind_turbines.power_ct_functions import CubePowerSimpleCt\n",
    "from shapely.geometry import Polygon, LineString\n",
    "from py_wake.examples.data.hornsrev1 import Hornsrev1Site"
   ]
  },
  {
   "cell_type": "markdown",
   "id": "5",
   "metadata": {},
   "source": [
    "## Wind turbine\n",
    "Uses the PyWake WindTurbines object"
   ]
  },
  {
   "cell_type": "code",
   "execution_count": null,
   "id": "6",
   "metadata": {},
   "outputs": [],
   "source": [
    "wts = WindTurbines(names=['tb1', 'tb2'],\n",
    "                   diameters=[80, 120],\n",
    "                   hub_heights=[70, 110],\n",
    "                   powerCtFunctions=[\n",
    "                       CubePowerSimpleCt(ws_cutin=3, ws_cutout=25, ws_rated=12,\n",
    "                                         power_rated=2000, power_unit='kW',\n",
    "                                         ct=8 / 9, additional_models=[]),\n",
    "                       CubePowerSimpleCt(ws_cutin=3, ws_cutout=25, ws_rated=12,\n",
    "                                         power_rated=3000, power_unit='kW',\n",
    "                                         ct=8 / 9, additional_models=[]),])"
   ]
  },
  {
   "cell_type": "markdown",
   "id": "7",
   "metadata": {},
   "source": [
    "## Turbine specific boundaries\n",
    "Boundaries can be based on multiplier of turbine diameter or hub-height. It creates \"layers\" of allowable regions for the different turbine types. Types can be mixed thoughout the farm and the constraint component can be used for descrete turbine type optimization.\n",
    "\n",
    "Boundaries can be polygons as previously and also lines which then will be extruded based on the turbine geometry. Polygons already extruded from a line with a given buffer, b_ref can also be passed along with this reference value.\n"
   ]
  },
  {
   "cell_type": "code",
   "execution_count": null,
   "id": "8",
   "metadata": {},
   "outputs": [],
   "source": [
    "# Inclusion zone\n",
    "b1 = np.transpose(([0, 3000, 3000, 0], [0, 0, 3000, 3000]))\n",
    "\n",
    "# Buildings\n",
    "b2 = np.transpose(([600, 1400, 1400, 600], [1700, 1700, 2500, 2500]))\n",
    "\n",
    "# River\n",
    "b3 = np.transpose((np.linspace(520, 2420, 16), [   0,  133,  266,  400,  500,  600,  700,  733, 866, 1300, 1633,\n",
    "       2100, 2400, 2533, 2700, 3000]))\n",
    "\n",
    "# Road\n",
    "b4 = np.transpose((np.linspace(0, 3000, 16), [1095, 1038, 1110, 1006, 1028,  992,  977, 1052, 1076, 1064, 1073,\n",
    "       1027,  964,  981, 1015, 1058]))\n",
    "\n",
    "zones = [\n",
    "    InclusionZone(b1, name='i1'),\n",
    "    ExclusionZone(b2, dist2wt=lambda H: 4 * H - 360, name='building'),\n",
    "    ExclusionZone(b3, geometry_type='line', dist2wt=lambda D: 3 * D, name='river'),\n",
    "    ExclusionZone(b4, geometry_type='line', dist2wt=lambda D, H: max(D * 2, H * 3), name='road'),\n",
    "]\n"
   ]
  },
  {
   "cell_type": "markdown",
   "id": "9",
   "metadata": {},
   "source": [
    "## Include in optimization problem"
   ]
  },
  {
   "cell_type": "code",
   "execution_count": null,
   "id": "10",
   "metadata": {},
   "outputs": [],
   "source": [
    "x_min, x_max = 0, 3000\n",
    "y_min, y_max = 0, 3000\n",
    "wfm = BastankhahGaussian(Hornsrev1Site(), wts)\n",
    "wt_x, wt_y = np.meshgrid(np.linspace(1000, 2500, 4), \n",
    "                            np.linspace(500, 1500, 4))\n",
    "wt_x = wt_x.ravel()\n",
    "wt_y = wt_y.ravel()\n",
    "n_wt = len(wt_x)\n",
    "\n",
    "xybound = XYBoundaryConstraint(zones, turbines=wts, boundary_type='turbine_specific')\n",
    "\n",
    "t = 0\n",
    "types = t * np.ones(n_wt)\n",
    "def aep_func(x, y):\n",
    "    simres = wfm(x, y, type=types)\n",
    "    aep = simres.aep(normalize_probabilities=True).values.sum()\n",
    "    return aep\n",
    "\n",
    "def dAEPdxy(**kwargs):\n",
    "    return wfm.aep_gradients(gradient_method=autograd, wrt_arg=['x', 'y'], n_cpu=None, **kwargs)\n",
    "\n",
    "def daep(**kwargs):\n",
    "    return dAEPdxy(x=kwargs[topfarm.x_key],\n",
    "                    y=kwargs[topfarm.y_key])\n",
    "\n",
    "cost_comp = CostModelComponent(input_keys=[('x', wt_x),('y', wt_y)],\n",
    "                                          n_wt=len(wt_y),\n",
    "                                          cost_function=aep_func,\n",
    "                                          cost_gradient_function=daep,\n",
    "                                          objective=True,\n",
    "                                          maximize=True,\n",
    "                                          output_keys=[('AEP', 0)]\n",
    "                                          )\n",
    "problem = TopFarmProblem(design_vars={'x': (wt_x, x_min+1, x_max-1),\n",
    "                                      'y': (wt_y, y_min+1, y_max-1)},\n",
    "                        constraints=[xybound, SpacingConstraint(240)],\n",
    "                        cost_comp=cost_comp,\n",
    "                        driver=EasyScipyOptimizeDriver(optimizer='SLSQP', maxiter=30),\n",
    "                        plot_comp=XYPlotComp(),\n",
    "                        expected_cost=1e-4)"
   ]
  },
  {
   "cell_type": "code",
   "execution_count": null,
   "id": "11",
   "metadata": {},
   "outputs": [],
   "source": [
    "cost, state, recorder = problem.optimize(disp=True)"
   ]
  },
  {
   "cell_type": "code",
   "execution_count": null,
   "id": "12",
   "metadata": {},
   "outputs": [],
   "source": [
    "ts_bounds = problem.model.constraint_group.xy_bound_comp.ts_merged_xy_boundaries[t]\n",
    "plt.figure()\n",
    "for b, _ in ts_bounds:\n",
    "    plt.plot(np.append(b[:,0], b[0,0]), np.append(b[:,1], b[0,1]))\n",
    "    plt.plot(state['x'], state['y'], '2k')\n",
    "plt.axis('equal')"
   ]
  }
 ],
 "metadata": {
  "language_info": {
   "codemirror_mode": {
    "name": "ipython",
    "version": 3
   },
   "file_extension": ".py",
   "mimetype": "text/x-python",
   "name": "python",
   "nbconvert_exporter": "python",
   "pygments_lexer": "ipython3"
  }
 },
 "nbformat": 4,
 "nbformat_minor": 5
}
