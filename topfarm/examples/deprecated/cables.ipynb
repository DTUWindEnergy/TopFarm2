{
 "cells": [
  {
   "cell_type": "markdown",
   "metadata": {},
   "source": [
    "## Cables"
   ]
  },
  {
   "cell_type": "markdown",
   "metadata": {},
   "source": [
    "[Try this yourself](https://colab.research.google.com/github/DTUWindEnergy/TopFarm2/blob/master/docs/notebooks/cables.ipynb) (requires google account)\n"
   ]
  },
  {
   "cell_type": "markdown",
   "metadata": {},
   "source": [
    "TOPFARM can use the Electrical Network Design package EDWIN to optimize the carray cabels as well as the substation position at each iteration of the layout optimization"
   ]
  },
  {
   "cell_type": "markdown",
   "metadata": {},
   "source": [
    "**Install TOPFARM if needed**"
   ]
  },
  {
   "cell_type": "code",
   "execution_count": 1,
   "metadata": {},
   "outputs": [],
   "source": [
    "# Install TopFarm if needed\n",
    "import importlib\n",
    "if not importlib.util.find_spec(\"topfarm\"):\n",
    "    !pip install git+https://gitlab.windenergy.dtu.dk/TOPFARM/TopFarm2.git"
   ]
  },
  {
   "cell_type": "code",
   "execution_count": 2,
   "metadata": {},
   "outputs": [
    {
     "name": "stdout",
     "output_type": "stream",
     "text": [
      "\u001b[33mDEPRECATION: git+https://gitlab.windenergy.dtu.dk/TOPFARM/edwin.git#egg=ed_win[interarray] contains an egg fragment with a non-PEP 508 name pip 25.0 will enforce this behaviour change. A possible replacement is to use the req @ url syntax, and remove the egg fragment. Discussion can be found at https://github.com/pypa/pip/issues/11617\u001b[0m\u001b[33m\n",
      "\u001b[0mCollecting ed_win (from ed_win[interarray])\n",
      "  Cloning https://gitlab.windenergy.dtu.dk/TOPFARM/edwin.git to /tmp/pip-install-746wbgen/ed-win_de5c08bd2d6c459b84aeb7d42fb490c1\n",
      "  Running command git clone --filter=blob:none --quiet https://gitlab.windenergy.dtu.dk/TOPFARM/edwin.git /tmp/pip-install-746wbgen/ed-win_de5c08bd2d6c459b84aeb7d42fb490c1\n",
      "  Resolved https://gitlab.windenergy.dtu.dk/TOPFARM/edwin.git to commit 517099b186a093556129aa75c968924861f9b9b1\n",
      "  Running command git submodule update --init --recursive -q\n",
      "  Preparing metadata (setup.py) ... \u001b[?25ldone\n",
      "\u001b[?25hRequirement already satisfied: networkx in /home/ernie/code/TopFarm2/.pixi/envs/default/lib/python3.12/site-packages (from ed_win->ed_win[interarray]) (3.5)\n",
      "Requirement already satisfied: matplotlib in /home/ernie/code/TopFarm2/.pixi/envs/default/lib/python3.12/site-packages (from ed_win->ed_win[interarray]) (3.10.3)\n",
      "Requirement already satisfied: shapely in /home/ernie/code/TopFarm2/.pixi/envs/default/lib/python3.12/site-packages (from ed_win->ed_win[interarray]) (2.1.1)\n",
      "Requirement already satisfied: numpy in /home/ernie/code/TopFarm2/.pixi/envs/default/lib/python3.12/site-packages (from ed_win->ed_win[interarray]) (2.3.2)\n",
      "Requirement already satisfied: xarray in /home/ernie/code/TopFarm2/.pixi/envs/default/lib/python3.12/site-packages (from ed_win->ed_win[interarray]) (2025.7.1)\n",
      "Requirement already satisfied: scipy in /home/ernie/code/TopFarm2/.pixi/envs/default/lib/python3.12/site-packages (from ed_win->ed_win[interarray]) (1.16.0)\n",
      "Collecting windIO (from ed_win->ed_win[interarray])\n",
      "  Downloading windio-2.0.0-py3-none-any.whl.metadata (14 kB)\n",
      "Collecting openpyxl (from ed_win->ed_win[interarray])\n",
      "  Using cached openpyxl-3.1.5-py2.py3-none-any.whl.metadata (2.5 kB)\n",
      "Collecting pony (from ed_win->ed_win[interarray])\n",
      "  Downloading pony-0.7.19-py3-none-any.whl.metadata (2.8 kB)\n",
      "Requirement already satisfied: pyyaml in /home/ernie/code/TopFarm2/.pixi/envs/default/lib/python3.12/site-packages (from ed_win->ed_win[interarray]) (6.0.2)\n",
      "Collecting utm (from ed_win->ed_win[interarray])\n",
      "  Downloading utm-0.8.1-py3-none-any.whl.metadata (5.2 kB)\n",
      "Collecting pyomo (from ed_win->ed_win[interarray])\n",
      "  Downloading pyomo-6.9.2-cp312-cp312-manylinux_2_17_x86_64.manylinux2014_x86_64.whl.metadata (8.2 kB)\n",
      "Collecting loguru (from ed_win->ed_win[interarray])\n",
      "  Downloading loguru-0.7.3-py3-none-any.whl.metadata (22 kB)\n",
      "Collecting numba (from ed_win->ed_win[interarray])\n",
      "  Downloading numba-0.61.2-cp312-cp312-manylinux2014_x86_64.manylinux_2_17_x86_64.whl.metadata (2.8 kB)\n",
      "Collecting ortools (from ed_win->ed_win[interarray])\n",
      "  Downloading ortools-9.14.6206-cp312-cp312-manylinux_2_27_x86_64.manylinux_2_28_x86_64.whl.metadata (3.3 kB)\n",
      "Collecting svg.py (from ed_win->ed_win[interarray])\n",
      "  Downloading svg_py-1.7.0-py3-none-any.whl.metadata (2.1 kB)\n",
      "Requirement already satisfied: contourpy>=1.0.1 in /home/ernie/code/TopFarm2/.pixi/envs/default/lib/python3.12/site-packages (from matplotlib->ed_win->ed_win[interarray]) (1.3.3)\n",
      "Requirement already satisfied: cycler>=0.10 in /home/ernie/code/TopFarm2/.pixi/envs/default/lib/python3.12/site-packages (from matplotlib->ed_win->ed_win[interarray]) (0.12.1)\n",
      "Requirement already satisfied: fonttools>=4.22.0 in /home/ernie/code/TopFarm2/.pixi/envs/default/lib/python3.12/site-packages (from matplotlib->ed_win->ed_win[interarray]) (4.59.0)\n",
      "Requirement already satisfied: kiwisolver>=1.3.1 in /home/ernie/code/TopFarm2/.pixi/envs/default/lib/python3.12/site-packages (from matplotlib->ed_win->ed_win[interarray]) (1.4.8)\n",
      "Requirement already satisfied: packaging>=20.0 in /home/ernie/code/TopFarm2/.pixi/envs/default/lib/python3.12/site-packages (from matplotlib->ed_win->ed_win[interarray]) (25.0)\n",
      "Requirement already satisfied: pillow>=8 in /home/ernie/code/TopFarm2/.pixi/envs/default/lib/python3.12/site-packages (from matplotlib->ed_win->ed_win[interarray]) (11.3.0)\n",
      "Requirement already satisfied: pyparsing>=2.3.1 in /home/ernie/code/TopFarm2/.pixi/envs/default/lib/python3.12/site-packages (from matplotlib->ed_win->ed_win[interarray]) (3.2.3)\n",
      "Requirement already satisfied: python-dateutil>=2.7 in /home/ernie/code/TopFarm2/.pixi/envs/default/lib/python3.12/site-packages (from matplotlib->ed_win->ed_win[interarray]) (2.9.0.post0)\n",
      "Collecting llvmlite<0.45,>=0.44.0dev0 (from numba->ed_win->ed_win[interarray])\n",
      "  Downloading llvmlite-0.44.0-cp312-cp312-manylinux_2_17_x86_64.manylinux2014_x86_64.whl.metadata (5.0 kB)\n",
      "Collecting numpy (from ed_win->ed_win[interarray])\n",
      "  Downloading numpy-2.2.6-cp312-cp312-manylinux_2_17_x86_64.manylinux2014_x86_64.whl.metadata (62 kB)\n",
      "Collecting et-xmlfile (from openpyxl->ed_win->ed_win[interarray])\n",
      "  Using cached et_xmlfile-2.0.0-py3-none-any.whl.metadata (2.7 kB)\n",
      "Collecting absl-py>=2.0.0 (from ortools->ed_win->ed_win[interarray])\n",
      "  Downloading absl_py-2.3.1-py3-none-any.whl.metadata (3.3 kB)\n",
      "Requirement already satisfied: pandas>=2.0.0 in /home/ernie/code/TopFarm2/.pixi/envs/default/lib/python3.12/site-packages (from ortools->ed_win->ed_win[interarray]) (2.3.1)\n",
      "Collecting protobuf<6.32,>=6.31.1 (from ortools->ed_win->ed_win[interarray])\n",
      "  Downloading protobuf-6.31.1-cp39-abi3-manylinux2014_x86_64.whl.metadata (593 bytes)\n",
      "Requirement already satisfied: typing-extensions>=4.12 in /home/ernie/code/TopFarm2/.pixi/envs/default/lib/python3.12/site-packages (from ortools->ed_win->ed_win[interarray]) (4.14.1)\n",
      "Collecting immutabledict>=3.0.0 (from ortools->ed_win->ed_win[interarray])\n",
      "  Using cached immutabledict-4.2.1-py3-none-any.whl.metadata (3.5 kB)\n",
      "Collecting ply (from pyomo->ed_win->ed_win[interarray])\n",
      "  Using cached ply-3.11-py2.py3-none-any.whl.metadata (844 bytes)\n",
      "Requirement already satisfied: jsonschema in /home/ernie/code/TopFarm2/.pixi/envs/default/lib/python3.12/site-packages (from windIO->ed_win->ed_win[interarray]) (4.25.0)\n",
      "Collecting ruamel.yaml (from windIO->ed_win->ed_win[interarray])\n",
      "  Downloading ruamel.yaml-0.18.14-py3-none-any.whl.metadata (24 kB)\n",
      "Requirement already satisfied: netcdf4 in /home/ernie/code/TopFarm2/.pixi/envs/default/lib/python3.12/site-packages (from windIO->ed_win->ed_win[interarray]) (1.7.2)\n",
      "Requirement already satisfied: pytz>=2020.1 in /home/ernie/code/TopFarm2/.pixi/envs/default/lib/python3.12/site-packages (from pandas>=2.0.0->ortools->ed_win->ed_win[interarray]) (2025.2)\n",
      "Requirement already satisfied: tzdata>=2022.7 in /home/ernie/code/TopFarm2/.pixi/envs/default/lib/python3.12/site-packages (from pandas>=2.0.0->ortools->ed_win->ed_win[interarray]) (2025.2)\n",
      "Requirement already satisfied: six>=1.5 in /home/ernie/code/TopFarm2/.pixi/envs/default/lib/python3.12/site-packages (from python-dateutil>=2.7->matplotlib->ed_win->ed_win[interarray]) (1.17.0)\n",
      "Requirement already satisfied: attrs>=22.2.0 in /home/ernie/code/TopFarm2/.pixi/envs/default/lib/python3.12/site-packages (from jsonschema->windIO->ed_win->ed_win[interarray]) (25.3.0)\n",
      "Requirement already satisfied: jsonschema-specifications>=2023.03.6 in /home/ernie/code/TopFarm2/.pixi/envs/default/lib/python3.12/site-packages (from jsonschema->windIO->ed_win->ed_win[interarray]) (2025.4.1)\n",
      "Requirement already satisfied: referencing>=0.28.4 in /home/ernie/code/TopFarm2/.pixi/envs/default/lib/python3.12/site-packages (from jsonschema->windIO->ed_win->ed_win[interarray]) (0.36.2)\n",
      "Requirement already satisfied: rpds-py>=0.7.1 in /home/ernie/code/TopFarm2/.pixi/envs/default/lib/python3.12/site-packages (from jsonschema->windIO->ed_win->ed_win[interarray]) (0.26.0)\n",
      "Requirement already satisfied: cftime in /home/ernie/code/TopFarm2/.pixi/envs/default/lib/python3.12/site-packages (from netcdf4->windIO->ed_win->ed_win[interarray]) (1.6.4)\n",
      "Requirement already satisfied: certifi in /home/ernie/code/TopFarm2/.pixi/envs/default/lib/python3.12/site-packages (from netcdf4->windIO->ed_win->ed_win[interarray]) (2025.7.14)\n",
      "Collecting ruamel.yaml.clib>=0.2.7 (from ruamel.yaml->windIO->ed_win->ed_win[interarray])\n",
      "  Downloading ruamel.yaml.clib-0.2.12-cp312-cp312-manylinux_2_17_x86_64.manylinux2014_x86_64.whl.metadata (2.7 kB)\n",
      "Downloading loguru-0.7.3-py3-none-any.whl (61 kB)\n",
      "Downloading numba-0.61.2-cp312-cp312-manylinux2014_x86_64.manylinux_2_17_x86_64.whl (3.9 MB)\n",
      "\u001b[2K   \u001b[38;2;114;156;31m━━━━━━━━━━━━━━━━━━━━━━━━━━━━━━━━━━━━━━━━\u001b[0m \u001b[32m3.9/3.9 MB\u001b[0m \u001b[31m14.7 MB/s\u001b[0m eta \u001b[36m0:00:00\u001b[0m MB/s\u001b[0m eta \u001b[36m0:00:01\u001b[0m\n",
      "\u001b[?25hDownloading numpy-2.2.6-cp312-cp312-manylinux_2_17_x86_64.manylinux2014_x86_64.whl (16.5 MB)\n",
      "\u001b[2K   \u001b[38;2;114;156;31m━━━━━━━━━━━━━━━━━━━━━━━━━━━━━━━━━━━━━━━━\u001b[0m \u001b[32m16.5/16.5 MB\u001b[0m \u001b[31m25.7 MB/s\u001b[0m eta \u001b[36m0:00:00\u001b[0m[36m0:00:01\u001b[0m[36m0:00:01\u001b[0m\n",
      "\u001b[?25hUsing cached openpyxl-3.1.5-py2.py3-none-any.whl (250 kB)\n",
      "Downloading ortools-9.14.6206-cp312-cp312-manylinux_2_27_x86_64.manylinux_2_28_x86_64.whl (27.7 MB)\n",
      "\u001b[2K   \u001b[38;2;114;156;31m━━━━━━━━━━━━━━━━━━━━━━━━━━━━━━━━━━━━━━━━\u001b[0m \u001b[32m27.7/27.7 MB\u001b[0m \u001b[31m9.0 MB/s\u001b[0m eta \u001b[36m0:00:00\u001b[0mm eta \u001b[36m0:00:01\u001b[0m0:01\u001b[0m:02\u001b[0m\n",
      "\u001b[?25hDownloading pony-0.7.19-py3-none-any.whl (317 kB)\n",
      "Downloading pyomo-6.9.2-cp312-cp312-manylinux_2_17_x86_64.manylinux2014_x86_64.whl (4.2 MB)\n",
      "\u001b[2K   \u001b[38;2;114;156;31m━━━━━━━━━━━━━━━━━━━━━━━━━━━━━━━━━━━━━━━━\u001b[0m \u001b[32m4.2/4.2 MB\u001b[0m \u001b[31m22.4 MB/s\u001b[0m eta \u001b[36m0:00:00\u001b[0m\n",
      "\u001b[?25hDownloading svg_py-1.7.0-py3-none-any.whl (14 kB)\n",
      "Downloading utm-0.8.1-py3-none-any.whl (8.6 kB)\n",
      "Downloading windio-2.0.0-py3-none-any.whl (1.6 MB)\n",
      "\u001b[2K   \u001b[38;2;114;156;31m━━━━━━━━━━━━━━━━━━━━━━━━━━━━━━━━━━━━━━━━\u001b[0m \u001b[32m1.6/1.6 MB\u001b[0m \u001b[31m12.5 MB/s\u001b[0m eta \u001b[36m0:00:00\u001b[0m\n",
      "\u001b[?25hDownloading absl_py-2.3.1-py3-none-any.whl (135 kB)\n",
      "Using cached immutabledict-4.2.1-py3-none-any.whl (4.7 kB)\n",
      "Downloading llvmlite-0.44.0-cp312-cp312-manylinux_2_17_x86_64.manylinux2014_x86_64.whl (42.4 MB)\n",
      "\u001b[2K   \u001b[38;2;114;156;31m━━━━━━━━━━━━━━━━━━━━━━━━━━━━━━━━━━━━━━━━\u001b[0m \u001b[32m42.4/42.4 MB\u001b[0m \u001b[31m25.1 MB/s\u001b[0m eta \u001b[36m0:00:00\u001b[0m[36m0:00:01\u001b[0mm eta \u001b[36m0:00:01\u001b[0m\n",
      "\u001b[?25hDownloading protobuf-6.31.1-cp39-abi3-manylinux2014_x86_64.whl (321 kB)\n",
      "Using cached et_xmlfile-2.0.0-py3-none-any.whl (18 kB)\n",
      "Using cached ply-3.11-py2.py3-none-any.whl (49 kB)\n",
      "Downloading ruamel.yaml-0.18.14-py3-none-any.whl (118 kB)\n",
      "Downloading ruamel.yaml.clib-0.2.12-cp312-cp312-manylinux_2_17_x86_64.manylinux2014_x86_64.whl (754 kB)\n",
      "\u001b[2K   \u001b[38;2;114;156;31m━━━━━━━━━━━━━━━━━━━━━━━━━━━━━━━━━━━━━━━━\u001b[0m \u001b[32m754.1/754.1 kB\u001b[0m \u001b[31m24.1 MB/s\u001b[0m eta \u001b[36m0:00:00\u001b[0m\n",
      "\u001b[?25hBuilding wheels for collected packages: ed_win\n",
      "  Building wheel for ed_win (setup.py) ... \u001b[?25ldone\n",
      "\u001b[?25h  Created wheel for ed_win: filename=ed_win-1.1.0-py3-none-any.whl size=265782 sha256=a4df334d01a129e469976b960c025c084c4577278ef9e3fdbb43a87b3451e1da\n",
      "  Stored in directory: /tmp/pip-ephem-wheel-cache-i_4e_grh/wheels/dc/ef/33/6de3c3355f68f41028161e9a2096c6bcbeb8afb140128b44de\n",
      "Successfully built ed_win\n",
      "Installing collected packages: pony, ply, utm, svg.py, ruamel.yaml.clib, pyomo, protobuf, numpy, loguru, llvmlite, immutabledict, et-xmlfile, absl-py, ruamel.yaml, openpyxl, numba, ortools, windIO, ed_win\n",
      "  Attempting uninstall: numpy\n",
      "    Found existing installation: numpy 2.3.2\n",
      "    Uninstalling numpy-2.3.2:\n",
      "      Successfully uninstalled numpy-2.3.2\n",
      "Successfully installed absl-py-2.3.1 ed_win-1.1.0 et-xmlfile-2.0.0 immutabledict-4.2.1 llvmlite-0.44.0 loguru-0.7.3 numba-0.61.2 numpy-2.2.6 openpyxl-3.1.5 ortools-9.14.6206 ply-3.11 pony-0.7.19 protobuf-6.31.1 pyomo-6.9.2 ruamel.yaml-0.18.14 ruamel.yaml.clib-0.2.12 svg.py-1.7.0 utm-0.8.1 windIO-2.0.0\n"
     ]
    }
   ],
   "source": [
    "# Install EDWIN if needed\n",
    "import importlib\n",
    "if not importlib.util.find_spec(\"ed_win\"):\n",
    "    !pip install git+https://gitlab.windenergy.dtu.dk/TOPFARM/edwin.git#egg=ed_win[interarray]"
   ]
  },
  {
   "cell_type": "markdown",
   "metadata": {},
   "source": [
    "### Import"
   ]
  },
  {
   "cell_type": "code",
   "execution_count": 3,
   "metadata": {},
   "outputs": [
    {
     "ename": "ModuleNotFoundError",
     "evalue": "No module named 'windIO.utils'",
     "output_type": "error",
     "traceback": [
      "\u001b[31m---------------------------------------------------------------------------\u001b[39m",
      "\u001b[31mModuleNotFoundError\u001b[39m                       Traceback (most recent call last)",
      "\u001b[36mCell\u001b[39m\u001b[36m \u001b[39m\u001b[32mIn[3]\u001b[39m\u001b[32m, line 19\u001b[39m\n\u001b[32m     16\u001b[39m \u001b[38;5;28;01mfrom\u001b[39;00m\u001b[38;5;250m \u001b[39m\u001b[34;01mpy_wake\u001b[39;00m\u001b[38;5;250m \u001b[39m\u001b[38;5;28;01mimport\u001b[39;00m BastankhahGaussian\n\u001b[32m     17\u001b[39m \u001b[38;5;28;01mfrom\u001b[39;00m\u001b[38;5;250m \u001b[39m\u001b[34;01mpy_wake\u001b[39;00m\u001b[34;01m.\u001b[39;00m\u001b[34;01mexamples\u001b[39;00m\u001b[34;01m.\u001b[39;00m\u001b[34;01mdata\u001b[39;00m\u001b[34;01m.\u001b[39;00m\u001b[34;01mhornsrev1\u001b[39;00m\u001b[38;5;250m \u001b[39m\u001b[38;5;28;01mimport\u001b[39;00m Hornsrev1Site\n\u001b[32m---> \u001b[39m\u001b[32m19\u001b[39m \u001b[38;5;28;01mfrom\u001b[39;00m\u001b[38;5;250m \u001b[39m\u001b[34;01med_win\u001b[39;00m\u001b[34;01m.\u001b[39;00m\u001b[34;01mwind_farm_network\u001b[39;00m\u001b[38;5;250m \u001b[39m\u001b[38;5;28;01mimport\u001b[39;00m WindFarmNetwork\n",
      "\u001b[36mFile \u001b[39m\u001b[32m~/code/TopFarm2/.pixi/envs/default/lib/python3.12/site-packages/ed_win/wind_farm_network.py:12\u001b[39m\n\u001b[32m     10\u001b[39m \u001b[38;5;28;01mimport\u001b[39;00m\u001b[38;5;250m \u001b[39m\u001b[34;01mos\u001b[39;00m\n\u001b[32m     11\u001b[39m \u001b[38;5;28;01mimport\u001b[39;00m\u001b[38;5;250m \u001b[39m\u001b[34;01mxarray\u001b[39;00m\u001b[38;5;250m \u001b[39m\u001b[38;5;28;01mas\u001b[39;00m\u001b[38;5;250m \u001b[39m\u001b[34;01mxr\u001b[39;00m\n\u001b[32m---> \u001b[39m\u001b[32m12\u001b[39m \u001b[38;5;28;01mfrom\u001b[39;00m\u001b[38;5;250m \u001b[39m\u001b[34;01mwindIO\u001b[39;00m\u001b[34;01m.\u001b[39;00m\u001b[34;01mutils\u001b[39;00m\u001b[34;01m.\u001b[39;00m\u001b[34;01myml_utils\u001b[39;00m\u001b[38;5;250m \u001b[39m\u001b[38;5;28;01mimport\u001b[39;00m load_yaml, Loader\n\u001b[32m     13\u001b[39m \u001b[38;5;28;01mfrom\u001b[39;00m\u001b[38;5;250m \u001b[39m\u001b[34;01med_win\u001b[39;00m\u001b[34;01m.\u001b[39;00m\u001b[34;01mdrivers\u001b[39;00m\u001b[34;01m.\u001b[39;00m\u001b[34;01mdrivers_api\u001b[39;00m\u001b[38;5;250m \u001b[39m\u001b[38;5;28;01mimport\u001b[39;00m InterArray\n\u001b[32m     14\u001b[39m \u001b[38;5;28;01mfrom\u001b[39;00m\u001b[38;5;250m \u001b[39m\u001b[34;01med_win\u001b[39;00m\u001b[34;01m.\u001b[39;00m\u001b[34;01mdrivers\u001b[39;00m\u001b[34;01m.\u001b[39;00m\u001b[34;01minterarray\u001b[39;00m\u001b[34;01m.\u001b[39;00m\u001b[34;01minterface\u001b[39;00m\u001b[38;5;250m \u001b[39m\u001b[38;5;28;01mimport\u001b[39;00m assign_cables\n",
      "\u001b[31mModuleNotFoundError\u001b[39m: No module named 'windIO.utils'"
     ]
    }
   ],
   "source": [
    "import numpy as np\n",
    "from scipy.interpolate import RegularGridInterpolator\n",
    "import matplotlib.pyplot as plt\n",
    "\n",
    "from topfarm.constraint_components.spacing import SpacingConstraint\n",
    "from topfarm.constraint_components.boundary import XYBoundaryConstraint\n",
    "from topfarm.easy_drivers import EasyScipyOptimizeDriver\n",
    "from topfarm.cost_models.cost_model_wrappers import CostModelComponent\n",
    "from topfarm._topfarm import TopFarmProblem, TopFarmGroup\n",
    "from topfarm.cost_models.py_wake_wrapper import PyWakeAEPCostModelComponent\n",
    "from topfarm.plotting import XYPlotComp\n",
    "from topfarm.utils import plot_list_recorder\n",
    "# from topfarm.cost_models.economic_models.dtu_wind_cm_main import economic_evaluation\n",
    "\n",
    "from py_wake.examples.data.iea37._iea37 import IEA37_WindTurbines\n",
    "from py_wake import BastankhahGaussian\n",
    "from py_wake.examples.data.hornsrev1 import Hornsrev1Site\n",
    "\n",
    "from ed_win.wind_farm_network import WindFarmNetwork"
   ]
  },
  {
   "cell_type": "markdown",
   "metadata": {},
   "source": [
    "### Site"
   ]
  },
  {
   "cell_type": "code",
   "execution_count": null,
   "metadata": {},
   "outputs": [],
   "source": [
    "n_wt = 30\n",
    "initial = np.asarray([np.random.random(30)*6000, np.random.random(30)*-10000]).T\n",
    "x_init = initial[:,0]\n",
    "y_init = initial[:,1]\n",
    "boundary = np.array([(0, 0), (6000, 0), (6000, -10000), (0, -10000)])  # turbine boundaries\n",
    "drivers = [EasyScipyOptimizeDriver(maxiter=10)]\n",
    "windTurbines = IEA37_WindTurbines()\n",
    "site = Hornsrev1Site()\n",
    "wfm = BastankhahGaussian(site, windTurbines)\n"
   ]
  },
  {
   "cell_type": "markdown",
   "metadata": {},
   "source": [
    "### Bathymetry"
   ]
  },
  {
   "cell_type": "code",
   "execution_count": null,
   "metadata": {},
   "outputs": [],
   "source": [
    "sigma = 3000.0\n",
    "mu = 0.0\n",
    "\n",
    "x_peak_1 = 1000\n",
    "y_peak_1 = -1000\n",
    "x_peak_2 = 4000\n",
    "y_peak_2 = -8000\n",
    "x1, y1 = np.meshgrid(np.linspace(0 - x_peak_1, 6000- x_peak_1, 100), np.linspace(-10000 - y_peak_1, 0 - y_peak_1, 100))\n",
    "d1 = np.sqrt(x1*x1 + y1*y1)\n",
    "g1 = np.exp(-((d1 - mu)**2 / (2.0 * sigma**2)))\n",
    "x2, y2 = np.meshgrid(np.linspace(0 - x_peak_2, 6000- x_peak_2, 100), np.linspace(-10000 - y_peak_2, 0 - y_peak_2, 100))\n",
    "d2 = np.sqrt(x2*x2 + y2*y2)\n",
    "g2 = np.exp(-((d2 - mu)**2 / (2.0 * sigma**2)))\n",
    "g = 5 * g1 - 8 * g2 - 30\n",
    "\n",
    "plt.imshow(g, extent=(-1000, 7000, -11000, 1000), origin='lower', cmap='viridis')\n",
    "plt.colorbar()\n",
    "plt.title('2D Gaussian Function')\n",
    "plt.show()\n",
    "\n",
    "x = np.linspace(-1000, 7000, 100)\n",
    "y = np.linspace(-11000, 1000, 100)\n",
    "\n",
    "f = RegularGridInterpolator((x, y), g)"
   ]
  },
  {
   "cell_type": "markdown",
   "metadata": {},
   "source": [
    "### Cables"
   ]
  },
  {
   "cell_type": "code",
   "execution_count": null,
   "metadata": {},
   "outputs": [],
   "source": [
    "x_ss_init = x_init.mean()\n",
    "y_ss_init = y_init.mean()\n",
    "turbines_pos=np.asarray([x_init, y_init]).T\n",
    "substations_pos = np.asarray([[x_ss_init], [y_ss_init]]).T\n",
    "\n",
    "cables = np.array([[500, 3, 100], [800, 5, 150], [1000, 10, 250]])  # Here you set up cables [<cable cross section>, <number of turbines can be connected>, <price in € per meter>]\n",
    "\n",
    "wfn = WindFarmNetwork(turbines_pos=turbines_pos, substations_pos=substations_pos, cables=cables)\n",
    "G = wfn.optimize(turbines_pos)\n",
    "cable_cost_ref = G.size(weight=\"cost\")  # euro\n",
    "cable_length_ref = G.size(weight=\"length\")  # m\n",
    "cost_per_length_ref = cable_cost_ref / cable_length_ref # euro / m\n",
    "\n",
    "G.plot()"
   ]
  },
  {
   "cell_type": "markdown",
   "metadata": {},
   "source": [
    "### Economy"
   ]
  },
  {
   "cell_type": "code",
   "execution_count": null,
   "metadata": {},
   "outputs": [],
   "source": [
    "Drotor_vector = [windTurbines.diameter()] * n_wt\n",
    "power_rated_vector = [float(windTurbines.power(20))*1e-6] * n_wt\n",
    "hub_height_vector = [windTurbines.hub_height()] * n_wt\n",
    "\n",
    "# add additional cost model inputs for shore distance, energy price, project lifetime, rated rotor speed and water depth\n",
    "distance_from_shore = 30         # [km]\n",
    "energy_price = 0.1               # [Euro/kWh] What we get per kWh\n",
    "project_duration = 25            # [years]\n",
    "rated_rpm_array = [12] * n_wt    # [rpm]\n",
    "simres = wfm(x_init, y_init)\n",
    "aep = simres.aep().values.sum()\n",
    "CF = aep / (windTurbines.power(20)*1e-9 * 24*365*n_wt)\n",
    "\n",
    "eco_eval = economic_evaluation(distance_from_shore, energy_price, project_duration)\n",
    "npv_ref = eco_eval.calculate_npv(rated_rpm_array, Drotor_vector, power_rated_vector, hub_height_vector, 30, aep/n_wt * np.ones(n_wt)*10**6, cabling_cost=cable_cost_ref)"
   ]
  },
  {
   "cell_type": "markdown",
   "metadata": {},
   "source": [
    "### Python Functions"
   ]
  },
  {
   "cell_type": "code",
   "execution_count": null,
   "metadata": {},
   "outputs": [],
   "source": [
    "# Water Depth\n",
    "def water_depth_func(x, y, **kwargs):\n",
    "    xnew, ynew = np.meshgrid(x, y)\n",
    "    points = np.array([xnew.flatten(), ynew.flatten()]).T\n",
    "    return - np.diag(f(points).reshape(n_wt, n_wt).T)\n",
    "\n",
    "# Cables\n",
    "def cable_func(x, y, x_substation, y_substation, **kwargs):\n",
    "    G = wfn.optimize(turbines_pos= np.asarray([x, y]).T, substations_pos=np.asarray([[float(x_substation[0])], [float(y_substation[0])]]).T)\n",
    "    return G.size(weight=\"cost\"), {'cabling_length': G.size(weight=\"length\")}\n",
    "\n",
    "# Economy\n",
    "def npv_func(AEP, water_depth, cabling_cost, **kwargs):\n",
    "    eco_eval.calculate_npv(rated_rpm_array, Drotor_vector, power_rated_vector, hub_height_vector, water_depth, AEP/n_wt * np.ones(n_wt)*10**6, cabling_cost=cabling_cost)\n",
    "    eco_eval.calculate_irr(rated_rpm_array, Drotor_vector, power_rated_vector, hub_height_vector, water_depth, AEP/n_wt * np.ones(n_wt)*10**6, cabling_cost=cabling_cost)\n",
    "    CAPEX = eco_eval.project_costs_sums[\"CAPEX\"]\n",
    "    OPEX = eco_eval.project_costs_sums[\"OPEX\"]\n",
    "    return eco_eval.NPV, {'irr': eco_eval.IRR,\n",
    "                          'OPEX': OPEX,\n",
    "                          'CAPEX': CAPEX,}\n"
   ]
  },
  {
   "cell_type": "markdown",
   "metadata": {},
   "source": [
    "### Components"
   ]
  },
  {
   "cell_type": "code",
   "execution_count": null,
   "metadata": {},
   "outputs": [],
   "source": [
    "# Water Depth\n",
    "water_depth_component = CostModelComponent(input_keys=[('x', x_init),('y', y_init)],\n",
    "                                          n_wt=n_wt,\n",
    "                                          cost_function=water_depth_func,\n",
    "                                          objective=False,\n",
    "                                          output_keys=[('water_depth', np.zeros(n_wt))])\n",
    "\n",
    "# Cables\n",
    "cable_component = CostModelComponent(input_keys=[('x', x_init),('y', y_init), ('x_substation', x_ss_init), ('y_substation', y_ss_init)],\n",
    "                                     n_wt=n_wt,\n",
    "                                     cost_function=cable_func,\n",
    "                                     objective=False,\n",
    "                                     output_keys=[('cabling_cost', 0)],\n",
    "                                     additional_output=[('cabling_length', 0)])\n",
    "\n",
    "# Economy\n",
    "npv_comp = CostModelComponent(input_keys=[('AEP', 0), ('water_depth', 30*np.ones(n_wt)), ('cabling_cost', 100000)],\n",
    "                              n_wt=n_wt,\n",
    "                              cost_function=npv_func,\n",
    "                              objective=True,\n",
    "                              maximize=True,\n",
    "                              output_keys=[('npv', 0)],\n",
    "                              additional_output=[('irr', 0),\n",
    "                                                 ('CAPEX', 0),\n",
    "                                                 ('OPEX', 0)])\n",
    "\n",
    "# AEP\n",
    "aep_comp = PyWakeAEPCostModelComponent(wfm, n_wt, objective=False)"
   ]
  },
  {
   "cell_type": "markdown",
   "metadata": {},
   "source": [
    "### Problem Assembly"
   ]
  },
  {
   "cell_type": "code",
   "execution_count": null,
   "metadata": {},
   "outputs": [],
   "source": [
    "cost_comp = TopFarmGroup([PyWakeAEPCostModelComponent(wfm, n_wt, objective=False), water_depth_component, cable_component, npv_comp])\n",
    "\n",
    "\n",
    "tf = TopFarmProblem(\n",
    "    design_vars=dict(zip('xy', initial.T), x_substation=x_ss_init, y_substation=y_ss_init),\n",
    "    cost_comp=cost_comp,\n",
    "    constraints=[XYBoundaryConstraint(boundary),\n",
    "                 SpacingConstraint(500)\n",
    "                 ],\n",
    "    driver=drivers[0],\n",
    "    plot_comp=XYPlotComp()\n",
    ")\n"
   ]
  },
  {
   "cell_type": "markdown",
   "metadata": {},
   "source": [
    "### Optimize"
   ]
  },
  {
   "cell_type": "code",
   "execution_count": null,
   "metadata": {},
   "outputs": [],
   "source": [
    "cost, _, recorder = tf.optimize()\n"
   ]
  },
  {
   "cell_type": "markdown",
   "metadata": {},
   "source": [
    "### Plot"
   ]
  },
  {
   "cell_type": "code",
   "execution_count": null,
   "metadata": {},
   "outputs": [],
   "source": [
    "plot_list_recorder(recorder)"
   ]
  },
  {
   "cell_type": "code",
   "execution_count": null,
   "metadata": {},
   "outputs": [],
   "source": [
    "x_opt = recorder['x'][-1]\n",
    "y_opt = recorder['y'][-1]\n",
    "x_sub_opt = recorder['x_substation'][-1]\n",
    "y_sub_opt = recorder['y_substation'][-1]\n",
    "G = wfn.optimize(np.asarray([x_opt, y_opt]).T, \n",
    "                 substations_pos=np.asarray([[float(x_sub_opt)], [float(y_sub_opt)]]).T,\n",
    "                 )\n",
    "G.plot()\n"
   ]
  },
  {
   "cell_type": "code",
   "execution_count": null,
   "metadata": {},
   "outputs": [],
   "source": []
  }
 ],
 "metadata": {
  "kernelspec": {
   "display_name": "Python 3",
   "language": "python",
   "name": "python3"
  },
  "language_info": {
   "codemirror_mode": {
    "name": "ipython",
    "version": 3
   },
   "file_extension": ".py",
   "mimetype": "text/x-python",
   "name": "python",
   "nbconvert_exporter": "python",
   "pygments_lexer": "ipython3",
   "version": "3.12.11"
  },
  "toc": {
   "base_numbering": 1,
   "nav_menu": {},
   "number_sections": true,
   "sideBar": true,
   "skip_h1_title": false,
   "title_cell": "Table of Contents",
   "title_sidebar": "Contents",
   "toc_cell": false,
   "toc_position": {},
   "toc_section_display": true,
   "toc_window_display": true
  }
 },
 "nbformat": 4,
 "nbformat_minor": 4
}
