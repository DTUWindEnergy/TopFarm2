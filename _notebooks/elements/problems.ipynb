{
 "cells": [
  {
   "cell_type": "markdown",
   "metadata": {},
   "source": [
    "# Problems\n",
    "In Topfarm the problem is the collection/container of components and drivers. Optimizing a problem is executing a workflow - finding the best feasible solution under a series of constraints using a specific driver, and initial conditions. To the problem is also attached a plotting routine so one can follow the optimization path as well as a recorder so that intermediate variable values are accessible after the optimization is finished. The Topfarm Problem inherits its fundamental nature from the OpenMDAO problem, and is being adapted so it can connect the given workflow with the driver. For example if the user specifies a boundary constraint and this is not supported by the driver, the Problem is equipped with a penalty component that will deter the driver giving unfeasible solutions. Or if your workflow does not have gradients for all components and a gradient based driver is specified, finite differencing is applied to obtain the gradients. "
   ]
  },
  {
   "cell_type": "markdown",
   "metadata": {},
   "source": [
    "**Jump to example in this notebook**:\n",
    "\n",
    "* [Turbine location optimization](#Turbine-location-optimization)\n",
    "\n",
    "Make sure you first run the code below in order to set up and initialize needed variables."
   ]
  },
  {
   "cell_type": "markdown",
   "metadata": {},
   "source": [
    "**First we install topfarm and import supporting libraries in Python numpy and matplotlib**"
   ]
  },
  {
   "cell_type": "code",
   "execution_count": 1,
   "metadata": {},
   "outputs": [],
   "source": [
    "%%capture\n",
    "try:  # install Topfarm if needed\n",
    "    import topfarm\n",
    "except ModuleNotFoundError:\n",
    "    !pip install topfarm\n",
    "import numpy as np"
   ]
  },
  {
   "cell_type": "code",
   "execution_count": 3,
   "metadata": {},
   "outputs": [],
   "source": [
    "# non-updating, inline plots\n",
    "#%matplotlib inline\n",
    "# ...or updating plots in new window\n",
    "%matplotlib qt"
   ]
  },
  {
   "cell_type": "code",
   "execution_count": 4,
   "metadata": {},
   "outputs": [],
   "source": [
    "import matplotlib.pyplot as plt "
   ]
  },
  {
   "cell_type": "markdown",
   "metadata": {},
   "source": [
    "**Next we import and initialize several functions and classes from Topfarm to set up the problem including:**\n",
    "* **TopFarmProblem - overall topfarm problem class to which the objectives, design variables, and constraints are added**\n",
    "* **EasyScipyOptimizeDriver - a subclass of ScipyOptimizeDriver which is configured for the given workflow**\n",
    "* **get_iea37_initial, get_iea37_constraints, get_iea37_cost - functions to get the initial layout, the constraints and the cost function for the IEA task 37 benchmark example**\n",
    "* **NoPlot, XYPlotComp - plotting components to visualize the results**"
   ]
  },
  {
   "cell_type": "code",
   "execution_count": 5,
   "metadata": {},
   "outputs": [],
   "source": [
    "from topfarm import TopFarmProblem\n",
    "from topfarm.easy_drivers import EasyScipyOptimizeDriver\n",
    "from topfarm.examples.iea37 import get_iea37_initial, get_iea37_constraints, get_iea37_cost\n",
    "from topfarm.plotting import NoPlot, XYPlotComp"
   ]
  },
  {
   "cell_type": "markdown",
   "metadata": {},
   "source": [
    "## Turbine location optimization\n",
    "\n",
    "This example optimizes the locations of the 9-turbine benchmark wind farm from IEA Task 37 using the provided initial locations and the `EasyScipyOptimizeDriver`. Details on the benchmark can be found in the following reference:  \n",
    "\n",
    "* Baker et al. (2019) \"Best Practices for Wake Model and Optimization Algorithm Selection in Wind Farm Layout Optimization\". AIAA 2019."
   ]
  },
  {
   "cell_type": "code",
   "execution_count": 12,
   "metadata": {},
   "outputs": [],
   "source": [
    "from topfarm.examples.iea37 import *\n",
    "def get_iea37_cost(n_wt=9, n_wd=16):\n",
    "    \"\"\"Cost component that wraps the IEA 37 AEP calculator\"\"\"\n",
    "    wd = np.linspace(0., 360., n_wd, endpoint=False)\n",
    "    site = IEA37Site(n_wt)\n",
    "    wind_turbines = IEA37_WindTurbines()\n",
    "    wake_model = IEA37SimpleBastankhahGaussian(site, wind_turbines)\n",
    "    aep_calc = PyWakeAEP(wake_model)\n",
    "    return aep_calc.get_TopFarm_cost_component(n_wt, wd=wd)\n"
   ]
  },
  {
   "cell_type": "code",
   "execution_count": 26,
   "metadata": {},
   "outputs": [],
   "source": [
    "def optimize_iea37_locs(n_wt, n_wd, driver, state=None):\n",
    "    \"\"\"\n",
    "    Parameters\n",
    "    ----------\n",
    "    - n_wt: int\n",
    "        Number of wind turbines\n",
    "\n",
    "    - n_wd: int\n",
    "        Number of wind directions to consider for the AEP\n",
    "        \n",
    "    - driver: TopfarmDriver instance\n",
    "        The optimization algorithm to use\n",
    "        \n",
    "    - state: dict(x=[], y=[]) [default=None]\n",
    "        State to start from the optimization\n",
    "    \n",
    "    Returns\n",
    "    -------\n",
    "    - state: The state after the optimization\n",
    "\n",
    "    \"\"\"\n",
    "    \n",
    "    initial = get_iea37_initial(n_wt)\n",
    "    design_vars = dict(zip('xy', (initial[:, :2]).T))\n",
    "    \n",
    "    tf = TopFarmProblem(\n",
    "            design_vars,\n",
    "            get_iea37_cost(n_wt, n_wd=n_wd),\n",
    "            constraints=get_iea37_constraints(n_wt),\n",
    "            driver=driver,\n",
    "            plot_comp=XYPlotComp())\n",
    "    \n",
    "    if not state:\n",
    "        _, state = tf.evaluate()\n",
    "        \n",
    "    _, state, _ = tf.optimize(state)\n",
    "    return state, "
   ]
  },
  {
   "cell_type": "code",
   "execution_count": 27,
   "metadata": {},
   "outputs": [],
   "source": [
    "state = optimize_iea37_locs(9, n_wd=16, EasyScipyOptimizeDriver(disp=False))"
   ]
  },
  {
   "cell_type": "markdown",
   "metadata": {},
   "source": [
    "The final optimized output is much lower than the value reported in Baker et al. (2019), which is 257.790 GWh. Moreover, the layout does not match the figures given in Appendix A in the same reference. This is due to the fact that the SLSQP optimizer was attracted to a local minimum. To find the global optimum, more advanced optimization procedures should be used. This benchmark is discussed in more detail in the validation report linked in TOPFARM's documentation."
   ]
  },
  {
   "cell_type": "code",
   "execution_count": 15,
   "metadata": {},
   "outputs": [
    {
     "data": {
      "text/plain": [
       "{'x': array([-680.80198103, -854.32314245, -695.66777104,   89.8040452 ,\n",
       "          11.54426432,  -64.22919445,  708.93660969,  860.87425685,\n",
       "         677.89454027]),\n",
       " 'y': array([-588.64986431,  283.07590553,  571.00468684, -895.50836595,\n",
       "           9.60717992,  897.70519161, -554.44466226, -262.4795496 ,\n",
       "         591.9957705 ])}"
      ]
     },
     "execution_count": 15,
     "metadata": {},
     "output_type": "execute_result"
    }
   ],
   "source": [
    "state"
   ]
  }
 ],
 "metadata": {
  "kernelspec": {
   "display_name": "Python 3",
   "language": "python",
   "name": "python3"
  },
  "language_info": {
   "codemirror_mode": {
    "name": "ipython",
    "version": 3
   },
   "file_extension": ".py",
   "mimetype": "text/x-python",
   "name": "python",
   "nbconvert_exporter": "python",
   "pygments_lexer": "ipython3",
   "version": "3.6.7"
  }
 },
 "nbformat": 4,
 "nbformat_minor": 4
}
